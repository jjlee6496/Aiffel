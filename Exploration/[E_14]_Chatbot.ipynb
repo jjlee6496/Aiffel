{
 "cells": [
  {
   "cell_type": "code",
   "execution_count": 188,
   "metadata": {},
   "outputs": [
    {
     "name": "stdout",
     "output_type": "stream",
     "text": [
      "2.9.1\n"
     ]
    }
   ],
   "source": [
    "import tensorflow as tf\n",
    "import pandas as pd\n",
    "import numpy as np\n",
    "import re\n",
    "import matplotlib.pyplot as plt\n",
    "print(tf.__version__)"
   ]
  },
  {
   "cell_type": "code",
   "execution_count": 189,
   "metadata": {},
   "outputs": [
    {
     "data": {
      "text/plain": [
       "[name: \"/device:CPU:0\"\n",
       " device_type: \"CPU\"\n",
       " memory_limit: 268435456\n",
       " locality {\n",
       " }\n",
       " incarnation: 12909689981408216486\n",
       " xla_global_id: -1,\n",
       " name: \"/device:GPU:0\"\n",
       " device_type: \"GPU\"\n",
       " memory_limit: 14055112704\n",
       " locality {\n",
       "   bus_id: 1\n",
       "   links {\n",
       "   }\n",
       " }\n",
       " incarnation: 14611036222615008270\n",
       " physical_device_desc: \"device: 0, name: NVIDIA GeForce RTX 4080, pci bus id: 0000:01:00.0, compute capability: 8.9\"\n",
       " xla_global_id: 416903419]"
      ]
     },
     "execution_count": 189,
     "metadata": {},
     "output_type": "execute_result"
    }
   ],
   "source": [
    "from tensorflow.python.client import device_lib\n",
    "device_lib.list_local_devices()"
   ]
  },
  {
   "attachments": {},
   "cell_type": "markdown",
   "metadata": {},
   "source": [
    "# Step 1. 데이터 수집하기"
   ]
  },
  {
   "cell_type": "code",
   "execution_count": 190,
   "metadata": {},
   "outputs": [
    {
     "data": {
      "text/html": [
       "<div>\n",
       "<style scoped>\n",
       "    .dataframe tbody tr th:only-of-type {\n",
       "        vertical-align: middle;\n",
       "    }\n",
       "\n",
       "    .dataframe tbody tr th {\n",
       "        vertical-align: top;\n",
       "    }\n",
       "\n",
       "    .dataframe thead th {\n",
       "        text-align: right;\n",
       "    }\n",
       "</style>\n",
       "<table border=\"1\" class=\"dataframe\">\n",
       "  <thead>\n",
       "    <tr style=\"text-align: right;\">\n",
       "      <th></th>\n",
       "      <th>Q</th>\n",
       "      <th>A</th>\n",
       "      <th>label</th>\n",
       "    </tr>\n",
       "  </thead>\n",
       "  <tbody>\n",
       "    <tr>\n",
       "      <th>0</th>\n",
       "      <td>12시 땡!</td>\n",
       "      <td>하루가 또 가네요.</td>\n",
       "      <td>0</td>\n",
       "    </tr>\n",
       "    <tr>\n",
       "      <th>1</th>\n",
       "      <td>1지망 학교 떨어졌어</td>\n",
       "      <td>위로해 드립니다.</td>\n",
       "      <td>0</td>\n",
       "    </tr>\n",
       "    <tr>\n",
       "      <th>2</th>\n",
       "      <td>3박4일 놀러가고 싶다</td>\n",
       "      <td>여행은 언제나 좋죠.</td>\n",
       "      <td>0</td>\n",
       "    </tr>\n",
       "    <tr>\n",
       "      <th>3</th>\n",
       "      <td>3박4일 정도 놀러가고 싶다</td>\n",
       "      <td>여행은 언제나 좋죠.</td>\n",
       "      <td>0</td>\n",
       "    </tr>\n",
       "    <tr>\n",
       "      <th>4</th>\n",
       "      <td>PPL 심하네</td>\n",
       "      <td>눈살이 찌푸려지죠.</td>\n",
       "      <td>0</td>\n",
       "    </tr>\n",
       "  </tbody>\n",
       "</table>\n",
       "</div>"
      ],
      "text/plain": [
       "                 Q            A  label\n",
       "0           12시 땡!   하루가 또 가네요.      0\n",
       "1      1지망 학교 떨어졌어    위로해 드립니다.      0\n",
       "2     3박4일 놀러가고 싶다  여행은 언제나 좋죠.      0\n",
       "3  3박4일 정도 놀러가고 싶다  여행은 언제나 좋죠.      0\n",
       "4          PPL 심하네   눈살이 찌푸려지죠.      0"
      ]
     },
     "metadata": {},
     "output_type": "display_data"
    },
    {
     "name": "stdout",
     "output_type": "stream",
     "text": [
      "데이터셋 개수:  11823\n"
     ]
    }
   ],
   "source": [
    "data = pd.read_csv('./data/transformer_chatbot/ChatbotData.csv')\n",
    "display(data.head())\n",
    "print('데이터셋 개수: ',len(data))"
   ]
  },
  {
   "attachments": {},
   "cell_type": "markdown",
   "metadata": {},
   "source": [
    "# Step 2. 데이터 전처리하기"
   ]
  },
  {
   "cell_type": "code",
   "execution_count": 191,
   "metadata": {},
   "outputs": [
    {
     "data": {
      "text/html": [
       "<div>\n",
       "<style scoped>\n",
       "    .dataframe tbody tr th:only-of-type {\n",
       "        vertical-align: middle;\n",
       "    }\n",
       "\n",
       "    .dataframe tbody tr th {\n",
       "        vertical-align: top;\n",
       "    }\n",
       "\n",
       "    .dataframe thead th {\n",
       "        text-align: right;\n",
       "    }\n",
       "</style>\n",
       "<table border=\"1\" class=\"dataframe\">\n",
       "  <thead>\n",
       "    <tr style=\"text-align: right;\">\n",
       "      <th></th>\n",
       "      <th>Q</th>\n",
       "      <th>A</th>\n",
       "      <th>label</th>\n",
       "    </tr>\n",
       "  </thead>\n",
       "  <tbody>\n",
       "    <tr>\n",
       "      <th>0</th>\n",
       "      <td>&lt;sos&gt; 시 땡 ! &lt;eos&gt;</td>\n",
       "      <td>&lt;sos&gt; 하루가 또 가네요 . &lt;eos&gt;</td>\n",
       "      <td>0</td>\n",
       "    </tr>\n",
       "    <tr>\n",
       "      <th>1</th>\n",
       "      <td>&lt;sos&gt; 지망 학교 떨어졌어 &lt;eos&gt;</td>\n",
       "      <td>&lt;sos&gt; 위로해 드립니다 . &lt;eos&gt;</td>\n",
       "      <td>0</td>\n",
       "    </tr>\n",
       "    <tr>\n",
       "      <th>2</th>\n",
       "      <td>&lt;sos&gt; 박 일 놀러가고 싶다 &lt;eos&gt;</td>\n",
       "      <td>&lt;sos&gt; 여행은 언제나 좋죠 . &lt;eos&gt;</td>\n",
       "      <td>0</td>\n",
       "    </tr>\n",
       "    <tr>\n",
       "      <th>3</th>\n",
       "      <td>&lt;sos&gt; 박 일 정도 놀러가고 싶다 &lt;eos&gt;</td>\n",
       "      <td>&lt;sos&gt; 여행은 언제나 좋죠 . &lt;eos&gt;</td>\n",
       "      <td>0</td>\n",
       "    </tr>\n",
       "    <tr>\n",
       "      <th>4</th>\n",
       "      <td>&lt;sos&gt; 심하네 &lt;eos&gt;</td>\n",
       "      <td>&lt;sos&gt; 눈살이 찌푸려지죠 . &lt;eos&gt;</td>\n",
       "      <td>0</td>\n",
       "    </tr>\n",
       "  </tbody>\n",
       "</table>\n",
       "</div>"
      ],
      "text/plain": [
       "                            Q                         A  label\n",
       "0           <sos> 시 땡 ! <eos>   <sos> 하루가 또 가네요 . <eos>      0\n",
       "1      <sos> 지망 학교 떨어졌어 <eos>    <sos> 위로해 드립니다 . <eos>      0\n",
       "2     <sos> 박 일 놀러가고 싶다 <eos>  <sos> 여행은 언제나 좋죠 . <eos>      0\n",
       "3  <sos> 박 일 정도 놀러가고 싶다 <eos>  <sos> 여행은 언제나 좋죠 . <eos>      0\n",
       "4             <sos> 심하네 <eos>   <sos> 눈살이 찌푸려지죠 . <eos>      0"
      ]
     },
     "execution_count": 191,
     "metadata": {},
     "output_type": "execute_result"
    }
   ],
   "source": [
    "def preprocess_sentence(sentence):\n",
    "    sentence = sentence.strip()\n",
    "    # 단어와 구두점(punctuation) 사이의 거리를 만듭니다.\n",
    "    # 예를 들어서 \"I am a student.\" => \"I am a student .\"와 같이\n",
    "    # student와 온점 사이에 거리를 만듭니다.\n",
    "    sentence = re.sub(r\"([?.!,])\", r\" \\1 \", sentence)\n",
    "    sentence = re.sub(r'[\" \"]+', \" \", sentence)\n",
    "\n",
    "    # (한글, \".\", \"?\", \"!\", \",\")를 제외한 모든 문자를 공백인 ' '로 대체합니다.\n",
    "    sentence = re.sub(r\"[^ㄱ-ㅎ가-힣?.!,]+\", \" \", sentence)\n",
    "    sentence = sentence.strip()\n",
    "    return sentence\n",
    "\n",
    "data['Q'] = data['Q'].apply(lambda x:  '<sos> '+ preprocess_sentence(x) + ' <eos>')\n",
    "data['A'] = data['A'].apply(lambda x: '<sos> ' + preprocess_sentence(x) + ' <eos>')\n",
    "data.head()"
   ]
  },
  {
   "cell_type": "code",
   "execution_count": 192,
   "metadata": {},
   "outputs": [],
   "source": [
    "questions, answers = list(data['Q']), list(data['A'])"
   ]
  },
  {
   "cell_type": "code",
   "execution_count": 193,
   "metadata": {},
   "outputs": [
    {
     "name": "stdout",
     "output_type": "stream",
     "text": [
      "전처리 후의 22번째 질문 샘플: <sos> 가스비 장난 아님 <eos>\n",
      "전처리 후의 22번째 답변 샘플: <sos> 다음 달에는 더 절약해봐요 . <eos>\n"
     ]
    }
   ],
   "source": [
    "print('전처리 후의 22번째 질문 샘플: {}'.format(questions[21]))\n",
    "print('전처리 후의 22번째 답변 샘플: {}'.format(answers[21]))"
   ]
  },
  {
   "attachments": {},
   "cell_type": "markdown",
   "metadata": {},
   "source": [
    "# Step 3. SubwordTextEncoder 사용하기"
   ]
  },
  {
   "attachments": {},
   "cell_type": "markdown",
   "metadata": {},
   "source": [
    "tensorflow-gpu와 tensorflow-datasets의 호환이 잘 안맞아서 keras.preprocessing.text의 Toknizer를 사용했다."
   ]
  },
  {
   "attachments": {},
   "cell_type": "markdown",
   "metadata": {},
   "source": [
    "## 문장 길이 정하기"
   ]
  },
  {
   "cell_type": "code",
   "execution_count": 194,
   "metadata": {},
   "outputs": [
    {
     "name": "stdout",
     "output_type": "stream",
     "text": [
      "질문의 최소 길이 : 13\n",
      "질문의 최대 길이 : 69\n",
      "질문의 평균 길이 : 25.17043051678931\n",
      "대답의 최소 길이 : 13\n",
      "대답의 최대 길이 : 90\n",
      "대답의 평균 길이 : 28.026135498604415\n"
     ]
    },
    {
     "data": {
      "image/png": "[encoded data removed]",
      "text/plain": [
       "<Figure size 640x480 with 2 Axes>"
      ]
     },
     "metadata": {},
     "output_type": "display_data"
    },
    {
     "data": {
      "image/png": "[encoded data removed]",
      "text/plain": [
       "<Figure size 640x480 with 1 Axes>"
      ]
     },
     "metadata": {},
     "output_type": "display_data"
    },
    {
     "data": {
      "image/png": "[encoded data removed]",
      "text/plain": [
       "<Figure size 640x480 with 1 Axes>"
      ]
     },
     "metadata": {},
     "output_type": "display_data"
    }
   ],
   "source": [
    "q_len = [len(s) for s in questions]\n",
    "a_len = [len(s) for s in answers]\n",
    "\n",
    "print('질문의 최소 길이 : {}'.format(np.min(q_len)))\n",
    "print('질문의 최대 길이 : {}'.format(np.max(q_len)))\n",
    "print('질문의 평균 길이 : {}'.format(np.mean(q_len)))\n",
    "print('대답의 최소 길이 : {}'.format(np.min(a_len)))\n",
    "print('대답의 최대 길이 : {}'.format(np.max(a_len)))\n",
    "print('대답의 평균 길이 : {}'.format(np.mean(a_len)))\n",
    "\n",
    "plt.subplot(1,2,1)\n",
    "plt.boxplot(q_len)\n",
    "plt.title('Question')\n",
    "plt.subplot(1,2,2)\n",
    "plt.boxplot(a_len)\n",
    "plt.title('Answer')\n",
    "plt.tight_layout()\n",
    "plt.show()\n",
    "\n",
    "plt.title('Question')\n",
    "plt.hist(q_len, bins = 40)\n",
    "plt.xlabel('length of samples')\n",
    "plt.ylabel('number of samples')\n",
    "plt.show()\n",
    "\n",
    "plt.title('Answer')\n",
    "plt.hist(a_len, bins = 40)\n",
    "plt.xlabel('length of samples')\n",
    "plt.ylabel('number of samples')\n",
    "plt.show()"
   ]
  },
  {
   "attachments": {},
   "cell_type": "markdown",
   "metadata": {},
   "source": [
    "* 질문의 평균 길이가 25.2 이고 최대길이가 69 이므로 40 정도로 설정\n",
    "* 대답의 평균길이가 28 이고 최대길이가 90 이므로 60 정도로 설정"
   ]
  },
  {
   "cell_type": "code",
   "execution_count": 195,
   "metadata": {},
   "outputs": [
    {
     "name": "stdout",
     "output_type": "stream",
     "text": [
      "전체 샘플 중 길이가 40 이하인 샘플의 비율: 0.9725112069694662\n",
      "전체 샘플 중 길이가 40 이하인 샘플의 비율: 0.9514505624629959\n"
     ]
    }
   ],
   "source": [
    "q_max_len = 40\n",
    "a_max_len = 40\n",
    "\n",
    "def below_threshold_len(max_len, nested_list):\n",
    "  cnt = 0\n",
    "  for s in nested_list:\n",
    "    if(len(s) <= max_len):\n",
    "        cnt = cnt + 1\n",
    "  print('전체 샘플 중 길이가 %s 이하인 샘플의 비율: %s'%(max_len, (cnt / len(nested_list))))\n",
    "\n",
    "below_threshold_len(q_max_len, questions)\n",
    "below_threshold_len(a_max_len,  answers)"
   ]
  },
  {
   "cell_type": "code",
   "execution_count": 196,
   "metadata": {},
   "outputs": [
    {
     "name": "stdout",
     "output_type": "stream",
     "text": [
      "길이 전처리 전 전체 샘플수 : 11823\n",
      "길이 전처리 후 전체 샘플수 : 10957\n"
     ]
    },
    {
     "data": {
      "text/html": [
       "<div>\n",
       "<style scoped>\n",
       "    .dataframe tbody tr th:only-of-type {\n",
       "        vertical-align: middle;\n",
       "    }\n",
       "\n",
       "    .dataframe tbody tr th {\n",
       "        vertical-align: top;\n",
       "    }\n",
       "\n",
       "    .dataframe thead th {\n",
       "        text-align: right;\n",
       "    }\n",
       "</style>\n",
       "<table border=\"1\" class=\"dataframe\">\n",
       "  <thead>\n",
       "    <tr style=\"text-align: right;\">\n",
       "      <th></th>\n",
       "      <th>Q</th>\n",
       "      <th>A</th>\n",
       "      <th>label</th>\n",
       "    </tr>\n",
       "  </thead>\n",
       "  <tbody>\n",
       "    <tr>\n",
       "      <th>0</th>\n",
       "      <td>&lt;sos&gt; 시 땡 ! &lt;eos&gt;</td>\n",
       "      <td>&lt;sos&gt; 하루가 또 가네요 . &lt;eos&gt;</td>\n",
       "      <td>0</td>\n",
       "    </tr>\n",
       "    <tr>\n",
       "      <th>1</th>\n",
       "      <td>&lt;sos&gt; 지망 학교 떨어졌어 &lt;eos&gt;</td>\n",
       "      <td>&lt;sos&gt; 위로해 드립니다 . &lt;eos&gt;</td>\n",
       "      <td>0</td>\n",
       "    </tr>\n",
       "    <tr>\n",
       "      <th>2</th>\n",
       "      <td>&lt;sos&gt; 박 일 놀러가고 싶다 &lt;eos&gt;</td>\n",
       "      <td>&lt;sos&gt; 여행은 언제나 좋죠 . &lt;eos&gt;</td>\n",
       "      <td>0</td>\n",
       "    </tr>\n",
       "    <tr>\n",
       "      <th>3</th>\n",
       "      <td>&lt;sos&gt; 박 일 정도 놀러가고 싶다 &lt;eos&gt;</td>\n",
       "      <td>&lt;sos&gt; 여행은 언제나 좋죠 . &lt;eos&gt;</td>\n",
       "      <td>0</td>\n",
       "    </tr>\n",
       "    <tr>\n",
       "      <th>4</th>\n",
       "      <td>&lt;sos&gt; 심하네 &lt;eos&gt;</td>\n",
       "      <td>&lt;sos&gt; 눈살이 찌푸려지죠 . &lt;eos&gt;</td>\n",
       "      <td>0</td>\n",
       "    </tr>\n",
       "  </tbody>\n",
       "</table>\n",
       "</div>"
      ],
      "text/plain": [
       "                            Q                         A  label\n",
       "0           <sos> 시 땡 ! <eos>   <sos> 하루가 또 가네요 . <eos>      0\n",
       "1      <sos> 지망 학교 떨어졌어 <eos>    <sos> 위로해 드립니다 . <eos>      0\n",
       "2     <sos> 박 일 놀러가고 싶다 <eos>  <sos> 여행은 언제나 좋죠 . <eos>      0\n",
       "3  <sos> 박 일 정도 놀러가고 싶다 <eos>  <sos> 여행은 언제나 좋죠 . <eos>      0\n",
       "4             <sos> 심하네 <eos>   <sos> 눈살이 찌푸려지죠 . <eos>      0"
      ]
     },
     "execution_count": 196,
     "metadata": {},
     "output_type": "execute_result"
    }
   ],
   "source": [
    "print('길이 전처리 전 전체 샘플수 :', (len(data)))\n",
    "data = data[data['Q'].apply(lambda x: len(x) <= q_max_len)]\n",
    "data = data[data['A'].apply(lambda x: len(x) <= a_max_len)]\n",
    "print('길이 전처리 후 전체 샘플수 :', (len(data)))\n",
    "questions, answers = list(data['Q']), list(data['A'])\n",
    "data.head()"
   ]
  },
  {
   "attachments": {},
   "cell_type": "markdown",
   "metadata": {},
   "source": [
    "## 인코딩 및 패딩"
   ]
  },
  {
   "cell_type": "code",
   "execution_count": 197,
   "metadata": {},
   "outputs": [],
   "source": [
    "from tensorflow.keras.preprocessing.text import Tokenizer\n",
    "from tensorflow.keras.utils import to_categorical\n",
    "\n",
    "tokenizer = Tokenizer()\n",
    "tokenizer.fit_on_texts(questions+answers)"
   ]
  },
  {
   "cell_type": "code",
   "execution_count": 198,
   "metadata": {},
   "outputs": [
    {
     "name": "stdout",
     "output_type": "stream",
     "text": [
      "단어 집합(vocabulary)의 크기 : 18843\n",
      "등장 빈도가 1번 이하인 희귀 단어의 수: 10174\n",
      "단어 집합에서 희귀 단어를 제외시킬 경우의 단어 집합의 크기 8669\n",
      "단어 집합에서 희귀 단어의 비율: 53.993525447115644\n",
      "전체 등장 빈도에서 희귀 단어 등장 빈도 비율: 8.545989080218396\n"
     ]
    }
   ],
   "source": [
    "threshold = 2\n",
    "total_cnt = len(tokenizer.word_index) # 단어의 수\n",
    "rare_cnt = 0 # 등장 빈도수가 threshold보다 작은 단어의 개수를 카운트\n",
    "total_freq = 0 # 훈련 데이터의 전체 단어 빈도수 총 합\n",
    "rare_freq = 0 # 등장 빈도수가 threshold보다 작은 단어의 등장 빈도수의 총 합\n",
    "\n",
    "# 단어와 빈도수의 쌍(pair)을 key와 value로 받는다.\n",
    "for key, value in tokenizer.word_counts.items():\n",
    "    total_freq = total_freq + value\n",
    "\n",
    "    # 단어의 등장 빈도수가 threshold보다 작으면\n",
    "    if(value < threshold):\n",
    "        rare_cnt = rare_cnt + 1\n",
    "        rare_freq = rare_freq + value\n",
    "\n",
    "print('단어 집합(vocabulary)의 크기 :', total_cnt)\n",
    "print('등장 빈도가 %s번 이하인 희귀 단어의 수: %s'%(threshold - 1, rare_cnt))\n",
    "print('단어 집합에서 희귀 단어를 제외시킬 경우의 단어 집합의 크기 %s'%(total_cnt - rare_cnt))\n",
    "print(\"단어 집합에서 희귀 단어의 비율:\", (rare_cnt / total_cnt)*100)\n",
    "print(\"전체 등장 빈도에서 희귀 단어 등장 빈도 비율:\", (rare_freq / total_freq)*100)"
   ]
  },
  {
   "attachments": {},
   "cell_type": "markdown",
   "metadata": {},
   "source": [
    "희귀 단어의 threshold는 2가 적당해 보인다. 따라서 희귀단어를 제외시킬 경우의 단어 집합의 크기를 따라 vocab_size를 8669로 정해주겠다."
   ]
  },
  {
   "attachments": {},
   "cell_type": "markdown",
   "metadata": {},
   "source": [
    "vocabsize 전처리 참고: https://github.com/keras-team/keras/issues/8092"
   ]
  },
  {
   "cell_type": "code",
   "execution_count": 199,
   "metadata": {},
   "outputs": [],
   "source": [
    "# 시작 토큰, 종료 토큰 고려, + 2를 하여 단어장의 크기를 산정합니다.\n",
    "VOCAB_SIZE = 8669 + 2\n",
    "tokenizer = Tokenizer( num_words=VOCAB_SIZE+1) # 단어 집합의 크기를 10003으로 제한 (패딩 고려 ?)\n",
    "tokenizer.fit_on_texts(questions+answers) # 단어 집합 재생성\n",
    "\n",
    "# 정수 인코딩, 최대 길이를 초과하는 샘플 제거, 패딩\n",
    "def tokenize_and_filter(inputs, outputs):\n",
    "  # 정수 인코딩\n",
    "  sentence1 = tokenizer.texts_to_sequences(inputs)\n",
    "  sentence2 = tokenizer.texts_to_sequences(outputs)\n",
    "  \n",
    "  # 질문, 대답의 최대길이로 padding\n",
    "  tokenized_inputs = tf.keras.preprocessing.sequence.pad_sequences(\n",
    "      sentence1, maxlen=q_max_len, padding='post')\n",
    "  tokenized_outputs = tf.keras.preprocessing.sequence.pad_sequences(\n",
    "      sentence2, maxlen=a_max_len, padding='post')\n",
    "  \n",
    "  return tokenized_inputs, tokenized_outputs\n",
    "\n",
    "questions, answers = tokenize_and_filter(questions, answers)"
   ]
  },
  {
   "cell_type": "code",
   "execution_count": 200,
   "metadata": {},
   "outputs": [],
   "source": [
    "    sorted_by_word_count = sorted(tokenizer.word_counts.items(), key=lambda kv: kv[1], reverse=True)\n",
    "    tokenizer.word_index = {}\n",
    "    i = 0\n",
    "    for word,count in sorted_by_word_count:\n",
    "        if i == VOCAB_SIZE:\n",
    "            break\n",
    "        tokenizer.word_index[word] = i + 1    # <= because tokenizer is 1 indexed\n",
    "        i += 1"
   ]
  },
  {
   "cell_type": "code",
   "execution_count": 207,
   "metadata": {},
   "outputs": [
    {
     "name": "stdout",
     "output_type": "stream",
     "text": [
      "sos\n",
      "eos\n",
      "거예요\n",
      "너무\n",
      "수\n",
      "더\n",
      "잘\n",
      "거\n",
      "좋아하는\n",
      "많이\n",
      "것\n",
      "안\n",
      "좋은\n",
      "좀\n"
     ]
    }
   ],
   "source": [
    "for i in range(1,15):\n",
    "    print(tokenizer.index_word[i])"
   ]
  },
  {
   "cell_type": "code",
   "execution_count": 208,
   "metadata": {},
   "outputs": [
    {
     "name": "stdout",
     "output_type": "stream",
     "text": [
      "단어장의 크기 : 8672\n",
      "필터링 후의 질문 샘플 개수: 10957\n",
      "필터링 후의 답변 샘플 개수: 10957\n"
     ]
    }
   ],
   "source": [
    "print('단어장의 크기 :',(VOCAB_SIZE))\n",
    "print('필터링 후의 질문 샘플 개수: {}'.format(len(questions)))\n",
    "print('필터링 후의 답변 샘플 개수: {}'.format(len(answers)))"
   ]
  },
  {
   "cell_type": "code",
   "execution_count": 209,
   "metadata": {},
   "outputs": [],
   "source": [
    "BATCH_SIZE = 64\n",
    "BUFFER_SIZE = 20000\n",
    "\n",
    "# 디코더는 이전의 target을 다음의 input으로 사용합니다.\n",
    "# 이에 따라 outputs에서는 START_TOKEN을 제거하겠습니다.\n",
    "dataset = tf.data.Dataset.from_tensor_slices((\n",
    "    {\n",
    "        'inputs': questions,\n",
    "        'dec_inputs': answers[:, :-1]\n",
    "    },\n",
    "    {\n",
    "        'outputs': answers[:, 1:]\n",
    "    },\n",
    "))\n",
    "\n",
    "dataset = dataset.cache()\n",
    "dataset = dataset.shuffle(BUFFER_SIZE)\n",
    "dataset = dataset.batch(BATCH_SIZE)\n",
    "dataset = dataset.prefetch(tf.data.experimental.AUTOTUNE)"
   ]
  },
  {
   "attachments": {},
   "cell_type": "markdown",
   "metadata": {},
   "source": [
    "# Step 4. 모델 구성하기"
   ]
  },
  {
   "attachments": {},
   "cell_type": "markdown",
   "metadata": {},
   "source": [
    "## utils"
   ]
  },
  {
   "cell_type": "code",
   "execution_count": 210,
   "metadata": {},
   "outputs": [],
   "source": [
    "# 포지셔널 인코딩 레이어\n",
    "class PositionalEncoding(tf.keras.layers.Layer):\n",
    "\n",
    "  def __init__(self, position, d_model):\n",
    "    super(PositionalEncoding, self).__init__()\n",
    "    self.pos_encoding = self.positional_encoding(position, d_model)\n",
    "\n",
    "  def get_angles(self, position, i, d_model):\n",
    "    angles = 1 / tf.pow(10000, (2 * (i // 2)) / tf.cast(d_model, tf.float32))\n",
    "    return position * angles\n",
    "\n",
    "  def positional_encoding(self, position, d_model):\n",
    "    # 각도 배열 생성\n",
    "    angle_rads = self.get_angles(\n",
    "        position=tf.range(position, dtype=tf.float32)[:, tf.newaxis],\n",
    "        i=tf.range(d_model, dtype=tf.float32)[tf.newaxis, :],\n",
    "        d_model=d_model)\n",
    "\n",
    "    # 배열의 짝수 인덱스에는 sin 함수 적용\n",
    "    sines = tf.math.sin(angle_rads[:, 0::2])\n",
    "    # 배열의 홀수 인덱스에는 cosine 함수 적용\n",
    "    cosines = tf.math.cos(angle_rads[:, 1::2])\n",
    "\n",
    "    # sin과 cosine이 교차되도록 재배열\n",
    "    pos_encoding = tf.stack([sines, cosines], axis=0)\n",
    "    pos_encoding = tf.transpose(pos_encoding,[1, 2, 0]) \n",
    "    pos_encoding = tf.reshape(pos_encoding, [position, d_model])\n",
    "\n",
    "    pos_encoding = pos_encoding[tf.newaxis, ...]\n",
    "    return tf.cast(pos_encoding, tf.float32)\n",
    "\n",
    "  def call(self, inputs):\n",
    "    return inputs + self.pos_encoding[:, :tf.shape(inputs)[1], :]"
   ]
  },
  {
   "cell_type": "code",
   "execution_count": 211,
   "metadata": {},
   "outputs": [],
   "source": [
    "# 스케일드 닷 프로덕트 어텐션 함수\n",
    "def scaled_dot_product_attention(query, key, value, mask):\n",
    "  # 어텐션 가중치는 Q와 K의 닷 프로덕트\n",
    "  matmul_qk = tf.matmul(query, key, transpose_b=True)\n",
    "\n",
    "  # 가중치를 정규화\n",
    "  depth = tf.cast(tf.shape(key)[-1], tf.float32)\n",
    "  logits = matmul_qk / tf.math.sqrt(depth)\n",
    "\n",
    "  # 패딩에 마스크 추가\n",
    "  if mask is not None:\n",
    "    logits += (mask * -1e9)\n",
    "\n",
    "  # softmax적용\n",
    "  attention_weights = tf.nn.softmax(logits, axis=-1)\n",
    "\n",
    "  # 최종 어텐션은 가중치와 V의 닷 프로덕트\n",
    "  output = tf.matmul(attention_weights, value)\n",
    "  return output"
   ]
  },
  {
   "cell_type": "code",
   "execution_count": 212,
   "metadata": {},
   "outputs": [],
   "source": [
    "class MultiHeadAttention(tf.keras.layers.Layer):\n",
    "\n",
    "  def __init__(self, d_model, num_heads, name=\"multi_head_attention\"):\n",
    "    super(MultiHeadAttention, self).__init__(name=name)\n",
    "    self.num_heads = num_heads\n",
    "    self.d_model = d_model\n",
    "\n",
    "    assert d_model % self.num_heads == 0\n",
    "\n",
    "    self.depth = d_model // self.num_heads\n",
    "\n",
    "    self.query_dense = tf.keras.layers.Dense(units=d_model)\n",
    "    self.key_dense = tf.keras.layers.Dense(units=d_model)\n",
    "    self.value_dense = tf.keras.layers.Dense(units=d_model)\n",
    "\n",
    "    self.dense = tf.keras.layers.Dense(units=d_model)\n",
    "\n",
    "  def split_heads(self, inputs, batch_size):\n",
    "    inputs = tf.reshape(\n",
    "        inputs, shape=(batch_size, -1, self.num_heads, self.depth))\n",
    "    return tf.transpose(inputs, perm=[0, 2, 1, 3])\n",
    "\n",
    "  def call(self, inputs):\n",
    "    query, key, value, mask = inputs['query'], inputs['key'], inputs[\n",
    "        'value'], inputs['mask']\n",
    "    batch_size = tf.shape(query)[0]\n",
    "\n",
    "    # Q, K, V에 각각 Dense를 적용합니다\n",
    "    query = self.query_dense(query)\n",
    "    key = self.key_dense(key)\n",
    "    value = self.value_dense(value)\n",
    "\n",
    "    # 병렬 연산을 위한 머리를 여러 개 만듭니다\n",
    "    query = self.split_heads(query, batch_size)\n",
    "    key = self.split_heads(key, batch_size)\n",
    "    value = self.split_heads(value, batch_size)\n",
    "\n",
    "    # 스케일드 닷 프로덕트 어텐션 함수\n",
    "    scaled_attention = scaled_dot_product_attention(query, key, value, mask)\n",
    "\n",
    "    scaled_attention = tf.transpose(scaled_attention, perm=[0, 2, 1, 3])\n",
    "\n",
    "    # 어텐션 연산 후에 각 결과를 다시 연결(concatenate)합니다\n",
    "    concat_attention = tf.reshape(scaled_attention,\n",
    "                                  (batch_size, -1, self.d_model))\n",
    "\n",
    "    # 최종 결과에도 Dense를 한 번 더 적용합니다\n",
    "    outputs = self.dense(concat_attention)\n",
    "\n",
    "    return outputs"
   ]
  },
  {
   "cell_type": "code",
   "execution_count": 213,
   "metadata": {},
   "outputs": [],
   "source": [
    "def create_padding_mask(x):\n",
    "  mask = tf.cast(tf.math.equal(x, 0), tf.float32)\n",
    "  # (batch_size, 1, 1, sequence length)\n",
    "  return mask[:, tf.newaxis, tf.newaxis, :]"
   ]
  },
  {
   "cell_type": "code",
   "execution_count": 214,
   "metadata": {},
   "outputs": [],
   "source": [
    "def create_look_ahead_mask(x):\n",
    "  seq_len = tf.shape(x)[1]\n",
    "  look_ahead_mask = 1 - tf.linalg.band_part(tf.ones((seq_len, seq_len)), -1, 0)\n",
    "  padding_mask = create_padding_mask(x)\n",
    "  return tf.maximum(look_ahead_mask, padding_mask)"
   ]
  },
  {
   "cell_type": "code",
   "execution_count": 215,
   "metadata": {},
   "outputs": [],
   "source": [
    "def encoder_layer(units, d_model, num_heads, dropout, name=\"encoder_layer\"):\n",
    "  inputs = tf.keras.Input(shape=(None, d_model), name=\"inputs\")\n",
    "\n",
    "  # 패딩 마스크 사용\n",
    "  padding_mask = tf.keras.Input(shape=(1, 1, None), name=\"padding_mask\")\n",
    "\n",
    "  # 첫 번째 서브 레이어 : 멀티 헤드 어텐션 수행 (셀프 어텐션)\n",
    "  attention = MultiHeadAttention(\n",
    "      d_model, num_heads, name=\"attention\")({\n",
    "          'query': inputs,\n",
    "          'key': inputs,\n",
    "          'value': inputs,\n",
    "          'mask': padding_mask\n",
    "      })\n",
    "\n",
    "  # 어텐션의 결과는 Dropout과 Layer Normalization이라는 훈련을 돕는 테크닉을 수행\n",
    "  attention = tf.keras.layers.Dropout(rate=dropout)(attention)\n",
    "  attention = tf.keras.layers.LayerNormalization(\n",
    "      epsilon=1e-6)(inputs + attention)\n",
    "\n",
    "  # 두 번째 서브 레이어 : 2개의 완전연결층\n",
    "  outputs = tf.keras.layers.Dense(units=units, activation='relu')(attention)\n",
    "  outputs = tf.keras.layers.Dense(units=d_model)(outputs)\n",
    "\n",
    "  # 완전연결층의 결과는 Dropout과 LayerNormalization이라는 훈련을 돕는 테크닉을 수행\n",
    "  outputs = tf.keras.layers.Dropout(rate=dropout)(outputs)\n",
    "  outputs = tf.keras.layers.LayerNormalization(\n",
    "      epsilon=1e-6)(attention + outputs)\n",
    "\n",
    "  return tf.keras.Model(\n",
    "      inputs=[inputs, padding_mask], outputs=outputs, name=name)"
   ]
  },
  {
   "cell_type": "code",
   "execution_count": 216,
   "metadata": {},
   "outputs": [],
   "source": [
    "def encoder(vocab_size,\n",
    "            num_layers,\n",
    "            units,\n",
    "            d_model,\n",
    "            num_heads,\n",
    "            dropout,\n",
    "            name=\"encoder\"):\n",
    "  inputs = tf.keras.Input(shape=(None,), name=\"inputs\")\n",
    "\n",
    "  # 패딩 마스크 사용\n",
    "  padding_mask = tf.keras.Input(shape=(1, 1, None), name=\"padding_mask\")\n",
    "\n",
    "  # 임베딩 레이어\n",
    "  embeddings = tf.keras.layers.Embedding(vocab_size, d_model)(inputs)\n",
    "  embeddings *= tf.math.sqrt(tf.cast(d_model, tf.float32))\n",
    "\n",
    "  # 포지셔널 인코딩\n",
    "  embeddings = PositionalEncoding(vocab_size, d_model)(embeddings)\n",
    "\n",
    "  outputs = tf.keras.layers.Dropout(rate=dropout)(embeddings)\n",
    "\n",
    "  # num_layers만큼 쌓아올린 인코더의 층.\n",
    "  for i in range(num_layers):\n",
    "    outputs = encoder_layer(\n",
    "        units=units,\n",
    "        d_model=d_model,\n",
    "        num_heads=num_heads,\n",
    "        dropout=dropout,\n",
    "        name=\"encoder_layer_{}\".format(i),\n",
    "    )([outputs, padding_mask])\n",
    "\n",
    "  return tf.keras.Model(\n",
    "      inputs=[inputs, padding_mask], outputs=outputs, name=name)"
   ]
  },
  {
   "cell_type": "code",
   "execution_count": 217,
   "metadata": {},
   "outputs": [],
   "source": [
    "# 디코더 하나의 레이어를 함수로 구현.\n",
    "# 이 하나의 레이어 안에는 세 개의 서브 레이어가 존재합니다.\n",
    "def decoder_layer(units, d_model, num_heads, dropout, name=\"decoder_layer\"):\n",
    "  inputs = tf.keras.Input(shape=(None, d_model), name=\"inputs\")\n",
    "  enc_outputs = tf.keras.Input(shape=(None, d_model), name=\"encoder_outputs\")\n",
    "  look_ahead_mask = tf.keras.Input(\n",
    "      shape=(1, None, None), name=\"look_ahead_mask\")\n",
    "  padding_mask = tf.keras.Input(shape=(1, 1, None), name='padding_mask')\n",
    "\n",
    "  # 첫 번째 서브 레이어 : 멀티 헤드 어텐션 수행 (셀프 어텐션)\n",
    "  attention1 = MultiHeadAttention(\n",
    "      d_model, num_heads, name=\"attention_1\")(inputs={\n",
    "          'query': inputs,\n",
    "          'key': inputs,\n",
    "          'value': inputs,\n",
    "          'mask': look_ahead_mask\n",
    "      })\n",
    "\n",
    "  # 멀티 헤드 어텐션의 결과는 LayerNormalization이라는 훈련을 돕는 테크닉을 수행\n",
    "  attention1 = tf.keras.layers.LayerNormalization(\n",
    "      epsilon=1e-6)(attention1 + inputs)\n",
    "\n",
    "  # 두 번째 서브 레이어 : 마스크드 멀티 헤드 어텐션 수행 (인코더-디코더 어텐션)\n",
    "  attention2 = MultiHeadAttention(\n",
    "      d_model, num_heads, name=\"attention_2\")(inputs={\n",
    "          'query': attention1,\n",
    "          'key': enc_outputs,\n",
    "          'value': enc_outputs,\n",
    "          'mask': padding_mask\n",
    "      })\n",
    "\n",
    "  # 마스크드 멀티 헤드 어텐션의 결과는\n",
    "  # Dropout과 LayerNormalization이라는 훈련을 돕는 테크닉을 수행\n",
    "  attention2 = tf.keras.layers.Dropout(rate=dropout)(attention2)\n",
    "  attention2 = tf.keras.layers.LayerNormalization(\n",
    "      epsilon=1e-6)(attention2 + attention1)\n",
    "\n",
    "  # 세 번째 서브 레이어 : 2개의 완전연결층\n",
    "  outputs = tf.keras.layers.Dense(units=units, activation='relu')(attention2)\n",
    "  outputs = tf.keras.layers.Dense(units=d_model)(outputs)\n",
    "\n",
    "  # 완전연결층의 결과는 Dropout과 LayerNormalization 수행\n",
    "  outputs = tf.keras.layers.Dropout(rate=dropout)(outputs)\n",
    "  outputs = tf.keras.layers.LayerNormalization(\n",
    "      epsilon=1e-6)(outputs + attention2)\n",
    "\n",
    "  return tf.keras.Model(\n",
    "      inputs=[inputs, enc_outputs, look_ahead_mask, padding_mask],\n",
    "      outputs=outputs,\n",
    "      name=name)"
   ]
  },
  {
   "cell_type": "code",
   "execution_count": 218,
   "metadata": {},
   "outputs": [],
   "source": [
    "def decoder(vocab_size,\n",
    "            num_layers,\n",
    "            units,\n",
    "            d_model,\n",
    "            num_heads,\n",
    "            dropout,\n",
    "            name='decoder'):\n",
    "  inputs = tf.keras.Input(shape=(None,), name='inputs')\n",
    "  enc_outputs = tf.keras.Input(shape=(None, d_model), name='encoder_outputs')\n",
    "  look_ahead_mask = tf.keras.Input(\n",
    "      shape=(1, None, None), name='look_ahead_mask')\n",
    "\n",
    "  # 패딩 마스크\n",
    "  padding_mask = tf.keras.Input(shape=(1, 1, None), name='padding_mask')\n",
    "  \n",
    "  # 임베딩 레이어\n",
    "  embeddings = tf.keras.layers.Embedding(vocab_size, d_model)(inputs)\n",
    "  embeddings *= tf.math.sqrt(tf.cast(d_model, tf.float32))\n",
    "\n",
    "  # 포지셔널 인코딩\n",
    "  embeddings = PositionalEncoding(vocab_size, d_model)(embeddings)\n",
    "\n",
    "  # Dropout이라는 훈련을 돕는 테크닉을 수행\n",
    "  outputs = tf.keras.layers.Dropout(rate=dropout)(embeddings)\n",
    "\n",
    "  for i in range(num_layers):\n",
    "    outputs = decoder_layer(\n",
    "        units=units,\n",
    "        d_model=d_model,\n",
    "        num_heads=num_heads,\n",
    "        dropout=dropout,\n",
    "        name='decoder_layer_{}'.format(i),\n",
    "    )(inputs=[outputs, enc_outputs, look_ahead_mask, padding_mask])\n",
    "\n",
    "  return tf.keras.Model(\n",
    "      inputs=[inputs, enc_outputs, look_ahead_mask, padding_mask],\n",
    "      outputs=outputs,\n",
    "      name=name)"
   ]
  },
  {
   "cell_type": "code",
   "execution_count": 219,
   "metadata": {},
   "outputs": [],
   "source": [
    "class CustomSchedule(tf.keras.optimizers.schedules.LearningRateSchedule):\n",
    "\n",
    "  def __init__(self, d_model, warmup_steps=4000):\n",
    "    super(CustomSchedule, self).__init__()\n",
    "\n",
    "    self.d_model = d_model\n",
    "    self.d_model = tf.cast(self.d_model, tf.float32)\n",
    "\n",
    "    self.warmup_steps = warmup_steps\n",
    "\n",
    "  def __call__(self, step):\n",
    "    arg1 = tf.math.rsqrt(step)\n",
    "    arg2 = step * (self.warmup_steps**-1.5)\n",
    "\n",
    "    return tf.math.rsqrt(self.d_model) * tf.math.minimum(arg1, arg2)"
   ]
  },
  {
   "attachments": {},
   "cell_type": "markdown",
   "metadata": {},
   "source": [
    "## model"
   ]
  },
  {
   "cell_type": "code",
   "execution_count": 220,
   "metadata": {},
   "outputs": [],
   "source": [
    "def transformer(vocab_size,\n",
    "                num_layers,\n",
    "                units,\n",
    "                d_model,\n",
    "                num_heads,\n",
    "                dropout,\n",
    "                name=\"transformer\"):\n",
    "  inputs = tf.keras.Input(shape=(None,), name=\"inputs\")\n",
    "  dec_inputs = tf.keras.Input(shape=(None,), name=\"dec_inputs\")\n",
    "\n",
    "  # 인코더에서 패딩을 위한 마스크\n",
    "  enc_padding_mask = tf.keras.layers.Lambda(\n",
    "      create_padding_mask, output_shape=(1, 1, None),\n",
    "      name='enc_padding_mask')(inputs)\n",
    "\n",
    "  # 디코더에서 미래의 토큰을 마스크 하기 위해서 사용합니다.\n",
    "  # 내부적으로 패딩 마스크도 포함되어져 있습니다.\n",
    "  look_ahead_mask = tf.keras.layers.Lambda(\n",
    "      create_look_ahead_mask,\n",
    "      output_shape=(1, None, None),\n",
    "      name='look_ahead_mask')(dec_inputs)\n",
    "\n",
    "  # 두 번째 어텐션 블록에서 인코더의 벡터들을 마스킹\n",
    "  # 디코더에서 패딩을 위한 마스크\n",
    "  dec_padding_mask = tf.keras.layers.Lambda(\n",
    "      create_padding_mask, output_shape=(1, 1, None),\n",
    "      name='dec_padding_mask')(inputs)\n",
    "\n",
    "  # 인코더\n",
    "  enc_outputs = encoder(\n",
    "      vocab_size=vocab_size,\n",
    "      num_layers=num_layers,\n",
    "      units=units,\n",
    "      d_model=d_model,\n",
    "      num_heads=num_heads,\n",
    "      dropout=dropout,\n",
    "  )(inputs=[inputs, enc_padding_mask])\n",
    "\n",
    "  # 디코더\n",
    "  dec_outputs = decoder(\n",
    "      vocab_size=vocab_size,\n",
    "      num_layers=num_layers,\n",
    "      units=units,\n",
    "      d_model=d_model,\n",
    "      num_heads=num_heads,\n",
    "      dropout=dropout,\n",
    "  )(inputs=[dec_inputs, enc_outputs, look_ahead_mask, dec_padding_mask])\n",
    "\n",
    "  # 완전연결층\n",
    "  outputs = tf.keras.layers.Dense(units=vocab_size, name=\"outputs\")(dec_outputs)\n",
    "\n",
    "  return tf.keras.Model(inputs=[inputs, dec_inputs], outputs=outputs, name=name)"
   ]
  },
  {
   "cell_type": "code",
   "execution_count": 221,
   "metadata": {},
   "outputs": [
    {
     "name": "stdout",
     "output_type": "stream",
     "text": [
      "Model: \"transformer\"\n",
      "__________________________________________________________________________________________________\n",
      " Layer (type)                   Output Shape         Param #     Connected to                     \n",
      "==================================================================================================\n",
      " inputs (InputLayer)            [(None, None)]       0           []                               \n",
      "                                                                                                  \n",
      " dec_inputs (InputLayer)        [(None, None)]       0           []                               \n",
      "                                                                                                  \n",
      " enc_padding_mask (Lambda)      (None, 1, 1, None)   0           ['inputs[0][0]']                 \n",
      "                                                                                                  \n",
      " encoder (Functional)           (None, None, 512)    13907968    ['inputs[0][0]',                 \n",
      "                                                                  'enc_padding_mask[0][0]']       \n",
      "                                                                                                  \n",
      " look_ahead_mask (Lambda)       (None, 1, None, Non  0           ['dec_inputs[0][0]']             \n",
      "                                e)                                                                \n",
      "                                                                                                  \n",
      " dec_padding_mask (Lambda)      (None, 1, 1, None)   0           ['inputs[0][0]']                 \n",
      "                                                                                                  \n",
      " decoder (Functional)           (None, None, 512)    20217856    ['dec_inputs[0][0]',             \n",
      "                                                                  'encoder[0][0]',                \n",
      "                                                                  'look_ahead_mask[0][0]',        \n",
      "                                                                  'dec_padding_mask[0][0]']       \n",
      "                                                                                                  \n",
      " outputs (Dense)                (None, None, 8672)   4448736     ['decoder[0][0]']                \n",
      "                                                                                                  \n",
      "==================================================================================================\n",
      "Total params: 38,574,560\n",
      "Trainable params: 38,574,560\n",
      "Non-trainable params: 0\n",
      "__________________________________________________________________________________________________\n"
     ]
    }
   ],
   "source": [
    "tf.keras.backend.clear_session()\n",
    "\n",
    "# 하이퍼파라미터\n",
    "NUM_LAYERS = 6 # 인코더와 디코더의 층의 개수\n",
    "D_MODEL = 512 # 인코더와 디코더 내부의 입, 출력의 고정 차원\n",
    "NUM_HEADS = 8 # 멀티 헤드 어텐션에서의 헤드 수 \n",
    "UNITS = 512 # 피드 포워드 신경망의 은닉층의 크기\n",
    "DROPOUT = 0.1 # 드롭아웃의 비율\n",
    "\n",
    "model = transformer(\n",
    "    vocab_size=VOCAB_SIZE,\n",
    "    num_layers=NUM_LAYERS,\n",
    "    units=UNITS,\n",
    "    d_model=D_MODEL,\n",
    "    num_heads=NUM_HEADS,\n",
    "    dropout=DROPOUT)\n",
    "\n",
    "model.summary()"
   ]
  },
  {
   "cell_type": "code",
   "execution_count": 222,
   "metadata": {},
   "outputs": [],
   "source": [
    "def loss_function(y_true, y_pred):\n",
    "  y_true = tf.reshape(y_true, shape=(-1, MAX_LENGTH - 1))\n",
    "  \n",
    "  loss = tf.keras.losses.SparseCategoricalCrossentropy(\n",
    "      from_logits=True, reduction='none')(y_true, y_pred)\n",
    "\n",
    "  mask = tf.cast(tf.not_equal(y_true, 0), tf.float32)\n",
    "  loss = tf.multiply(loss, mask)\n",
    "\n",
    "  return tf.reduce_mean(loss)"
   ]
  },
  {
   "cell_type": "code",
   "execution_count": 223,
   "metadata": {},
   "outputs": [],
   "source": [
    "EPOCHS = 100\n",
    "learning_rate = CustomSchedule(D_MODEL)\n",
    "optimizer = tf.keras.optimizers.Adam(\n",
    "    learning_rate, beta_1=0.9, beta_2=0.98, epsilon=1e-9)\n",
    "es = tf.keras.callbacks.EarlyStopping(monitor='loss', patience=3)\n",
    "\n",
    "def accuracy(y_true, y_pred):\n",
    "  y_true = tf.reshape(y_true, shape=(-1, MAX_LENGTH - 1))\n",
    "  return tf.keras.metrics.sparse_categorical_accuracy(y_true, y_pred)\n",
    "\n",
    "model.compile(optimizer=optimizer, loss=loss_function, metrics=[accuracy])"
   ]
  },
  {
   "cell_type": "code",
   "execution_count": 224,
   "metadata": {},
   "outputs": [
    {
     "name": "stdout",
     "output_type": "stream",
     "text": [
      "Epoch 1/200\n",
      "172/172 [==============================] - 18s 53ms/step - loss: 0.8272 - accuracy: 0.0222\n",
      "Epoch 2/200\n",
      "172/172 [==============================] - 9s 52ms/step - loss: 0.7023 - accuracy: 0.0256\n",
      "Epoch 3/200\n",
      "172/172 [==============================] - 9s 52ms/step - loss: 0.6486 - accuracy: 0.0256\n",
      "Epoch 4/200\n",
      "172/172 [==============================] - 9s 52ms/step - loss: 0.6218 - accuracy: 0.0255\n",
      "Epoch 5/200\n",
      "172/172 [==============================] - 9s 53ms/step - loss: 0.6015 - accuracy: 0.0267\n",
      "Epoch 6/200\n",
      "172/172 [==============================] - 9s 54ms/step - loss: 0.5826 - accuracy: 0.0283\n",
      "Epoch 7/200\n",
      "172/172 [==============================] - 9s 54ms/step - loss: 0.5601 - accuracy: 0.0300\n",
      "Epoch 8/200\n",
      "172/172 [==============================] - 9s 54ms/step - loss: 0.5340 - accuracy: 0.0315\n",
      "Epoch 9/200\n",
      "172/172 [==============================] - 9s 53ms/step - loss: 0.5029 - accuracy: 0.0332\n",
      "Epoch 10/200\n",
      "172/172 [==============================] - 9s 53ms/step - loss: 0.4683 - accuracy: 0.0358\n",
      "Epoch 11/200\n",
      "172/172 [==============================] - 9s 53ms/step - loss: 0.4335 - accuracy: 0.0385\n",
      "Epoch 12/200\n",
      "172/172 [==============================] - 9s 54ms/step - loss: 0.3959 - accuracy: 0.0421\n",
      "Epoch 13/200\n",
      "172/172 [==============================] - 9s 54ms/step - loss: 0.3599 - accuracy: 0.0458\n",
      "Epoch 14/200\n",
      "172/172 [==============================] - 9s 54ms/step - loss: 0.3251 - accuracy: 0.0499\n",
      "Epoch 15/200\n",
      "172/172 [==============================] - 9s 53ms/step - loss: 0.2930 - accuracy: 0.0539\n",
      "Epoch 16/200\n",
      "172/172 [==============================] - 9s 52ms/step - loss: 0.2609 - accuracy: 0.0585\n",
      "Epoch 17/200\n",
      "172/172 [==============================] - 9s 53ms/step - loss: 0.2337 - accuracy: 0.0624\n",
      "Epoch 18/200\n",
      "172/172 [==============================] - 9s 53ms/step - loss: 0.2084 - accuracy: 0.0658\n",
      "Epoch 19/200\n",
      "172/172 [==============================] - 9s 53ms/step - loss: 0.1887 - accuracy: 0.0686\n",
      "Epoch 20/200\n",
      "172/172 [==============================] - 9s 53ms/step - loss: 0.1722 - accuracy: 0.0709\n",
      "Epoch 21/200\n",
      "172/172 [==============================] - 9s 54ms/step - loss: 0.1577 - accuracy: 0.0729\n",
      "Epoch 22/200\n",
      "172/172 [==============================] - 9s 54ms/step - loss: 0.1483 - accuracy: 0.0746\n",
      "Epoch 23/200\n",
      "172/172 [==============================] - 9s 54ms/step - loss: 0.1420 - accuracy: 0.0753\n",
      "Epoch 24/200\n",
      "172/172 [==============================] - 9s 54ms/step - loss: 0.1292 - accuracy: 0.0776\n",
      "Epoch 25/200\n",
      "172/172 [==============================] - 9s 54ms/step - loss: 0.1181 - accuracy: 0.0794\n",
      "Epoch 26/200\n",
      "172/172 [==============================] - 9s 54ms/step - loss: 0.1049 - accuracy: 0.0823\n",
      "Epoch 27/200\n",
      "172/172 [==============================] - 9s 53ms/step - loss: 0.0963 - accuracy: 0.0840\n",
      "Epoch 28/200\n",
      "172/172 [==============================] - 9s 53ms/step - loss: 0.0882 - accuracy: 0.0854\n",
      "Epoch 29/200\n",
      "172/172 [==============================] - 9s 53ms/step - loss: 0.0803 - accuracy: 0.0876\n",
      "Epoch 30/200\n",
      "172/172 [==============================] - 9s 53ms/step - loss: 0.0741 - accuracy: 0.0889\n",
      "Epoch 31/200\n",
      "172/172 [==============================] - 9s 53ms/step - loss: 0.0681 - accuracy: 0.0904\n",
      "Epoch 32/200\n",
      "172/172 [==============================] - 9s 53ms/step - loss: 0.0657 - accuracy: 0.0909\n",
      "Epoch 33/200\n",
      "172/172 [==============================] - 9s 53ms/step - loss: 0.0600 - accuracy: 0.0923\n",
      "Epoch 34/200\n",
      "172/172 [==============================] - 9s 53ms/step - loss: 0.0578 - accuracy: 0.0927\n",
      "Epoch 35/200\n",
      "172/172 [==============================] - 9s 53ms/step - loss: 0.0553 - accuracy: 0.0934\n",
      "Epoch 36/200\n",
      "172/172 [==============================] - 9s 53ms/step - loss: 0.0518 - accuracy: 0.0943\n",
      "Epoch 37/200\n",
      "172/172 [==============================] - 9s 54ms/step - loss: 0.0484 - accuracy: 0.0952\n",
      "Epoch 38/200\n",
      "172/172 [==============================] - 9s 54ms/step - loss: 0.0479 - accuracy: 0.0954\n",
      "Epoch 39/200\n",
      "172/172 [==============================] - 9s 53ms/step - loss: 0.0450 - accuracy: 0.0960\n",
      "Epoch 40/200\n",
      "172/172 [==============================] - 9s 53ms/step - loss: 0.0431 - accuracy: 0.0966\n",
      "Epoch 41/200\n",
      "172/172 [==============================] - 9s 53ms/step - loss: 0.0417 - accuracy: 0.0969\n",
      "Epoch 42/200\n",
      "172/172 [==============================] - 9s 53ms/step - loss: 0.0399 - accuracy: 0.0974\n",
      "Epoch 43/200\n",
      "172/172 [==============================] - 9s 53ms/step - loss: 0.0388 - accuracy: 0.0976\n",
      "Epoch 44/200\n",
      "172/172 [==============================] - 9s 53ms/step - loss: 0.0384 - accuracy: 0.0977\n",
      "Epoch 45/200\n",
      "172/172 [==============================] - 9s 55ms/step - loss: 0.0364 - accuracy: 0.0983\n",
      "Epoch 46/200\n",
      "172/172 [==============================] - 9s 55ms/step - loss: 0.0368 - accuracy: 0.0981\n",
      "Epoch 47/200\n",
      "172/172 [==============================] - 9s 54ms/step - loss: 0.0362 - accuracy: 0.0984\n",
      "Epoch 48/200\n",
      "172/172 [==============================] - 9s 53ms/step - loss: 0.0339 - accuracy: 0.0989\n",
      "Epoch 49/200\n",
      "172/172 [==============================] - 9s 53ms/step - loss: 0.0341 - accuracy: 0.0989\n",
      "Epoch 50/200\n",
      "172/172 [==============================] - 9s 53ms/step - loss: 0.0334 - accuracy: 0.0989\n",
      "Epoch 51/200\n",
      "172/172 [==============================] - 9s 54ms/step - loss: 0.0326 - accuracy: 0.0991\n",
      "Epoch 52/200\n",
      "172/172 [==============================] - 9s 55ms/step - loss: 0.0314 - accuracy: 0.0995\n",
      "Epoch 53/200\n",
      "172/172 [==============================] - 9s 55ms/step - loss: 0.0310 - accuracy: 0.0996\n",
      "Epoch 54/200\n",
      "172/172 [==============================] - 9s 53ms/step - loss: 0.0305 - accuracy: 0.0997\n",
      "Epoch 55/200\n",
      "172/172 [==============================] - 9s 53ms/step - loss: 0.0300 - accuracy: 0.0997\n",
      "Epoch 56/200\n",
      "172/172 [==============================] - 9s 53ms/step - loss: 0.0304 - accuracy: 0.0999\n",
      "Epoch 57/200\n",
      "172/172 [==============================] - 9s 53ms/step - loss: 0.0288 - accuracy: 0.1001\n",
      "Epoch 58/200\n",
      "172/172 [==============================] - 9s 53ms/step - loss: 0.0282 - accuracy: 0.1002\n",
      "Epoch 59/200\n",
      "172/172 [==============================] - 9s 53ms/step - loss: 0.0286 - accuracy: 0.1001\n",
      "Epoch 60/200\n",
      "172/172 [==============================] - 9s 53ms/step - loss: 0.0278 - accuracy: 0.1003\n",
      "Epoch 61/200\n",
      "172/172 [==============================] - 9s 53ms/step - loss: 0.0283 - accuracy: 0.1003\n",
      "Epoch 62/200\n",
      "172/172 [==============================] - 9s 53ms/step - loss: 0.0272 - accuracy: 0.1005\n",
      "Epoch 63/200\n",
      "172/172 [==============================] - 9s 54ms/step - loss: 0.0267 - accuracy: 0.1006\n",
      "Epoch 64/200\n",
      "172/172 [==============================] - 9s 53ms/step - loss: 0.0271 - accuracy: 0.1005\n",
      "Epoch 65/200\n",
      "172/172 [==============================] - 9s 53ms/step - loss: 0.0266 - accuracy: 0.1006\n",
      "Epoch 66/200\n",
      "172/172 [==============================] - 9s 53ms/step - loss: 0.0264 - accuracy: 0.1006\n",
      "Epoch 67/200\n",
      "172/172 [==============================] - 9s 53ms/step - loss: 0.0255 - accuracy: 0.1008\n",
      "Epoch 68/200\n",
      "172/172 [==============================] - 9s 53ms/step - loss: 0.0253 - accuracy: 0.1009\n",
      "Epoch 69/200\n",
      "172/172 [==============================] - 9s 53ms/step - loss: 0.0248 - accuracy: 0.1010\n",
      "Epoch 70/200\n",
      "172/172 [==============================] - 9s 53ms/step - loss: 0.0253 - accuracy: 0.1010\n",
      "Epoch 71/200\n",
      "172/172 [==============================] - 9s 53ms/step - loss: 0.0244 - accuracy: 0.1011\n",
      "Epoch 72/200\n",
      "172/172 [==============================] - 9s 53ms/step - loss: 0.0245 - accuracy: 0.1011\n",
      "Epoch 73/200\n",
      "172/172 [==============================] - 9s 53ms/step - loss: 0.0242 - accuracy: 0.1011\n",
      "Epoch 74/200\n",
      "172/172 [==============================] - 9s 53ms/step - loss: 0.0240 - accuracy: 0.1012\n",
      "Epoch 75/200\n",
      "172/172 [==============================] - 9s 53ms/step - loss: 0.0238 - accuracy: 0.1012\n",
      "Epoch 76/200\n",
      "172/172 [==============================] - 9s 53ms/step - loss: 0.0239 - accuracy: 0.1011\n",
      "Epoch 77/200\n",
      "172/172 [==============================] - 9s 53ms/step - loss: 0.0232 - accuracy: 0.1013\n",
      "Epoch 78/200\n",
      "172/172 [==============================] - 9s 53ms/step - loss: 0.0234 - accuracy: 0.1012\n",
      "Epoch 79/200\n",
      "172/172 [==============================] - 9s 53ms/step - loss: 0.0232 - accuracy: 0.1012\n",
      "Epoch 80/200\n",
      "172/172 [==============================] - 9s 53ms/step - loss: 0.0230 - accuracy: 0.1013\n",
      "Epoch 81/200\n",
      "172/172 [==============================] - 9s 53ms/step - loss: 0.0230 - accuracy: 0.1013\n",
      "Epoch 82/200\n",
      "172/172 [==============================] - 9s 53ms/step - loss: 0.0227 - accuracy: 0.1013\n",
      "Epoch 83/200\n",
      "172/172 [==============================] - 9s 53ms/step - loss: 0.0226 - accuracy: 0.1014\n",
      "Epoch 84/200\n",
      "172/172 [==============================] - 9s 55ms/step - loss: 0.0227 - accuracy: 0.1014\n",
      "Epoch 85/200\n",
      "172/172 [==============================] - 9s 55ms/step - loss: 0.0224 - accuracy: 0.1014\n",
      "Epoch 86/200\n",
      "172/172 [==============================] - 9s 55ms/step - loss: 0.0224 - accuracy: 0.1013\n",
      "Epoch 87/200\n",
      "172/172 [==============================] - 9s 53ms/step - loss: 0.0223 - accuracy: 0.1014\n",
      "Epoch 88/200\n",
      "172/172 [==============================] - 9s 53ms/step - loss: 0.0217 - accuracy: 0.1016\n",
      "Epoch 89/200\n",
      "172/172 [==============================] - 9s 53ms/step - loss: 0.0220 - accuracy: 0.1016\n",
      "Epoch 90/200\n",
      "172/172 [==============================] - 9s 54ms/step - loss: 0.0219 - accuracy: 0.1015\n",
      "Epoch 91/200\n",
      "172/172 [==============================] - 9s 54ms/step - loss: 0.0215 - accuracy: 0.1017\n",
      "Epoch 92/200\n",
      "172/172 [==============================] - 9s 54ms/step - loss: 0.0215 - accuracy: 0.1016\n",
      "Epoch 93/200\n",
      "172/172 [==============================] - 9s 54ms/step - loss: 0.0216 - accuracy: 0.1016\n",
      "Epoch 94/200\n",
      "172/172 [==============================] - 9s 53ms/step - loss: 0.0214 - accuracy: 0.1016\n",
      "Epoch 95/200\n",
      "172/172 [==============================] - 9s 53ms/step - loss: 0.0213 - accuracy: 0.1016\n",
      "Epoch 96/200\n",
      "172/172 [==============================] - 9s 52ms/step - loss: 0.0211 - accuracy: 0.1017\n",
      "Epoch 97/200\n",
      "172/172 [==============================] - 9s 54ms/step - loss: 0.0209 - accuracy: 0.1016\n",
      "Epoch 98/200\n",
      "172/172 [==============================] - 9s 54ms/step - loss: 0.0208 - accuracy: 0.1017\n",
      "Epoch 99/200\n",
      "172/172 [==============================] - 9s 54ms/step - loss: 0.0211 - accuracy: 0.1016\n",
      "Epoch 100/200\n",
      "172/172 [==============================] - 9s 54ms/step - loss: 0.0208 - accuracy: 0.1017\n",
      "Epoch 101/200\n",
      "172/172 [==============================] - 9s 54ms/step - loss: 0.0208 - accuracy: 0.1016\n",
      "Epoch 102/200\n",
      "172/172 [==============================] - 9s 54ms/step - loss: 0.0207 - accuracy: 0.1017\n",
      "Epoch 103/200\n",
      "172/172 [==============================] - 9s 53ms/step - loss: 0.0205 - accuracy: 0.1016\n",
      "Epoch 104/200\n",
      "172/172 [==============================] - 9s 53ms/step - loss: 0.0206 - accuracy: 0.1018\n",
      "Epoch 105/200\n",
      "172/172 [==============================] - 9s 53ms/step - loss: 0.0205 - accuracy: 0.1017\n",
      "Epoch 106/200\n",
      "172/172 [==============================] - 9s 53ms/step - loss: 0.0203 - accuracy: 0.1018\n",
      "Epoch 107/200\n",
      "172/172 [==============================] - 9s 52ms/step - loss: 0.0201 - accuracy: 0.1018\n",
      "Epoch 108/200\n",
      "172/172 [==============================] - 9s 53ms/step - loss: 0.0201 - accuracy: 0.1018\n",
      "Epoch 109/200\n",
      "172/172 [==============================] - 9s 52ms/step - loss: 0.0201 - accuracy: 0.1018\n",
      "Epoch 110/200\n",
      "172/172 [==============================] - 9s 54ms/step - loss: 0.0201 - accuracy: 0.1017\n",
      "Epoch 111/200\n",
      "172/172 [==============================] - 9s 54ms/step - loss: 0.0200 - accuracy: 0.1018\n",
      "Epoch 112/200\n",
      "172/172 [==============================] - 9s 54ms/step - loss: 0.0200 - accuracy: 0.1017\n",
      "Epoch 113/200\n",
      "172/172 [==============================] - 9s 53ms/step - loss: 0.0201 - accuracy: 0.1018\n",
      "Epoch 114/200\n",
      "172/172 [==============================] - 9s 53ms/step - loss: 0.0197 - accuracy: 0.1018\n",
      "Epoch 115/200\n",
      "172/172 [==============================] - 9s 53ms/step - loss: 0.0198 - accuracy: 0.1018\n",
      "Epoch 116/200\n",
      "172/172 [==============================] - 9s 53ms/step - loss: 0.0197 - accuracy: 0.1018\n",
      "Epoch 117/200\n",
      "172/172 [==============================] - 9s 52ms/step - loss: 0.0198 - accuracy: 0.1019\n"
     ]
    },
    {
     "data": {
      "text/plain": [
       "<keras.callbacks.History at 0x212eebcde80>"
      ]
     },
     "execution_count": 224,
     "metadata": {},
     "output_type": "execute_result"
    }
   ],
   "source": [
    "EPOCHS = 200\n",
    "model.fit(dataset, epochs=EPOCHS, verbose=1, callbacks=[es], batch_size=BATCH_SIZE)"
   ]
  },
  {
   "attachments": {},
   "cell_type": "markdown",
   "metadata": {},
   "source": [
    "# Step 5. 모델 평가하기"
   ]
  },
  {
   "cell_type": "code",
   "execution_count": 425,
   "metadata": {},
   "outputs": [],
   "source": [
    "def decoder_inference(sentence):\n",
    "  sentence = preprocess_sentence(sentence)\n",
    "\n",
    "  # 입력된 문장을 정수 인코딩 후, 시작 토큰과 종료 토큰을 앞뒤로 추가.\n",
    "  # ex) Where have you been? → [[8331   86   30    5 1059    7 8332]]\n",
    "  sentence = tf.transpose(tf.convert_to_tensor([[tokenizer.word_index['sos']]] + tokenizer.texts_to_sequences(preprocess_sentence(sentence).split())+ [[tokenizer.word_index['eos']]]))\n",
    "\n",
    "  # 디코더의 현재까지의 예측한 출력 시퀀스가 지속적으로 저장되는 변수.\n",
    "  # 처음에는 예측한 내용이 없음으로 시작 토큰만 별도 저장. ex) 8331\n",
    "  output_sequence = tf.expand_dims([tokenizer.word_index['sos']], 0)\n",
    "\n",
    "  # 디코더의 인퍼런스 단계\n",
    "  for i in range(a_max_len):\n",
    "    # 디코더는 최대 MAX_LENGTH의 길이만큼 다음 단어 예측을 반복합니다.\n",
    "    predictions = model(inputs=[sentence, output_sequence], training=False)\n",
    "    predictions = predictions[:, -1:, :]\n",
    "\n",
    "    # 현재 예측한 단어의 정수\n",
    "    predicted_id = tf.cast(tf.argmax(predictions, axis=-1), tf.int32)\n",
    "\n",
    "    # 만약 현재 예측한 단어가 종료 토큰이라면 for문을 종료\n",
    "    if tf.equal(predicted_id, tokenizer.word_index['eos']):\n",
    "      break\n",
    "\n",
    "    # 예측한 단어들은 지속적으로 output_sequence에 추가됩니다.\n",
    "    # 이 output_sequence는 다시 디코더의 입력이 됩니다.\n",
    "    output_sequence = tf.concat([output_sequence, predicted_id], axis=-1)\n",
    "  return tf.squeeze(output_sequence, axis=0)"
   ]
  },
  {
   "cell_type": "code",
   "execution_count": 430,
   "metadata": {},
   "outputs": [],
   "source": [
    "def sentence_generation(sentence):\n",
    "  # 입력 문장에 대해서 디코더를 동작 시켜 예측된 정수 시퀀스를 리턴받습니다.\n",
    "  prediction = decoder_inference(sentence)\n",
    "\n",
    "  # 정수 시퀀스를 다시 텍스트 시퀀스로 변환합니다.\n",
    "  predicted_sentence = tokenizer.sequences_to_texts([[i.numpy()] for i in prediction if i < VOCAB_SIZE])\n",
    "\n",
    "  print('입력 : {}'.format(sentence))\n",
    "  print('출력 : {}'.format(''.join(predicted_sentence[1:])))\n",
    "\n",
    "  # return predicted_sentence"
   ]
  },
  {
   "attachments": {},
   "cell_type": "markdown",
   "metadata": {},
   "source": [
    "개선점: 한국어 처리 시 형태소 분석기 사용, 사전에 없는 말 처리(encode 시 [[1],[],[3]] 이렇게 됌)"
   ]
  },
  {
   "cell_type": "code",
   "execution_count": 431,
   "metadata": {},
   "outputs": [
    {
     "name": "stdout",
     "output_type": "stream",
     "text": [
      "입력 : 이름이 뭐야\n",
      "출력 : 위로봇이요\n"
     ]
    }
   ],
   "source": [
    "sentence_generation('이름이 뭐야')"
   ]
  },
  {
   "cell_type": "code",
   "execution_count": 432,
   "metadata": {},
   "outputs": [
    {
     "name": "stdout",
     "output_type": "stream",
     "text": [
      "입력 : 나이가 뭐야\n",
      "출력 : 나이는숫자일뿐이예요\n"
     ]
    }
   ],
   "source": [
    "sentence_generation('나이가 뭐야')"
   ]
  },
  {
   "cell_type": "code",
   "execution_count": 433,
   "metadata": {},
   "outputs": [
    {
     "name": "stdout",
     "output_type": "stream",
     "text": [
      "입력 : 나는 커서 뭐가 될까\n",
      "출력 : 미련을할거같아요\n"
     ]
    }
   ],
   "source": [
    "sentence_generation('나는 커서 뭐가 될까')"
   ]
  },
  {
   "cell_type": "code",
   "execution_count": 434,
   "metadata": {},
   "outputs": [
    {
     "name": "stdout",
     "output_type": "stream",
     "text": [
      "입력 : 돈 벌고 싶어\n",
      "출력 : 저도요\n"
     ]
    }
   ],
   "source": [
    "sentence_generation('돈 벌고 싶어')"
   ]
  },
  {
   "cell_type": "code",
   "execution_count": 435,
   "metadata": {},
   "outputs": [
    {
     "name": "stdout",
     "output_type": "stream",
     "text": [
      "입력 : 연애는 어떻게 하는 거지\n",
      "출력 : 사랑은정말사랑은미련이해요\n"
     ]
    }
   ],
   "source": [
    "sentence_generation('연애는 어떻게 하는 거지')"
   ]
  }
 ],
 "metadata": {
  "kernelspec": {
   "display_name": "datascience",
   "language": "python",
   "name": "python3"
  },
  "language_info": {
   "codemirror_mode": {
    "name": "ipython",
    "version": 3
   },
   "file_extension": ".py",
   "mimetype": "text/x-python",
   "name": "python",
   "nbconvert_exporter": "python",
   "pygments_lexer": "ipython3",
   "version": "3.9.0"
  },
  "orig_nbformat": 4
 },
 "nbformat": 4,
 "nbformat_minor": 2
}
