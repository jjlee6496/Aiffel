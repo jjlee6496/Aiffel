{
 "cells": [
  {
   "cell_type": "code",
   "execution_count": 2,
   "metadata": {},
   "outputs": [
    {
     "name": "stdout",
     "output_type": "stream",
     "text": [
      "2.11.0\n",
      "1.23.5\n"
     ]
    }
   ],
   "source": [
    "import tensorflow as tf\n",
    "from tensorflow import keras\n",
    "import numpy as np\n",
    "from PIL import Image\n",
    "import glob\n",
    "import os\n",
    "import matplotlib.pyplot as plt\n",
    "\n",
    "print(tf.__version__)\n",
    "print(np.__version__)"
   ]
  },
  {
   "cell_type": "markdown",
   "metadata": {},
   "source": [
    "# train"
   ]
  },
  {
   "cell_type": "code",
   "execution_count": 11,
   "metadata": {},
   "outputs": [],
   "source": [
    "def resize_images(img_path):\n",
    "    images = glob.glob(img_path + \"/*.jpg\")\n",
    "    print(len(images), \"images to be resized.\")\n",
    "    \n",
    "    target_size = (28, 28)\n",
    "    for img in images:\n",
    "        old_img = Image.open(img)\n",
    "        new_img = old_img.resize(target_size, Image.ANTIALIAS)\n",
    "        new_img.save(img, \"JPEG\")\n",
    "    print(len(images), \"images resized.\")"
   ]
  },
  {
   "cell_type": "code",
   "execution_count": 12,
   "metadata": {},
   "outputs": [],
   "source": [
    "# image_dir_path = \"data/rock_scissor_paper/scissor\"\n",
    "# resize_images(image_dir_path)\n",
    "# print(\"가위 이미지 resize 완료!\")\n",
    "\n",
    "# image_dir_path = \"data/rock_scissor_paper/rock\"\n",
    "# resize_images(image_dir_path)\n",
    "# print(\"바위 이미지 resize 완료!\")\n",
    "\n",
    "# image_dir_path = \"data/rock_scissor_paper/paper\"\n",
    "# resize_images(image_dir_path)\n",
    "# print(\"보 이미지 resize 완료!\")"
   ]
  },
  {
   "cell_type": "code",
   "execution_count": 13,
   "metadata": {},
   "outputs": [
    {
     "name": "stdout",
     "output_type": "stream",
     "text": [
      "학습데이터(x_train)의 이미지 개수는 1500 입니다.\n",
      "x_train shape: (1500, 28, 28, 3)\n",
      "y_train shape: (1500,)\n"
     ]
    }
   ],
   "source": [
    "def load_data(img_path, number_of_data=1500):  # 가위바위보 이미지 개수 총합에 주의하세요.\n",
    "    # 가위 : 0, 바위 : 1, 보 : 2\n",
    "    img_size=28\n",
    "    color=3\n",
    "    #이미지 데이터와 라벨(가위 : 0, 바위 : 1, 보 : 2) 데이터를 담을 행렬(matrix) 영역을 생성합니다.\n",
    "    imgs=np.zeros(number_of_data*img_size*img_size*color,dtype=np.int32).reshape(number_of_data,img_size,img_size,color)\n",
    "    labels=np.zeros(number_of_data,dtype=np.int32)\n",
    "    \n",
    "    idx=0\n",
    "    for file in glob.iglob(img_path+'/scissor/*.jpg'):\n",
    "        img = np.array(Image.open(file),dtype=np.int32)\n",
    "        imgs[idx,:,:,:]=img    # 데이터 영역에 이미지 행렬을 복사\n",
    "        labels[idx]=0   # 가위 : 0\n",
    "        idx=idx+1\n",
    "\n",
    "    for file in glob.iglob(img_path+'/rock/*.jpg'):\n",
    "        img = np.array(Image.open(file),dtype=np.int32)\n",
    "        imgs[idx,:,:,:]=img    # 데이터 영역에 이미지 행렬을 복사\n",
    "        labels[idx]=1   # 바위 : 1\n",
    "        idx=idx+1  \n",
    "    \n",
    "    for file in glob.iglob(img_path+'/paper/*.jpg'):\n",
    "        img = np.array(Image.open(file),dtype=np.int32)\n",
    "        imgs[idx,:,:,:]=img    # 데이터 영역에 이미지 행렬을 복사\n",
    "        labels[idx]=2   # 보 : 2\n",
    "        idx=idx+1\n",
    "        \n",
    "    print(\"학습데이터(x_train)의 이미지 개수는\", idx,\"입니다.\")\n",
    "    return imgs, labels\n",
    "\n",
    "image_dir_path = \"data/rock_scissor_paper\"\n",
    "(x_train, y_train)=load_data(image_dir_path)\n",
    "x_train_norm = x_train/255.0   # 입력은 0~1 사이의 값으로 정규화\n",
    "\n",
    "print(\"x_train shape: {}\".format(x_train.shape))\n",
    "print(\"y_train shape: {}\".format(y_train.shape))"
   ]
  },
  {
   "cell_type": "code",
   "execution_count": 14,
   "metadata": {},
   "outputs": [],
   "source": [
    "from sklearn.model_selection import train_test_split\n",
    "\n",
    "x_train,x_val,y_train,y_val = train_test_split(x_train_norm,\n",
    "                                                 y_train,\n",
    "                                                 test_size=0.4,\n",
    "                                                 random_state=42)"
   ]
  },
  {
   "cell_type": "code",
   "execution_count": 15,
   "metadata": {},
   "outputs": [
    {
     "name": "stdout",
     "output_type": "stream",
     "text": [
      "라벨:  0\n",
      "(28, 28, 3)\n"
     ]
    },
    {
     "data": {
      "image/png": "[encoded data removed]",
      "text/plain": [
       "<Figure size 640x480 with 1 Axes>"
      ]
     },
     "metadata": {},
     "output_type": "display_data"
    }
   ],
   "source": [
    "plt.imshow(x_train[23])\n",
    "print('라벨: ', y_train[23])\n",
    "print(x_train[23].shape)"
   ]
  },
  {
   "cell_type": "markdown",
   "metadata": {},
   "source": [
    "# train"
   ]
  },
  {
   "cell_type": "code",
   "execution_count": 16,
   "metadata": {},
   "outputs": [
    {
     "name": "stdout",
     "output_type": "stream",
     "text": [
      "Model: \"sequential_1\"\n",
      "_________________________________________________________________\n",
      " Layer (type)                Output Shape              Param #   \n",
      "=================================================================\n",
      " conv2d_3 (Conv2D)           (None, 28, 28, 32)        896       \n",
      "                                                                 \n",
      " max_pooling2d_3 (MaxPooling  (None, 9, 9, 32)         0         \n",
      " 2D)                                                             \n",
      "                                                                 \n",
      " batch_normalization_3 (Batc  (None, 9, 9, 32)         128       \n",
      " hNormalization)                                                 \n",
      "                                                                 \n",
      " conv2d_4 (Conv2D)           (None, 9, 9, 64)          18496     \n",
      "                                                                 \n",
      " max_pooling2d_4 (MaxPooling  (None, 3, 3, 64)         0         \n",
      " 2D)                                                             \n",
      "                                                                 \n",
      " batch_normalization_4 (Batc  (None, 3, 3, 64)         256       \n",
      " hNormalization)                                                 \n",
      "                                                                 \n",
      " conv2d_5 (Conv2D)           (None, 3, 3, 128)         73856     \n",
      "                                                                 \n",
      " max_pooling2d_5 (MaxPooling  (None, 1, 1, 128)        0         \n",
      " 2D)                                                             \n",
      "                                                                 \n",
      " batch_normalization_5 (Batc  (None, 1, 1, 128)        512       \n",
      " hNormalization)                                                 \n",
      "                                                                 \n",
      " flatten_1 (Flatten)         (None, 128)               0         \n",
      "                                                                 \n",
      " dense_2 (Dense)             (None, 32)                4128      \n",
      "                                                                 \n",
      " dense_3 (Dense)             (None, 10)                330       \n",
      "                                                                 \n",
      "=================================================================\n",
      "Total params: 98,602\n",
      "Trainable params: 98,154\n",
      "Non-trainable params: 448\n",
      "_________________________________________________________________\n"
     ]
    }
   ],
   "source": [
    "n_channel_1=32\n",
    "n_channel_2=64\n",
    "n_channel_3=128\n",
    "\n",
    "n_dense= 32\n",
    "n_train_epoch=100\n",
    "batch_size = 32\n",
    "lr = 0.002\n",
    "\n",
    "model=keras.models.Sequential()\n",
    "\n",
    "model.add(keras.layers.Conv2D(n_channel_1, (3,3), activation='relu', input_shape=(28,28,3),\n",
    "                              kernel_initializer=tf.keras.initializers.HeNormal(),padding='same'),\n",
    ")\n",
    "model.add(keras.layers.MaxPool2D(3,3))\n",
    "model.add(keras.layers.BatchNormalization())\n",
    "# model.add(keras.layers.Dropout(0.2))\n",
    "\n",
    "model.add(keras.layers.Conv2D(n_channel_2, (3,3), activation='relu', input_shape=(28,28,3),\n",
    "                              kernel_initializer=tf.keras.initializers.HeNormal(),padding='same'))\n",
    "model.add(keras.layers.MaxPool2D(3,3))\n",
    "model.add(keras.layers.BatchNormalization())\n",
    "# model.add(keras.layers.Dropout(0.2))\n",
    "\n",
    "model.add(keras.layers.Conv2D(n_channel_3, (3,3), activation='relu',\n",
    "                              kernel_initializer=tf.keras.initializers.HeNormal(),padding='same'))\n",
    "model.add(keras.layers.MaxPooling2D((3,3)))\n",
    "model.add(keras.layers.BatchNormalization())\n",
    "# model.add(keras.layers.Dropout(0.2))\n",
    "\n",
    "model.add(keras.layers.Flatten())\n",
    "model.add(keras.layers.Dense(n_dense, activation='relu',\n",
    "                             kernel_regularizer=tf.keras.regularizers.L1(0.01),\n",
    "                             activity_regularizer=tf.keras.regularizers.L2(0.01)))\n",
    "# model.add(keras.layers.Dropout(0.2))\n",
    "model.add(keras.layers.Dense(10, activation='softmax'))\n",
    "\n",
    "model.summary()"
   ]
  },
  {
   "attachments": {},
   "cell_type": "markdown",
   "metadata": {},
   "source": [
    "Conv2D에서 relu가 활성화함수이기 때문에 HE normal로 가중치 초기화, 실험에서 안정성을 위해 BatchNormalization을 각각 추가해줬고, Dropout을 0.3으로 주어 과적합을 피하고자 했다.  "
   ]
  },
  {
   "cell_type": "code",
   "execution_count": 18,
   "metadata": {},
   "outputs": [
    {
     "name": "stdout",
     "output_type": "stream",
     "text": [
      "Epoch 1/100\n",
      "29/29 [==============================] - 4s 49ms/step - loss: 5.0902 - accuracy: 0.6800 - val_loss: 5.2155 - val_accuracy: 0.3300 - lr: 0.0020\n",
      "Epoch 2/100\n",
      "29/29 [==============================] - 1s 32ms/step - loss: 3.2049 - accuracy: 0.9589 - val_loss: 3.7041 - val_accuracy: 0.3850 - lr: 0.0020\n",
      "Epoch 3/100\n",
      "29/29 [==============================] - 1s 31ms/step - loss: 2.1498 - accuracy: 0.9800 - val_loss: 2.6219 - val_accuracy: 0.7300 - lr: 0.0020\n",
      "Epoch 4/100\n",
      "29/29 [==============================] - 1s 36ms/step - loss: 1.3439 - accuracy: 0.9978 - val_loss: 1.9944 - val_accuracy: 0.7083 - lr: 0.0020\n",
      "Epoch 5/100\n",
      "29/29 [==============================] - 1s 32ms/step - loss: 0.8560 - accuracy: 0.9978 - val_loss: 1.4714 - val_accuracy: 0.7633 - lr: 0.0020\n",
      "Epoch 6/100\n",
      "29/29 [==============================] - 1s 35ms/step - loss: 0.6023 - accuracy: 0.9967 - val_loss: 1.1892 - val_accuracy: 0.7817 - lr: 0.0020\n",
      "Epoch 7/100\n",
      "29/29 [==============================] - 1s 29ms/step - loss: 0.4499 - accuracy: 0.9989 - val_loss: 1.0493 - val_accuracy: 0.7567 - lr: 0.0020\n",
      "Epoch 8/100\n",
      "29/29 [==============================] - 1s 33ms/step - loss: 0.4172 - accuracy: 0.9967 - val_loss: 0.7510 - val_accuracy: 0.8617 - lr: 0.0020\n",
      "Epoch 9/100\n",
      "29/29 [==============================] - 1s 30ms/step - loss: 0.3378 - accuracy: 0.9978 - val_loss: 0.6488 - val_accuracy: 0.8933 - lr: 0.0020\n",
      "Epoch 10/100\n",
      "29/29 [==============================] - 1s 30ms/step - loss: 0.3617 - accuracy: 0.9867 - val_loss: 0.5278 - val_accuracy: 0.9567 - lr: 0.0020\n",
      "Epoch 11/100\n",
      "29/29 [==============================] - 1s 31ms/step - loss: 0.3776 - accuracy: 0.9878 - val_loss: 0.5165 - val_accuracy: 0.9250 - lr: 0.0018\n",
      "Epoch 12/100\n",
      "29/29 [==============================] - 1s 38ms/step - loss: 0.3023 - accuracy: 0.9978 - val_loss: 0.3719 - val_accuracy: 0.9750 - lr: 0.0016\n",
      "Epoch 13/100\n",
      "29/29 [==============================] - 1s 36ms/step - loss: 0.2580 - accuracy: 0.9989 - val_loss: 0.3656 - val_accuracy: 0.9650 - lr: 0.0015\n",
      "Epoch 14/100\n",
      "29/29 [==============================] - 1s 45ms/step - loss: 0.2756 - accuracy: 0.9989 - val_loss: 0.3236 - val_accuracy: 0.9900 - lr: 0.0013\n",
      "Epoch 15/100\n",
      "29/29 [==============================] - 1s 41ms/step - loss: 0.2279 - accuracy: 1.0000 - val_loss: 0.2684 - val_accuracy: 0.9933 - lr: 0.0012\n",
      "Epoch 16/100\n",
      "29/29 [==============================] - 1s 36ms/step - loss: 0.2127 - accuracy: 1.0000 - val_loss: 0.2582 - val_accuracy: 0.9933 - lr: 0.0011\n",
      "Epoch 17/100\n",
      "29/29 [==============================] - 1s 34ms/step - loss: 0.2092 - accuracy: 1.0000 - val_loss: 0.2420 - val_accuracy: 0.9933 - lr: 9.9317e-04\n",
      "Epoch 18/100\n",
      "29/29 [==============================] - 1s 34ms/step - loss: 0.2008 - accuracy: 1.0000 - val_loss: 0.2373 - val_accuracy: 0.9933 - lr: 8.9866e-04\n",
      "Epoch 19/100\n",
      "29/29 [==============================] - 1s 36ms/step - loss: 0.2106 - accuracy: 0.9989 - val_loss: 0.2290 - val_accuracy: 0.9933 - lr: 8.1314e-04\n",
      "Epoch 20/100\n",
      "29/29 [==============================] - 1s 34ms/step - loss: 0.1992 - accuracy: 1.0000 - val_loss: 0.2193 - val_accuracy: 0.9933 - lr: 7.3576e-04\n",
      "Epoch 21/100\n",
      "29/29 [==============================] - 1s 35ms/step - loss: 0.1851 - accuracy: 1.0000 - val_loss: 0.2130 - val_accuracy: 0.9933 - lr: 6.6574e-04\n",
      "Epoch 22/100\n",
      "29/29 [==============================] - 1s 37ms/step - loss: 0.1945 - accuracy: 1.0000 - val_loss: 0.2049 - val_accuracy: 0.9933 - lr: 6.0239e-04\n",
      "Epoch 23/100\n",
      "29/29 [==============================] - 1s 40ms/step - loss: 0.1772 - accuracy: 1.0000 - val_loss: 0.1984 - val_accuracy: 0.9933 - lr: 5.4506e-04\n",
      "Epoch 24/100\n",
      "29/29 [==============================] - 1s 44ms/step - loss: 0.1754 - accuracy: 1.0000 - val_loss: 0.1954 - val_accuracy: 0.9933 - lr: 4.9319e-04\n",
      "Epoch 25/100\n",
      "29/29 [==============================] - 1s 36ms/step - loss: 0.1732 - accuracy: 1.0000 - val_loss: 0.1926 - val_accuracy: 0.9933 - lr: 4.4626e-04\n"
     ]
    }
   ],
   "source": [
    "def scheduler(epoch, lr):\n",
    "      if epoch < 10:\n",
    "          return lr\n",
    "      else:\n",
    "          return lr * tf.math.exp(-0.1)\n",
    "\n",
    "sc = tf.keras.callbacks.LearningRateScheduler(scheduler)\n",
    "es = tf.keras.callbacks.EarlyStopping(monitor='val_accuracy', patience=10)\n",
    "\n",
    "model.compile(tf.keras.optimizers.Adam(learning_rate=lr),\n",
    "             loss='sparse_categorical_crossentropy',\n",
    "             metrics=['accuracy'])\n",
    "\n",
    "# 모델 훈련\n",
    "history = model.fit(x_train, y_train, epochs=n_train_epoch,\n",
    "                    validation_data = (x_val,y_val), callbacks=[sc,es], batch_size=batch_size)"
   ]
  },
  {
   "cell_type": "markdown",
   "metadata": {},
   "source": [
    "## 시각화"
   ]
  },
  {
   "cell_type": "code",
   "execution_count": 21,
   "metadata": {},
   "outputs": [
    {
     "data": {
      "image/png": "[encoded data removed]",
      "text/plain": [
       "<Figure size 640x480 with 1 Axes>"
      ]
     },
     "metadata": {},
     "output_type": "display_data"
    }
   ],
   "source": [
    "# summarize history for accuracy\n",
    "plt.plot(history.history['accuracy'])\n",
    "plt.plot(history.history['val_accuracy'])\n",
    "plt.title('model accuracy')\n",
    "plt.ylabel('accuracy')\n",
    "plt.xlabel('epoch')\n",
    "plt.legend(['train', 'validation'], loc='upper left')\n",
    "plt.show()"
   ]
  },
  {
   "cell_type": "code",
   "execution_count": 22,
   "metadata": {},
   "outputs": [
    {
     "data": {
      "image/png": "[encoded data removed]",
      "text/plain": [
       "<Figure size 640x480 with 1 Axes>"
      ]
     },
     "metadata": {},
     "output_type": "display_data"
    }
   ],
   "source": [
    "# summarize history for loss\n",
    "plt.plot(history.history['loss'])\n",
    "plt.plot(history.history['val_loss'])\n",
    "plt.title('model loss')\n",
    "plt.ylabel('loss')\n",
    "plt.xlabel('epoch')\n",
    "plt.legend(['train', 'validation'], loc='upper left')\n",
    "plt.show()"
   ]
  },
  {
   "cell_type": "markdown",
   "metadata": {},
   "source": [
    "# test 평가"
   ]
  },
  {
   "cell_type": "code",
   "execution_count": 19,
   "metadata": {},
   "outputs": [
    {
     "name": "stdout",
     "output_type": "stream",
     "text": [
      "학습데이터(x_train)의 이미지 개수는 300 입니다.\n",
      "x_test shape: (300, 28, 28, 3)\n",
      "y_test shape: (300,)\n"
     ]
    }
   ],
   "source": [
    "# image_dir_path = \"data/rock_scissor_paper/test/rock\"\n",
    "# resize_images(image_dir_path)\n",
    "# print(\"바위 이미지 resize 완료!\")\n",
    "\n",
    "# image_dir_path = \"data/rock_scissor_paper/test/scissor\"\n",
    "# resize_images(image_dir_path)\n",
    "# print(\"가위 이미지 resize 완료!\")\n",
    "\n",
    "# image_dir_path = \"data/rock_scissor_paper/test/paper\"\n",
    "# resize_images(image_dir_path)\n",
    "# print(\"보 이미지 resize 완료!\")\n",
    "\n",
    "image_dir_path = \"./data/rock_scissor_paper/test\"\n",
    "(x_test, y_test)=load_data(image_dir_path, 300)\n",
    "x_test_norm = x_test/255.0   # 입력은 0~1 사이의 값으로 정규화\n",
    "\n",
    "print(\"x_test shape: {}\".format(x_test.shape))\n",
    "print(\"y_test shape: {}\".format(y_test.shape))"
   ]
  },
  {
   "cell_type": "code",
   "execution_count": 20,
   "metadata": {},
   "outputs": [
    {
     "name": "stdout",
     "output_type": "stream",
     "text": [
      "10/10 - 0s - loss: 0.1728 - accuracy: 0.9967 - 129ms/epoch - 13ms/step\n"
     ]
    }
   ],
   "source": [
    "test_loss, test_accuracy = model.evaluate(x_test_norm, y_test, verbose=2)"
   ]
  },
  {
   "attachments": {},
   "cell_type": "markdown",
   "metadata": {},
   "source": [
    "train data: 제사진을 빼고 잘 나온 5분들의 데이터를 합친 1500장  \n",
    "test data: aiffel에서 제공해준 test 데이터  \n",
    "실험 결과 test accuracy: 0.9967"
   ]
  }
 ],
 "metadata": {
  "kernelspec": {
   "display_name": "Python 3 (ipykernel)",
   "language": "python",
   "name": "python3"
  },
  "language_info": {
   "codemirror_mode": {
    "name": "ipython",
    "version": 3
   },
   "file_extension": ".py",
   "mimetype": "text/x-python",
   "name": "python",
   "nbconvert_exporter": "python",
   "pygments_lexer": "ipython3",
   "version": "3.8.0"
  }
 },
 "nbformat": 4,
 "nbformat_minor": 2
}
