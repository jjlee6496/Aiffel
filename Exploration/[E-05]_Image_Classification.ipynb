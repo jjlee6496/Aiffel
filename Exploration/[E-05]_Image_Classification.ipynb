{
 "cells": [
  {
   "cell_type": "code",
   "execution_count": 1,
   "metadata": {},
   "outputs": [
    {
     "name": "stdout",
     "output_type": "stream",
     "text": [
      "2.11.0\n",
      "1.23.5\n"
     ]
    }
   ],
   "source": [
    "import tensorflow as tf\n",
    "from tensorflow import keras\n",
    "import numpy as np\n",
    "from PIL import Image\n",
    "import glob\n",
    "import os\n",
    "import matplotlib.pyplot as plt\n",
    "\n",
    "print(tf.__version__)\n",
    "print(np.__version__)"
   ]
  },
  {
   "cell_type": "markdown",
   "metadata": {},
   "source": [
    "# train"
   ]
  },
  {
   "cell_type": "code",
   "execution_count": 2,
   "metadata": {},
   "outputs": [],
   "source": [
    "def resize_images(img_path):\n",
    "    images = glob.glob(img_path + \"/*.jpg\")\n",
    "    print(len(images), \"images to be resized.\")\n",
    "    \n",
    "    target_size = (28, 28)\n",
    "    for img in images:\n",
    "        old_img = Image.open(img)\n",
    "        new_img = old_img.resize(target_size, Image.ANTIALIAS)\n",
    "        new_img.save(img, \"JPEG\")\n",
    "    print(len(images), \"images resized.\")"
   ]
  },
  {
   "cell_type": "code",
   "execution_count": 3,
   "metadata": {},
   "outputs": [],
   "source": [
    "# image_dir_path = \"data/rock_scissor_paper/scissor\"\n",
    "# resize_images(image_dir_path)\n",
    "# print(\"가위 이미지 resize 완료!\")\n",
    "\n",
    "# image_dir_path = \"data/rock_scissor_paper/rock\"\n",
    "# resize_images(image_dir_path)\n",
    "# print(\"바위 이미지 resize 완료!\")\n",
    "\n",
    "# image_dir_path = \"data/rock_scissor_paper/paper\"\n",
    "# resize_images(image_dir_path)\n",
    "# print(\"보 이미지 resize 완료!\")"
   ]
  },
  {
   "cell_type": "code",
   "execution_count": 4,
   "metadata": {},
   "outputs": [
    {
     "name": "stdout",
     "output_type": "stream",
     "text": [
      "학습데이터(x_train)의 이미지 개수는 923 입니다.\n",
      "x_train shape: (923, 28, 28, 3)\n",
      "y_train shape: (923,)\n"
     ]
    }
   ],
   "source": [
    "def load_data(img_path, number_of_data=923):  # 가위바위보 이미지 개수 총합에 주의하세요.\n",
    "    # 가위 : 0, 바위 : 1, 보 : 2\n",
    "    img_size=28\n",
    "    color=3\n",
    "    #이미지 데이터와 라벨(가위 : 0, 바위 : 1, 보 : 2) 데이터를 담을 행렬(matrix) 영역을 생성합니다.\n",
    "    imgs=np.zeros(number_of_data*img_size*img_size*color,dtype=np.int32).reshape(number_of_data,img_size,img_size,color)\n",
    "    labels=np.zeros(number_of_data,dtype=np.int32)\n",
    "    \n",
    "    idx=0\n",
    "    for file in glob.iglob(img_path+'/scissor/*.jpg'):\n",
    "        img = np.array(Image.open(file),dtype=np.int32)\n",
    "        imgs[idx,:,:,:]=img    # 데이터 영역에 이미지 행렬을 복사\n",
    "        labels[idx]=0   # 가위 : 0\n",
    "        idx=idx+1\n",
    "\n",
    "    for file in glob.iglob(img_path+'/rock/*.jpg'):\n",
    "        img = np.array(Image.open(file),dtype=np.int32)\n",
    "        imgs[idx,:,:,:]=img    # 데이터 영역에 이미지 행렬을 복사\n",
    "        labels[idx]=1   # 바위 : 1\n",
    "        idx=idx+1  \n",
    "    \n",
    "    for file in glob.iglob(img_path+'/paper/*.jpg'):\n",
    "        img = np.array(Image.open(file),dtype=np.int32)\n",
    "        imgs[idx,:,:,:]=img    # 데이터 영역에 이미지 행렬을 복사\n",
    "        labels[idx]=2   # 보 : 2\n",
    "        idx=idx+1\n",
    "        \n",
    "    print(\"학습데이터(x_train)의 이미지 개수는\", idx,\"입니다.\")\n",
    "    return imgs, labels\n",
    "\n",
    "image_dir_path = \"data/rock_scissor_paper\"\n",
    "(x_train, y_train)=load_data(image_dir_path)\n",
    "x_train_norm = x_train/255.0   # 입력은 0~1 사이의 값으로 정규화\n",
    "\n",
    "print(\"x_train shape: {}\".format(x_train.shape))\n",
    "print(\"y_train shape: {}\".format(y_train.shape))"
   ]
  },
  {
   "cell_type": "code",
   "execution_count": 5,
   "metadata": {},
   "outputs": [],
   "source": [
    "from sklearn.model_selection import train_test_split\n",
    "\n",
    "x_train,x_val,y_train,y_val = train_test_split(x_train,\n",
    "                                                 y_train,\n",
    "                                                 test_size=0.3,\n",
    "                                                 random_state=42)"
   ]
  },
  {
   "cell_type": "code",
   "execution_count": 6,
   "metadata": {},
   "outputs": [
    {
     "name": "stdout",
     "output_type": "stream",
     "text": [
      "라벨:  0\n",
      "(28, 28, 3)\n"
     ]
    },
    {
     "data": {
      "image/png": "[encoded data removed]",
      "text/plain": [
       "<Figure size 640x480 with 1 Axes>"
      ]
     },
     "metadata": {},
     "output_type": "display_data"
    }
   ],
   "source": [
    "plt.imshow(x_train[23])\n",
    "print('라벨: ', y_train[23])\n",
    "print(x_train[23].shape)"
   ]
  },
  {
   "cell_type": "markdown",
   "metadata": {},
   "source": [
    "# train"
   ]
  },
  {
   "cell_type": "code",
   "execution_count": 17,
   "metadata": {},
   "outputs": [
    {
     "name": "stdout",
     "output_type": "stream",
     "text": [
      "Model: \"sequential_2\"\n",
      "_________________________________________________________________\n",
      " Layer (type)                Output Shape              Param #   \n",
      "=================================================================\n",
      " conv2d_6 (Conv2D)           (None, 26, 26, 28)        784       \n",
      "                                                                 \n",
      " max_pooling2d_6 (MaxPooling  (None, 13, 13, 28)       0         \n",
      " 2D)                                                             \n",
      "                                                                 \n",
      " batch_normalization_6 (Batc  (None, 13, 13, 28)       112       \n",
      " hNormalization)                                                 \n",
      "                                                                 \n",
      " dropout_1 (Dropout)         (None, 13, 13, 28)        0         \n",
      "                                                                 \n",
      " conv2d_7 (Conv2D)           (None, 11, 11, 56)        14168     \n",
      "                                                                 \n",
      " max_pooling2d_7 (MaxPooling  (None, 5, 5, 56)         0         \n",
      " 2D)                                                             \n",
      "                                                                 \n",
      " batch_normalization_7 (Batc  (None, 5, 5, 56)         224       \n",
      " hNormalization)                                                 \n",
      "                                                                 \n",
      " dropout_2 (Dropout)         (None, 5, 5, 56)          0         \n",
      "                                                                 \n",
      " conv2d_8 (Conv2D)           (None, 3, 3, 72)          36360     \n",
      "                                                                 \n",
      " max_pooling2d_8 (MaxPooling  (None, 1, 1, 72)         0         \n",
      " 2D)                                                             \n",
      "                                                                 \n",
      " batch_normalization_8 (Batc  (None, 1, 1, 72)         288       \n",
      " hNormalization)                                                 \n",
      "                                                                 \n",
      " dropout_3 (Dropout)         (None, 1, 1, 72)          0         \n",
      "                                                                 \n",
      " flatten_2 (Flatten)         (None, 72)                0         \n",
      "                                                                 \n",
      " dense_4 (Dense)             (None, 16)                1168      \n",
      "                                                                 \n",
      " dense_5 (Dense)             (None, 10)                170       \n",
      "                                                                 \n",
      "=================================================================\n",
      "Total params: 53,274\n",
      "Trainable params: 52,962\n",
      "Non-trainable params: 312\n",
      "_________________________________________________________________\n"
     ]
    }
   ],
   "source": [
    "n_channel_1=28\n",
    "n_channel_2=56\n",
    "n_channel_3=72\n",
    "\n",
    "n_dense= 16\n",
    "n_train_epoch=100\n",
    "batch_size = 1\n",
    "lr = 0.002\n",
    "\n",
    "model=keras.models.Sequential()\n",
    "\n",
    "model.add(keras.layers.Conv2D(n_channel_1, (3,3), activation='relu', input_shape=(28,28,3),\n",
    "                              kernel_initializer=tf.keras.initializers.HeNormal()),\n",
    ")\n",
    "model.add(keras.layers.MaxPool2D(2,2))\n",
    "model.add(keras.layers.BatchNormalization())\n",
    "model.add(keras.layers.Dropout(0.2))\n",
    "\n",
    "model.add(keras.layers.Conv2D(n_channel_2, (3,3), activation='relu', input_shape=(28,28,3),\n",
    "                              kernel_initializer=tf.keras.initializers.HeNormal()))\n",
    "model.add(keras.layers.MaxPool2D(2,2))\n",
    "model.add(keras.layers.BatchNormalization())\n",
    "model.add(keras.layers.Dropout(0.2))\n",
    "\n",
    "model.add(keras.layers.Conv2D(n_channel_3, (3,3), activation='relu',\n",
    "                              kernel_initializer=tf.keras.initializers.HeNormal()))\n",
    "model.add(keras.layers.MaxPooling2D((2,2)))\n",
    "model.add(keras.layers.BatchNormalization())\n",
    "model.add(keras.layers.Dropout(0.2))\n",
    "\n",
    "model.add(keras.layers.Flatten())\n",
    "model.add(keras.layers.Dense(n_dense, activation='relu',\n",
    "                             kernel_regularizer=tf.keras.regularizers.L1(0.01),\n",
    "                             activity_regularizer=tf.keras.regularizers.L2(0.01)))\n",
    "model.add(keras.layers.Dense(10, activation='softmax'))\n",
    "\n",
    "model.summary()"
   ]
  },
  {
   "attachments": {},
   "cell_type": "markdown",
   "metadata": {},
   "source": [
    "Conv2D에서 relu가 활성화함수이기 때문에 HE normal로 가중치 초기화, 실험에서 안정성을 위해 BatchNormalization을 각각 추가해줬고, Dropout을 0.3으로 주어 과적합을 피하고자 했다.  "
   ]
  },
  {
   "cell_type": "code",
   "execution_count": 18,
   "metadata": {},
   "outputs": [
    {
     "name": "stdout",
     "output_type": "stream",
     "text": [
      "학습데이터(x_train)의 이미지 개수는 923 입니다.\n",
      "x_train shape: (923, 28, 28, 3)\n",
      "y_train shape: (923,)\n"
     ]
    }
   ],
   "source": [
    "def load_data(img_path, number_of_data=923):  # 가위바위보 이미지 개수 총합에 주의하세요.\n",
    "    # 가위 : 0, 바위 : 1, 보 : 2\n",
    "    img_size=28\n",
    "    color=3\n",
    "    #이미지 데이터와 라벨(가위 : 0, 바위 : 1, 보 : 2) 데이터를 담을 행렬(matrix) 영역을 생성합니다.\n",
    "    imgs=np.zeros(number_of_data*img_size*img_size*color,dtype=np.int32).reshape(number_of_data,img_size,img_size,color)\n",
    "    labels=np.zeros(number_of_data,dtype=np.int32)\n",
    "    \n",
    "    idx=0\n",
    "    for file in glob.iglob(img_path+'/scissor/*.jpg'):\n",
    "        img = np.array(Image.open(file),dtype=np.int32)\n",
    "        imgs[idx,:,:,:]=img    # 데이터 영역에 이미지 행렬을 복사\n",
    "        labels[idx]=0   # 가위 : 0\n",
    "        idx=idx+1\n",
    "\n",
    "    for file in glob.iglob(img_path+'/rock/*.jpg'):\n",
    "        img = np.array(Image.open(file),dtype=np.int32)\n",
    "        imgs[idx,:,:,:]=img    # 데이터 영역에 이미지 행렬을 복사\n",
    "        labels[idx]=1   # 바위 : 1\n",
    "        idx=idx+1  \n",
    "    \n",
    "    for file in glob.iglob(img_path+'/paper/*.jpg'):\n",
    "        img = np.array(Image.open(file),dtype=np.int32)\n",
    "        imgs[idx,:,:,:]=img    # 데이터 영역에 이미지 행렬을 복사\n",
    "        labels[idx]=2   # 보 : 2\n",
    "        idx=idx+1\n",
    "        \n",
    "    print(\"학습데이터(x_train)의 이미지 개수는\", idx,\"입니다.\")\n",
    "    return imgs, labels\n",
    "\n",
    "image_dir_path = \"data/rock_scissor_paper\"\n",
    "(x_train, y_train)=load_data(image_dir_path)\n",
    "x_train_norm = x_train/255.0   # 입력은 0~1 사이의 값으로 정규화\n",
    "\n",
    "print(\"x_train shape: {}\".format(x_train.shape))\n",
    "print(\"y_train shape: {}\".format(y_train.shape))"
   ]
  },
  {
   "cell_type": "code",
   "execution_count": 19,
   "metadata": {},
   "outputs": [
    {
     "name": "stdout",
     "output_type": "stream",
     "text": [
      "Epoch 1/100\n",
      "29/29 [==============================] - 5s 56ms/step - loss: 3.4239 - accuracy: 0.3521 - val_loss: 12808.5547 - val_accuracy: 0.3394 - lr: 0.0020\n",
      "Epoch 2/100\n",
      "29/29 [==============================] - 1s 44ms/step - loss: 2.4395 - accuracy: 0.7151 - val_loss: 9614.6016 - val_accuracy: 0.4404 - lr: 0.0020\n",
      "Epoch 3/100\n",
      "29/29 [==============================] - 1s 41ms/step - loss: 1.9395 - accuracy: 0.8104 - val_loss: 8488.3818 - val_accuracy: 0.4982 - lr: 0.0020\n",
      "Epoch 4/100\n",
      "29/29 [==============================] - 1s 45ms/step - loss: 1.5142 - accuracy: 0.8971 - val_loss: 9033.9717 - val_accuracy: 0.4116 - lr: 0.0020\n",
      "Epoch 5/100\n",
      "29/29 [==============================] - 1s 37ms/step - loss: 1.2123 - accuracy: 0.9274 - val_loss: 6537.8438 - val_accuracy: 0.3755 - lr: 0.0020\n",
      "Epoch 6/100\n",
      "29/29 [==============================] - 1s 44ms/step - loss: 0.9959 - accuracy: 0.9274 - val_loss: 4053.1443 - val_accuracy: 0.3466 - lr: 0.0020\n",
      "Epoch 7/100\n",
      "29/29 [==============================] - 1s 43ms/step - loss: 0.7878 - accuracy: 0.9707 - val_loss: 2866.2634 - val_accuracy: 0.3502 - lr: 0.0020\n",
      "Epoch 8/100\n",
      "29/29 [==============================] - 1s 39ms/step - loss: 0.6781 - accuracy: 0.9707 - val_loss: 1923.7933 - val_accuracy: 0.3357 - lr: 0.0020\n",
      "Epoch 9/100\n",
      "29/29 [==============================] - 1s 40ms/step - loss: 0.5958 - accuracy: 0.9718 - val_loss: 1056.6824 - val_accuracy: 0.3755 - lr: 0.0020\n",
      "Epoch 10/100\n",
      "29/29 [==============================] - 1s 43ms/step - loss: 0.5182 - accuracy: 0.9816 - val_loss: 617.7958 - val_accuracy: 0.4729 - lr: 0.0020\n",
      "Epoch 11/100\n",
      "29/29 [==============================] - 1s 38ms/step - loss: 0.4586 - accuracy: 0.9870 - val_loss: 502.2641 - val_accuracy: 0.4043 - lr: 0.0018\n",
      "Epoch 12/100\n",
      "29/29 [==============================] - 1s 36ms/step - loss: 0.4172 - accuracy: 0.9902 - val_loss: 238.9974 - val_accuracy: 0.7148 - lr: 0.0016\n",
      "Epoch 13/100\n",
      "29/29 [==============================] - 1s 39ms/step - loss: 0.3930 - accuracy: 0.9870 - val_loss: 186.0328 - val_accuracy: 0.8014 - lr: 0.0015\n",
      "Epoch 14/100\n",
      "29/29 [==============================] - 1s 38ms/step - loss: 0.3615 - accuracy: 0.9913 - val_loss: 176.6502 - val_accuracy: 0.7292 - lr: 0.0013\n",
      "Epoch 15/100\n",
      "29/29 [==============================] - 1s 39ms/step - loss: 0.3382 - accuracy: 0.9913 - val_loss: 126.0962 - val_accuracy: 0.8195 - lr: 0.0012\n",
      "Epoch 16/100\n",
      "29/29 [==============================] - 1s 38ms/step - loss: 0.3141 - accuracy: 0.9957 - val_loss: 78.0748 - val_accuracy: 0.8917 - lr: 0.0011\n",
      "Epoch 17/100\n",
      "29/29 [==============================] - 1s 34ms/step - loss: 0.3065 - accuracy: 0.9957 - val_loss: 94.0173 - val_accuracy: 0.8809 - lr: 9.9317e-04\n",
      "Epoch 18/100\n",
      "29/29 [==============================] - 1s 38ms/step - loss: 0.2954 - accuracy: 0.9957 - val_loss: 83.0880 - val_accuracy: 0.8700 - lr: 8.9866e-04\n",
      "Epoch 19/100\n",
      "29/29 [==============================] - 1s 35ms/step - loss: 0.2888 - accuracy: 0.9924 - val_loss: 71.5755 - val_accuracy: 0.8628 - lr: 8.1314e-04\n",
      "Epoch 20/100\n",
      "29/29 [==============================] - 1s 37ms/step - loss: 0.2723 - accuracy: 0.9978 - val_loss: 70.3378 - val_accuracy: 0.9206 - lr: 7.3576e-04\n",
      "Epoch 21/100\n",
      "29/29 [==============================] - 1s 35ms/step - loss: 0.2718 - accuracy: 0.9957 - val_loss: 73.8123 - val_accuracy: 0.9458 - lr: 6.6574e-04\n",
      "Epoch 22/100\n",
      "29/29 [==============================] - 1s 39ms/step - loss: 0.2616 - accuracy: 0.9967 - val_loss: 68.6173 - val_accuracy: 0.9495 - lr: 6.0239e-04\n",
      "Epoch 23/100\n",
      "29/29 [==============================] - 1s 40ms/step - loss: 0.2547 - accuracy: 0.9967 - val_loss: 67.2917 - val_accuracy: 0.9567 - lr: 5.4506e-04\n",
      "Epoch 24/100\n",
      "29/29 [==============================] - 1s 36ms/step - loss: 0.2566 - accuracy: 0.9957 - val_loss: 70.8687 - val_accuracy: 0.9639 - lr: 4.9319e-04\n",
      "Epoch 25/100\n",
      "29/29 [==============================] - 1s 32ms/step - loss: 0.2470 - accuracy: 0.9957 - val_loss: 69.1653 - val_accuracy: 0.9603 - lr: 4.4626e-04\n",
      "Epoch 26/100\n",
      "29/29 [==============================] - 1s 35ms/step - loss: 0.2532 - accuracy: 0.9946 - val_loss: 64.5485 - val_accuracy: 0.9639 - lr: 4.0379e-04\n",
      "Epoch 27/100\n",
      "29/29 [==============================] - 1s 40ms/step - loss: 0.2427 - accuracy: 0.9978 - val_loss: 78.1439 - val_accuracy: 0.9603 - lr: 3.6537e-04\n",
      "Epoch 28/100\n",
      "29/29 [==============================] - 1s 32ms/step - loss: 0.2387 - accuracy: 0.9967 - val_loss: 68.3648 - val_accuracy: 0.9675 - lr: 3.3060e-04\n",
      "Epoch 29/100\n",
      "29/29 [==============================] - 1s 36ms/step - loss: 0.2436 - accuracy: 0.9957 - val_loss: 77.1560 - val_accuracy: 0.9675 - lr: 2.9914e-04\n",
      "Epoch 30/100\n",
      "29/29 [==============================] - 1s 36ms/step - loss: 0.2291 - accuracy: 0.9989 - val_loss: 71.1117 - val_accuracy: 0.9639 - lr: 2.7067e-04\n",
      "Epoch 31/100\n",
      "29/29 [==============================] - 1s 36ms/step - loss: 0.2336 - accuracy: 0.9957 - val_loss: 66.1016 - val_accuracy: 0.9603 - lr: 2.4491e-04\n",
      "Epoch 32/100\n",
      "29/29 [==============================] - 1s 34ms/step - loss: 0.2290 - accuracy: 1.0000 - val_loss: 62.2306 - val_accuracy: 0.9639 - lr: 2.2161e-04\n",
      "Epoch 33/100\n",
      "29/29 [==============================] - 1s 36ms/step - loss: 0.2323 - accuracy: 0.9978 - val_loss: 61.2899 - val_accuracy: 0.9675 - lr: 2.0052e-04\n",
      "Epoch 34/100\n",
      "29/29 [==============================] - 1s 38ms/step - loss: 0.2235 - accuracy: 0.9989 - val_loss: 65.4752 - val_accuracy: 0.9603 - lr: 1.8144e-04\n",
      "Epoch 35/100\n",
      "29/29 [==============================] - 1s 39ms/step - loss: 0.2247 - accuracy: 0.9989 - val_loss: 58.1223 - val_accuracy: 0.9675 - lr: 1.6417e-04\n",
      "Epoch 36/100\n",
      "29/29 [==============================] - 1s 34ms/step - loss: 0.2186 - accuracy: 0.9989 - val_loss: 57.6250 - val_accuracy: 0.9675 - lr: 1.4855e-04\n",
      "Epoch 37/100\n",
      "29/29 [==============================] - 1s 39ms/step - loss: 0.2344 - accuracy: 0.9967 - val_loss: 68.5996 - val_accuracy: 0.9675 - lr: 1.3441e-04\n",
      "Epoch 38/100\n",
      "29/29 [==============================] - 1s 38ms/step - loss: 0.2211 - accuracy: 0.9978 - val_loss: 64.5727 - val_accuracy: 0.9675 - lr: 1.2162e-04\n",
      "Epoch 39/100\n",
      "29/29 [==============================] - 1s 38ms/step - loss: 0.2230 - accuracy: 0.9967 - val_loss: 63.4800 - val_accuracy: 0.9711 - lr: 1.1005e-04\n",
      "Epoch 40/100\n",
      "29/29 [==============================] - 1s 35ms/step - loss: 0.2279 - accuracy: 0.9957 - val_loss: 61.4784 - val_accuracy: 0.9711 - lr: 9.9574e-05\n",
      "Epoch 41/100\n",
      "29/29 [==============================] - 1s 37ms/step - loss: 0.2227 - accuracy: 0.9957 - val_loss: 64.7777 - val_accuracy: 0.9711 - lr: 9.0098e-05\n",
      "Epoch 42/100\n",
      "29/29 [==============================] - 1s 37ms/step - loss: 0.2218 - accuracy: 1.0000 - val_loss: 68.0658 - val_accuracy: 0.9711 - lr: 8.1524e-05\n"
     ]
    }
   ],
   "source": [
    "def scheduler(epoch, lr):\n",
    "      if epoch < 10:\n",
    "          return lr\n",
    "      else:\n",
    "          return lr * tf.math.exp(-0.1)\n",
    "\n",
    "sc = tf.keras.callbacks.LearningRateScheduler(scheduler)\n",
    "es = tf.keras.callbacks.EarlyStopping(monitor='accuracy', patience=10)\n",
    "\n",
    "model.compile(tf.keras.optimizers.Adam(learning_rate=lr),\n",
    "             loss='sparse_categorical_crossentropy',\n",
    "             metrics=['accuracy'])\n",
    "\n",
    "# 모델 훈련\n",
    "history = model.fit(x_train_norm, y_train, epochs=n_train_epoch,\n",
    "                    validation_data = (x_val,y_val), callbacks=[sc,es])"
   ]
  },
  {
   "cell_type": "markdown",
   "metadata": {},
   "source": [
    "## 시각화"
   ]
  },
  {
   "cell_type": "code",
   "execution_count": 20,
   "metadata": {},
   "outputs": [
    {
     "data": {
      "image/png": "[encoded data removed]",
      "text/plain": [
       "<Figure size 640x480 with 1 Axes>"
      ]
     },
     "metadata": {},
     "output_type": "display_data"
    }
   ],
   "source": [
    "# summarize history for accuracy\n",
    "plt.plot(history.history['accuracy'])\n",
    "plt.plot(history.history['val_accuracy'])\n",
    "plt.title('model accuracy')\n",
    "plt.ylabel('accuracy')\n",
    "plt.xlabel('epoch')\n",
    "plt.legend(['train', 'validation'], loc='upper left')\n",
    "plt.show()"
   ]
  },
  {
   "cell_type": "code",
   "execution_count": 21,
   "metadata": {},
   "outputs": [
    {
     "data": {
      "image/png": "[encoded data removed]",
      "text/plain": [
       "<Figure size 640x480 with 1 Axes>"
      ]
     },
     "metadata": {},
     "output_type": "display_data"
    }
   ],
   "source": [
    "# summarize history for loss\n",
    "plt.plot(history.history['loss'])\n",
    "plt.plot(history.history['val_loss'])\n",
    "plt.title('model loss')\n",
    "plt.ylabel('loss')\n",
    "plt.xlabel('epoch')\n",
    "plt.legend(['train', 'validation'], loc='upper left')\n",
    "plt.show()"
   ]
  },
  {
   "cell_type": "markdown",
   "metadata": {},
   "source": [
    "# test 평가"
   ]
  },
  {
   "cell_type": "code",
   "execution_count": 22,
   "metadata": {},
   "outputs": [
    {
     "name": "stdout",
     "output_type": "stream",
     "text": [
      "학습데이터(x_train)의 이미지 개수는 300 입니다.\n",
      "x_test shape: (300, 28, 28, 3)\n",
      "y_test shape: (300,)\n"
     ]
    }
   ],
   "source": [
    "# image_dir_path = \"data/rock_scissor_paper/test/rock\"\n",
    "# resize_images(image_dir_path)\n",
    "# print(\"바위 이미지 resize 완료!\")\n",
    "\n",
    "# image_dir_path = \"data/rock_scissor_paper/test/scissor\"\n",
    "# resize_images(image_dir_path)\n",
    "# print(\"가위 이미지 resize 완료!\")\n",
    "\n",
    "# image_dir_path = \"data/rock_scissor_paper/test/paper\"\n",
    "# resize_images(image_dir_path)\n",
    "# print(\"보 이미지 resize 완료!\")\n",
    "\n",
    "image_dir_path = \"./data/rock_scissor_paper/test\"\n",
    "(x_test, y_test)=load_data(image_dir_path, 300)\n",
    "x_test_norm = x_test/255.0   # 입력은 0~1 사이의 값으로 정규화\n",
    "\n",
    "print(\"x_test shape: {}\".format(x_test.shape))\n",
    "print(\"y_test shape: {}\".format(y_test.shape))"
   ]
  },
  {
   "cell_type": "code",
   "execution_count": 24,
   "metadata": {},
   "outputs": [
    {
     "name": "stdout",
     "output_type": "stream",
     "text": [
      "10/10 - 1s - loss: 1.1095 - accuracy: 0.7367 - 627ms/epoch - 63ms/step\n"
     ]
    }
   ],
   "source": [
    "test_loss, test_accuracy = model.evaluate(x_test_norm, y_test, verbose=2)"
   ]
  },
  {
   "attachments": {},
   "cell_type": "markdown",
   "metadata": {},
   "source": [
    "train data: 제 사진과 은정님, 혜원님 사진을 넣었습니다.  \n",
    "test data: 승호님의 사진을 test로 넣어줬습니다.  \n",
    "실험 결과 test accuracy: 0.7367"
   ]
  }
 ],
 "metadata": {
  "kernelspec": {
   "display_name": "Python 3 (ipykernel)",
   "language": "python",
   "name": "python3"
  },
  "language_info": {
   "codemirror_mode": {
    "name": "ipython",
    "version": 3
   },
   "file_extension": ".py",
   "mimetype": "text/x-python",
   "name": "python",
   "nbconvert_exporter": "python",
   "pygments_lexer": "ipython3",
   "version": "3.8.0"
  }
 },
 "nbformat": 4,
 "nbformat_minor": 2
}
