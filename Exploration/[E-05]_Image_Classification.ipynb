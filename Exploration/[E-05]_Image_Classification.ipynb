{
 "cells": [
  {
   "cell_type": "code",
   "execution_count": 1,
   "metadata": {},
   "outputs": [
    {
     "name": "stdout",
     "output_type": "stream",
     "text": [
      "2.11.0\n",
      "1.23.5\n"
     ]
    }
   ],
   "source": [
    "import tensorflow as tf\n",
    "from tensorflow import keras\n",
    "import numpy as np\n",
    "from PIL import Image\n",
    "import glob\n",
    "import os\n",
    "import matplotlib.pyplot as plt\n",
    "\n",
    "print(tf.__version__)\n",
    "print(np.__version__)"
   ]
  },
  {
   "cell_type": "markdown",
   "metadata": {},
   "source": [
    "# train"
   ]
  },
  {
   "cell_type": "code",
   "execution_count": 2,
   "metadata": {},
   "outputs": [],
   "source": [
    "def resize_images(img_path):\n",
    "    images = glob.glob(img_path + \"/*.jpg\")\n",
    "    print(len(images), \"images to be resized.\")\n",
    "    \n",
    "    target_size = (28, 28)\n",
    "    for img in images:\n",
    "        old_img = Image.open(img)\n",
    "        new_img = old_img.resize(target_size, Image.ANTIALIAS)\n",
    "        new_img.save(img, \"JPEG\")\n",
    "    print(len(images), \"images resized.\")"
   ]
  },
  {
   "cell_type": "code",
   "execution_count": 3,
   "metadata": {},
   "outputs": [],
   "source": [
    "# image_dir_path = \"data/rock_scissor_paper/scissor\"\n",
    "# resize_images(image_dir_path)\n",
    "# print(\"가위 이미지 resize 완료!\")\n",
    "\n",
    "# image_dir_path = \"data/rock_scissor_paper/rock\"\n",
    "# resize_images(image_dir_path)\n",
    "# print(\"바위 이미지 resize 완료!\")\n",
    "\n",
    "# image_dir_path = \"data/rock_scissor_paper/paper\"\n",
    "# resize_images(image_dir_path)\n",
    "# print(\"보 이미지 resize 완료!\")"
   ]
  },
  {
   "cell_type": "code",
   "execution_count": 4,
   "metadata": {},
   "outputs": [
    {
     "name": "stdout",
     "output_type": "stream",
     "text": [
      "학습데이터(x_train)의 이미지 개수는 923 입니다.\n",
      "x_train shape: (923, 28, 28, 3)\n",
      "y_train shape: (923,)\n"
     ]
    }
   ],
   "source": [
    "def load_data(img_path, number_of_data=923):  # 가위바위보 이미지 개수 총합에 주의하세요.\n",
    "    # 가위 : 0, 바위 : 1, 보 : 2\n",
    "    img_size=28\n",
    "    color=3\n",
    "    #이미지 데이터와 라벨(가위 : 0, 바위 : 1, 보 : 2) 데이터를 담을 행렬(matrix) 영역을 생성합니다.\n",
    "    imgs=np.zeros(number_of_data*img_size*img_size*color,dtype=np.int32).reshape(number_of_data,img_size,img_size,color)\n",
    "    labels=np.zeros(number_of_data,dtype=np.int32)\n",
    "    \n",
    "    idx=0\n",
    "    for file in glob.iglob(img_path+'/scissor/*.jpg'):\n",
    "        img = np.array(Image.open(file),dtype=np.int32)\n",
    "        imgs[idx,:,:,:]=img    # 데이터 영역에 이미지 행렬을 복사\n",
    "        labels[idx]=0   # 가위 : 0\n",
    "        idx=idx+1\n",
    "\n",
    "    for file in glob.iglob(img_path+'/rock/*.jpg'):\n",
    "        img = np.array(Image.open(file),dtype=np.int32)\n",
    "        imgs[idx,:,:,:]=img    # 데이터 영역에 이미지 행렬을 복사\n",
    "        labels[idx]=1   # 바위 : 1\n",
    "        idx=idx+1  \n",
    "    \n",
    "    for file in glob.iglob(img_path+'/paper/*.jpg'):\n",
    "        img = np.array(Image.open(file),dtype=np.int32)\n",
    "        imgs[idx,:,:,:]=img    # 데이터 영역에 이미지 행렬을 복사\n",
    "        labels[idx]=2   # 보 : 2\n",
    "        idx=idx+1\n",
    "        \n",
    "    print(\"학습데이터(x_train)의 이미지 개수는\", idx,\"입니다.\")\n",
    "    return imgs, labels\n",
    "\n",
    "image_dir_path = \"data/rock_scissor_paper\"\n",
    "(x_train, y_train)=load_data(image_dir_path)\n",
    "x_train_norm = x_train/255.0   # 입력은 0~1 사이의 값으로 정규화\n",
    "\n",
    "print(\"x_train shape: {}\".format(x_train.shape))\n",
    "print(\"y_train shape: {}\".format(y_train.shape))"
   ]
  },
  {
   "cell_type": "code",
   "execution_count": 5,
   "metadata": {},
   "outputs": [],
   "source": [
    "from sklearn.model_selection import train_test_split\n",
    "\n",
    "x_train,x_val,y_train,y_val = train_test_split(x_train,\n",
    "                                                 y_train,\n",
    "                                                 test_size=0.3,\n",
    "                                                 random_state=42)"
   ]
  },
  {
   "cell_type": "code",
   "execution_count": 6,
   "metadata": {},
   "outputs": [
    {
     "name": "stdout",
     "output_type": "stream",
     "text": [
      "라벨:  0\n",
      "(28, 28, 3)\n"
     ]
    },
    {
     "data": {
      "image/png": "[encoded data removed]",
      "text/plain": [
       "<Figure size 640x480 with 1 Axes>"
      ]
     },
     "metadata": {},
     "output_type": "display_data"
    }
   ],
   "source": [
    "plt.imshow(x_train[23])\n",
    "print('라벨: ', y_train[23])\n",
    "print(x_train[23].shape)"
   ]
  },
  {
   "cell_type": "markdown",
   "metadata": {},
   "source": [
    "# train"
   ]
  },
  {
   "cell_type": "code",
   "execution_count": 7,
   "metadata": {},
   "outputs": [
    {
     "name": "stdout",
     "output_type": "stream",
     "text": [
      "Model: \"sequential\"\n",
      "_________________________________________________________________\n",
      " Layer (type)                Output Shape              Param #   \n",
      "=================================================================\n",
      " conv2d (Conv2D)             (None, 26, 26, 28)        784       \n",
      "                                                                 \n",
      " max_pooling2d (MaxPooling2D  (None, 13, 13, 28)       0         \n",
      " )                                                               \n",
      "                                                                 \n",
      " batch_normalization (BatchN  (None, 13, 13, 28)       112       \n",
      " ormalization)                                                   \n",
      "                                                                 \n",
      " conv2d_1 (Conv2D)           (None, 11, 11, 56)        14168     \n",
      "                                                                 \n",
      " max_pooling2d_1 (MaxPooling  (None, 5, 5, 56)         0         \n",
      " 2D)                                                             \n",
      "                                                                 \n",
      " batch_normalization_1 (Batc  (None, 5, 5, 56)         224       \n",
      " hNormalization)                                                 \n",
      "                                                                 \n",
      " conv2d_2 (Conv2D)           (None, 3, 3, 72)          36360     \n",
      "                                                                 \n",
      " max_pooling2d_2 (MaxPooling  (None, 1, 1, 72)         0         \n",
      " 2D)                                                             \n",
      "                                                                 \n",
      " batch_normalization_2 (Batc  (None, 1, 1, 72)         288       \n",
      " hNormalization)                                                 \n",
      "                                                                 \n",
      " flatten (Flatten)           (None, 72)                0         \n",
      "                                                                 \n",
      " dense (Dense)               (None, 16)                1168      \n",
      "                                                                 \n",
      " dense_1 (Dense)             (None, 10)                170       \n",
      "                                                                 \n",
      "=================================================================\n",
      "Total params: 53,274\n",
      "Trainable params: 52,962\n",
      "Non-trainable params: 312\n",
      "_________________________________________________________________\n"
     ]
    }
   ],
   "source": [
    "n_channel_1=28\n",
    "n_channel_2=56\n",
    "n_channel_3=72\n",
    "\n",
    "n_dense= 16\n",
    "n_train_epoch=100\n",
    "batch_size = 1\n",
    "lr = 0.002\n",
    "\n",
    "model=keras.models.Sequential()\n",
    "\n",
    "model.add(keras.layers.Conv2D(n_channel_1, (3,3), activation='relu', input_shape=(28,28,3),\n",
    "                              kernel_initializer=tf.keras.initializers.HeNormal()),\n",
    ")\n",
    "model.add(keras.layers.MaxPool2D(2,2))\n",
    "model.add(keras.layers.BatchNormalization())\n",
    "\n",
    "model.add(keras.layers.Conv2D(n_channel_2, (3,3), activation='relu', input_shape=(28,28,3),\n",
    "                              kernel_initializer=tf.keras.initializers.HeNormal()))\n",
    "model.add(keras.layers.MaxPool2D(2,2))\n",
    "model.add(keras.layers.BatchNormalization())\n",
    "\n",
    "model.add(keras.layers.Conv2D(n_channel_3, (3,3), activation='relu',\n",
    "                              kernel_initializer=tf.keras.initializers.HeNormal()))\n",
    "model.add(keras.layers.MaxPooling2D((2,2)))\n",
    "model.add(keras.layers.BatchNormalization())\n",
    "\n",
    "model.add(keras.layers.Flatten())\n",
    "model.add(keras.layers.Dense(n_dense, activation='relu',\n",
    "                             kernel_regularizer=tf.keras.regularizers.L1(0.01),\n",
    "                             activity_regularizer=tf.keras.regularizers.L2(0.01)))\n",
    "model.add(keras.layers.Dense(10, activation='softmax'))\n",
    "\n",
    "model.summary()"
   ]
  },
  {
   "attachments": {},
   "cell_type": "markdown",
   "metadata": {},
   "source": [
    "Conv2D에서 relu가 활성화함수이기 때문에 HE normal로 가중치 초기화, 실험에서 안정성을 위해 BatchNormalization을 각각 추가해줬고, Dropout을 0.3으로 주어 과적합을 피하고자 했다.  "
   ]
  },
  {
   "cell_type": "code",
   "execution_count": 8,
   "metadata": {},
   "outputs": [
    {
     "name": "stdout",
     "output_type": "stream",
     "text": [
      "학습데이터(x_train)의 이미지 개수는 923 입니다.\n",
      "x_train shape: (923, 28, 28, 3)\n",
      "y_train shape: (923,)\n"
     ]
    }
   ],
   "source": [
    "def load_data(img_path, number_of_data=923):  # 가위바위보 이미지 개수 총합에 주의하세요.\n",
    "    # 가위 : 0, 바위 : 1, 보 : 2\n",
    "    img_size=28\n",
    "    color=3\n",
    "    #이미지 데이터와 라벨(가위 : 0, 바위 : 1, 보 : 2) 데이터를 담을 행렬(matrix) 영역을 생성합니다.\n",
    "    imgs=np.zeros(number_of_data*img_size*img_size*color,dtype=np.int32).reshape(number_of_data,img_size,img_size,color)\n",
    "    labels=np.zeros(number_of_data,dtype=np.int32)\n",
    "    \n",
    "    idx=0\n",
    "    for file in glob.iglob(img_path+'/scissor/*.jpg'):\n",
    "        img = np.array(Image.open(file),dtype=np.int32)\n",
    "        imgs[idx,:,:,:]=img    # 데이터 영역에 이미지 행렬을 복사\n",
    "        labels[idx]=0   # 가위 : 0\n",
    "        idx=idx+1\n",
    "\n",
    "    for file in glob.iglob(img_path+'/rock/*.jpg'):\n",
    "        img = np.array(Image.open(file),dtype=np.int32)\n",
    "        imgs[idx,:,:,:]=img    # 데이터 영역에 이미지 행렬을 복사\n",
    "        labels[idx]=1   # 바위 : 1\n",
    "        idx=idx+1  \n",
    "    \n",
    "    for file in glob.iglob(img_path+'/paper/*.jpg'):\n",
    "        img = np.array(Image.open(file),dtype=np.int32)\n",
    "        imgs[idx,:,:,:]=img    # 데이터 영역에 이미지 행렬을 복사\n",
    "        labels[idx]=2   # 보 : 2\n",
    "        idx=idx+1\n",
    "        \n",
    "    print(\"학습데이터(x_train)의 이미지 개수는\", idx,\"입니다.\")\n",
    "    return imgs, labels\n",
    "\n",
    "image_dir_path = \"data/rock_scissor_paper\"\n",
    "(x_train, y_train)=load_data(image_dir_path)\n",
    "x_train_norm = x_train/255.0   # 입력은 0~1 사이의 값으로 정규화\n",
    "\n",
    "print(\"x_train shape: {}\".format(x_train.shape))\n",
    "print(\"y_train shape: {}\".format(y_train.shape))"
   ]
  },
  {
   "cell_type": "code",
   "execution_count": 9,
   "metadata": {},
   "outputs": [
    {
     "name": "stdout",
     "output_type": "stream",
     "text": [
      "Epoch 1/100\n",
      "29/29 [==============================] - 6s 50ms/step - loss: 2.6067 - accuracy: 0.7324 - val_loss: 9.6217 - val_accuracy: 0.3141 - lr: 0.0020\n",
      "Epoch 2/100\n",
      "29/29 [==============================] - 1s 36ms/step - loss: 1.7629 - accuracy: 0.9577 - val_loss: 2.9301 - val_accuracy: 0.6282 - lr: 0.0020\n",
      "Epoch 3/100\n",
      "29/29 [==============================] - 1s 35ms/step - loss: 1.3373 - accuracy: 0.9827 - val_loss: 1.6397 - val_accuracy: 0.8809 - lr: 0.0020\n",
      "Epoch 4/100\n",
      "29/29 [==============================] - 1s 36ms/step - loss: 1.0475 - accuracy: 0.9902 - val_loss: 1.0967 - val_accuracy: 0.9964 - lr: 0.0020\n",
      "Epoch 5/100\n",
      "29/29 [==============================] - 1s 35ms/step - loss: 0.7994 - accuracy: 0.9967 - val_loss: 0.7407 - val_accuracy: 0.9928 - lr: 0.0020\n",
      "Epoch 6/100\n",
      "29/29 [==============================] - 1s 32ms/step - loss: 0.6116 - accuracy: 1.0000 - val_loss: 0.5569 - val_accuracy: 1.0000 - lr: 0.0020\n",
      "Epoch 7/100\n",
      "29/29 [==============================] - 1s 31ms/step - loss: 0.4672 - accuracy: 1.0000 - val_loss: 0.4193 - val_accuracy: 1.0000 - lr: 0.0020\n",
      "Epoch 8/100\n",
      "29/29 [==============================] - 1s 35ms/step - loss: 0.3812 - accuracy: 1.0000 - val_loss: 0.3412 - val_accuracy: 1.0000 - lr: 0.0020\n",
      "Epoch 9/100\n",
      "29/29 [==============================] - 1s 33ms/step - loss: 0.3214 - accuracy: 0.9989 - val_loss: 0.2984 - val_accuracy: 1.0000 - lr: 0.0020\n",
      "Epoch 10/100\n",
      "29/29 [==============================] - 1s 32ms/step - loss: 0.2768 - accuracy: 0.9978 - val_loss: 0.2522 - val_accuracy: 1.0000 - lr: 0.0020\n",
      "Epoch 11/100\n",
      "29/29 [==============================] - 1s 35ms/step - loss: 0.2428 - accuracy: 1.0000 - val_loss: 0.2251 - val_accuracy: 1.0000 - lr: 0.0018\n",
      "Epoch 12/100\n",
      "29/29 [==============================] - 1s 34ms/step - loss: 0.2262 - accuracy: 1.0000 - val_loss: 0.2053 - val_accuracy: 1.0000 - lr: 0.0016\n",
      "Epoch 13/100\n",
      "29/29 [==============================] - 1s 34ms/step - loss: 0.2082 - accuracy: 1.0000 - val_loss: 0.1927 - val_accuracy: 1.0000 - lr: 0.0015\n",
      "Epoch 14/100\n",
      "29/29 [==============================] - 1s 34ms/step - loss: 0.1959 - accuracy: 1.0000 - val_loss: 0.1798 - val_accuracy: 1.0000 - lr: 0.0013\n",
      "Epoch 15/100\n",
      "29/29 [==============================] - 1s 32ms/step - loss: 0.1821 - accuracy: 1.0000 - val_loss: 0.1718 - val_accuracy: 1.0000 - lr: 0.0012\n",
      "Epoch 16/100\n",
      "29/29 [==============================] - 1s 32ms/step - loss: 0.1768 - accuracy: 1.0000 - val_loss: 0.1628 - val_accuracy: 1.0000 - lr: 0.0011\n"
     ]
    }
   ],
   "source": [
    "def scheduler(epoch, lr):\n",
    "      if epoch < 10:\n",
    "          return lr\n",
    "      else:\n",
    "          return lr * tf.math.exp(-0.1)\n",
    "\n",
    "sc = tf.keras.callbacks.LearningRateScheduler(scheduler)\n",
    "es = tf.keras.callbacks.EarlyStopping(monitor='accuracy', patience=10)\n",
    "\n",
    "model.compile(tf.keras.optimizers.Adam(learning_rate=lr),\n",
    "             loss='sparse_categorical_crossentropy',\n",
    "             metrics=['accuracy'])\n",
    "\n",
    "# 모델 훈련\n",
    "history = model.fit(x_train, y_train, epochs=n_train_epoch,\n",
    "                    validation_data = (x_val,y_val), callbacks=[sc,es])"
   ]
  },
  {
   "cell_type": "markdown",
   "metadata": {},
   "source": [
    "## 시각화"
   ]
  },
  {
   "cell_type": "code",
   "execution_count": 10,
   "metadata": {},
   "outputs": [
    {
     "data": {
      "image/png": "[encoded data removed]",
      "text/plain": [
       "<Figure size 640x480 with 1 Axes>"
      ]
     },
     "metadata": {},
     "output_type": "display_data"
    }
   ],
   "source": [
    "# summarize history for accuracy\n",
    "plt.plot(history.history['accuracy'])\n",
    "plt.plot(history.history['val_accuracy'])\n",
    "plt.title('model accuracy')\n",
    "plt.ylabel('accuracy')\n",
    "plt.xlabel('epoch')\n",
    "plt.legend(['train', 'validation'], loc='upper left')\n",
    "plt.show()"
   ]
  },
  {
   "cell_type": "code",
   "execution_count": 11,
   "metadata": {},
   "outputs": [
    {
     "data": {
      "image/png": "[encoded data removed]",
      "text/plain": [
       "<Figure size 640x480 with 1 Axes>"
      ]
     },
     "metadata": {},
     "output_type": "display_data"
    }
   ],
   "source": [
    "# summarize history for loss\n",
    "plt.plot(history.history['loss'])\n",
    "plt.plot(history.history['val_loss'])\n",
    "plt.title('model loss')\n",
    "plt.ylabel('loss')\n",
    "plt.xlabel('epoch')\n",
    "plt.legend(['train', 'validation'], loc='upper left')\n",
    "plt.show()"
   ]
  },
  {
   "cell_type": "markdown",
   "metadata": {},
   "source": [
    "# test 평가"
   ]
  },
  {
   "cell_type": "code",
   "execution_count": 12,
   "metadata": {},
   "outputs": [
    {
     "name": "stdout",
     "output_type": "stream",
     "text": [
      "학습데이터(x_train)의 이미지 개수는 300 입니다.\n",
      "x_test shape: (300, 28, 28, 3)\n",
      "y_test shape: (300,)\n"
     ]
    }
   ],
   "source": [
    "# image_dir_path = \"data/rock_scissor_paper/test/rock\"\n",
    "# resize_images(image_dir_path)\n",
    "# print(\"바위 이미지 resize 완료!\")\n",
    "\n",
    "# image_dir_path = \"data/rock_scissor_paper/test/scissor\"\n",
    "# resize_images(image_dir_path)\n",
    "# print(\"가위 이미지 resize 완료!\")\n",
    "\n",
    "# image_dir_path = \"data/rock_scissor_paper/test/paper\"\n",
    "# resize_images(image_dir_path)\n",
    "# print(\"보 이미지 resize 완료!\")\n",
    "\n",
    "image_dir_path = \"./data/rock_scissor_paper/test\"\n",
    "(x_test, y_test)=load_data(image_dir_path, 300)\n",
    "x_test_norm = x_test/255.0   # 입력은 0~1 사이의 값으로 정규화\n",
    "\n",
    "print(\"x_test shape: {}\".format(x_test.shape))\n",
    "print(\"y_test shape: {}\".format(y_test.shape))"
   ]
  },
  {
   "cell_type": "code",
   "execution_count": 13,
   "metadata": {},
   "outputs": [
    {
     "name": "stdout",
     "output_type": "stream",
     "text": [
      "10/10 - 0s - loss: 1.2539 - accuracy: 0.6667 - 125ms/epoch - 12ms/step\n"
     ]
    }
   ],
   "source": [
    "test_loss, test_accuracy = model.evaluate(x_test, y_test, verbose=2)"
   ]
  },
  {
   "attachments": {},
   "cell_type": "markdown",
   "metadata": {},
   "source": [
    "train data: 제 사진과 은정님, 혜원님 사진을 넣었습니다.  \n",
    "test data: 승호님의 사진을 test로 넣어줬습니다.  \n",
    "실험 결과 test accuracy: 0.6667"
   ]
  }
 ],
 "metadata": {
  "kernelspec": {
   "display_name": "Python 3 (ipykernel)",
   "language": "python",
   "name": "python3"
  },
  "language_info": {
   "codemirror_mode": {
    "name": "ipython",
    "version": 3
   },
   "file_extension": ".py",
   "mimetype": "text/x-python",
   "name": "python",
   "nbconvert_exporter": "python",
   "pygments_lexer": "ipython3",
   "version": "3.8.0"
  }
 },
 "nbformat": 4,
 "nbformat_minor": 2
}
