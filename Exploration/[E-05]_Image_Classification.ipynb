{
 "cells": [
  {
   "cell_type": "code",
   "execution_count": 1,
   "metadata": {},
   "outputs": [
    {
     "name": "stdout",
     "output_type": "stream",
     "text": [
      "2.11.0\n",
      "1.23.5\n"
     ]
    }
   ],
   "source": [
    "import tensorflow as tf\n",
    "from tensorflow import keras\n",
    "import numpy as np\n",
    "from PIL import Image\n",
    "import glob\n",
    "import os\n",
    "import matplotlib.pyplot as plt\n",
    "\n",
    "print(tf.__version__)\n",
    "print(np.__version__)"
   ]
  },
  {
   "cell_type": "markdown",
   "metadata": {},
   "source": [
    "# train"
   ]
  },
  {
   "cell_type": "code",
   "execution_count": 2,
   "metadata": {},
   "outputs": [],
   "source": [
    "def resize_images(img_path):\n",
    "    images = glob.glob(img_path + \"/*.jpg\")\n",
    "    print(len(images), \"images to be resized.\")\n",
    "    \n",
    "    target_size = (28, 28)\n",
    "    for img in images:\n",
    "        old_img = Image.open(img)\n",
    "        new_img = old_img.resize(target_size, Image.ANTIALIAS)\n",
    "        new_img.save(img, \"JPEG\")\n",
    "    print(len(images), \"images resized.\")"
   ]
  },
  {
   "cell_type": "code",
   "execution_count": 3,
   "metadata": {},
   "outputs": [],
   "source": [
    "# image_dir_path = \"data/rock_scissor_paper/scissor\"\n",
    "# resize_images(image_dir_path)\n",
    "# print(\"가위 이미지 resize 완료!\")\n",
    "\n",
    "# image_dir_path = \"data/rock_scissor_paper/rock\"\n",
    "# resize_images(image_dir_path)\n",
    "# print(\"바위 이미지 resize 완료!\")\n",
    "\n",
    "# image_dir_path = \"data/rock_scissor_paper/paper\"\n",
    "# resize_images(image_dir_path)\n",
    "# print(\"보 이미지 resize 완료!\")"
   ]
  },
  {
   "cell_type": "code",
   "execution_count": 4,
   "metadata": {},
   "outputs": [
    {
     "name": "stdout",
     "output_type": "stream",
     "text": [
      "학습데이터(x_train)의 이미지 개수는 923 입니다.\n",
      "x_train shape: (923, 28, 28, 3)\n",
      "y_train shape: (923,)\n"
     ]
    }
   ],
   "source": [
    "def load_data(img_path, number_of_data=923):  # 가위바위보 이미지 개수 총합에 주의하세요.\n",
    "    # 가위 : 0, 바위 : 1, 보 : 2\n",
    "    img_size=28\n",
    "    color=3\n",
    "    #이미지 데이터와 라벨(가위 : 0, 바위 : 1, 보 : 2) 데이터를 담을 행렬(matrix) 영역을 생성합니다.\n",
    "    imgs=np.zeros(number_of_data*img_size*img_size*color,dtype=np.int32).reshape(number_of_data,img_size,img_size,color)\n",
    "    labels=np.zeros(number_of_data,dtype=np.int32)\n",
    "    \n",
    "    idx=0\n",
    "    for file in glob.iglob(img_path+'/scissor/*.jpg'):\n",
    "        img = np.array(Image.open(file),dtype=np.int32)\n",
    "        imgs[idx,:,:,:]=img    # 데이터 영역에 이미지 행렬을 복사\n",
    "        labels[idx]=0   # 가위 : 0\n",
    "        idx=idx+1\n",
    "\n",
    "    for file in glob.iglob(img_path+'/rock/*.jpg'):\n",
    "        img = np.array(Image.open(file),dtype=np.int32)\n",
    "        imgs[idx,:,:,:]=img    # 데이터 영역에 이미지 행렬을 복사\n",
    "        labels[idx]=1   # 바위 : 1\n",
    "        idx=idx+1  \n",
    "    \n",
    "    for file in glob.iglob(img_path+'/paper/*.jpg'):\n",
    "        img = np.array(Image.open(file),dtype=np.int32)\n",
    "        imgs[idx,:,:,:]=img    # 데이터 영역에 이미지 행렬을 복사\n",
    "        labels[idx]=2   # 보 : 2\n",
    "        idx=idx+1\n",
    "        \n",
    "    print(\"학습데이터(x_train)의 이미지 개수는\", idx,\"입니다.\")\n",
    "    return imgs, labels\n",
    "\n",
    "image_dir_path = \"data/rock_scissor_paper\"\n",
    "(x_train, y_train)=load_data(image_dir_path)\n",
    "x_train_norm = x_train/255.0   # 입력은 0~1 사이의 값으로 정규화\n",
    "\n",
    "print(\"x_train shape: {}\".format(x_train.shape))\n",
    "print(\"y_train shape: {}\".format(y_train.shape))"
   ]
  },
  {
   "cell_type": "code",
   "execution_count": 5,
   "metadata": {},
   "outputs": [],
   "source": [
    "from sklearn.model_selection import train_test_split\n",
    "\n",
    "x_train,x_val,y_train,y_val = train_test_split(x_train,\n",
    "                                                 y_train,\n",
    "                                                 test_size=0.3,\n",
    "                                                 random_state=42)"
   ]
  },
  {
   "cell_type": "code",
   "execution_count": 6,
   "metadata": {},
   "outputs": [
    {
     "name": "stdout",
     "output_type": "stream",
     "text": [
      "라벨:  0\n",
      "(28, 28, 3)\n"
     ]
    },
    {
     "data": {
      "image/png": "[encoded data removed]",
      "text/plain": [
       "<Figure size 640x480 with 1 Axes>"
      ]
     },
     "metadata": {},
     "output_type": "display_data"
    }
   ],
   "source": [
    "plt.imshow(x_train[23])\n",
    "print('라벨: ', y_train[23])\n",
    "print(x_train[23].shape)"
   ]
  },
  {
   "cell_type": "markdown",
   "metadata": {},
   "source": [
    "# train"
   ]
  },
  {
   "cell_type": "code",
   "execution_count": 7,
   "metadata": {},
   "outputs": [
    {
     "name": "stdout",
     "output_type": "stream",
     "text": [
      "Model: \"sequential\"\n",
      "_________________________________________________________________\n",
      " Layer (type)                Output Shape              Param #   \n",
      "=================================================================\n",
      " conv2d (Conv2D)             (None, 26, 26, 28)        784       \n",
      "                                                                 \n",
      " max_pooling2d (MaxPooling2D  (None, 13, 13, 28)       0         \n",
      " )                                                               \n",
      "                                                                 \n",
      " dropout (Dropout)           (None, 13, 13, 28)        0         \n",
      "                                                                 \n",
      " batch_normalization (BatchN  (None, 13, 13, 28)       112       \n",
      " ormalization)                                                   \n",
      "                                                                 \n",
      " conv2d_1 (Conv2D)           (None, 11, 11, 56)        14168     \n",
      "                                                                 \n",
      " max_pooling2d_1 (MaxPooling  (None, 5, 5, 56)         0         \n",
      " 2D)                                                             \n",
      "                                                                 \n",
      " dropout_1 (Dropout)         (None, 5, 5, 56)          0         \n",
      "                                                                 \n",
      " batch_normalization_1 (Batc  (None, 5, 5, 56)         224       \n",
      " hNormalization)                                                 \n",
      "                                                                 \n",
      " conv2d_2 (Conv2D)           (None, 3, 3, 72)          36360     \n",
      "                                                                 \n",
      " max_pooling2d_2 (MaxPooling  (None, 1, 1, 72)         0         \n",
      " 2D)                                                             \n",
      "                                                                 \n",
      " dropout_2 (Dropout)         (None, 1, 1, 72)          0         \n",
      "                                                                 \n",
      " batch_normalization_2 (Batc  (None, 1, 1, 72)         288       \n",
      " hNormalization)                                                 \n",
      "                                                                 \n",
      " flatten (Flatten)           (None, 72)                0         \n",
      "                                                                 \n",
      " dense (Dense)               (None, 16)                1168      \n",
      "                                                                 \n",
      " dropout_3 (Dropout)         (None, 16)                0         \n",
      "                                                                 \n",
      " dense_1 (Dense)             (None, 10)                170       \n",
      "                                                                 \n",
      "=================================================================\n",
      "Total params: 53,274\n",
      "Trainable params: 52,962\n",
      "Non-trainable params: 312\n",
      "_________________________________________________________________\n"
     ]
    }
   ],
   "source": [
    "n_channel_1=28\n",
    "n_channel_2=56\n",
    "n_channel_3=72\n",
    "\n",
    "n_dense= 16\n",
    "n_train_epoch=100\n",
    "batch_size = 1\n",
    "lr = 0.002\n",
    "\n",
    "model=keras.models.Sequential()\n",
    "\n",
    "model.add(keras.layers.Conv2D(n_channel_1, (3,3), activation='relu', input_shape=(28,28,3),\n",
    "                              kernel_initializer=tf.keras.initializers.HeNormal()),\n",
    ")\n",
    "model.add(keras.layers.MaxPool2D(2,2))\n",
    "model.add(keras.layers.Dropout(0.3))\n",
    "model.add(keras.layers.BatchNormalization())\n",
    "\n",
    "model.add(keras.layers.Conv2D(n_channel_2, (3,3), activation='relu', input_shape=(28,28,3),\n",
    "                              kernel_initializer=tf.keras.initializers.HeNormal()))\n",
    "model.add(keras.layers.MaxPool2D(2,2))\n",
    "model.add(keras.layers.Dropout(0.3))\n",
    "model.add(keras.layers.BatchNormalization())\n",
    "\n",
    "model.add(keras.layers.Conv2D(n_channel_3, (3,3), activation='relu',\n",
    "                              kernel_initializer=tf.keras.initializers.HeNormal()))\n",
    "model.add(keras.layers.MaxPooling2D((2,2)))\n",
    "model.add(keras.layers.Dropout(0.3))\n",
    "model.add(keras.layers.BatchNormalization())\n",
    "\n",
    "model.add(keras.layers.Flatten())\n",
    "model.add(keras.layers.Dense(n_dense, activation='relu',\n",
    "                             kernel_regularizer=tf.keras.regularizers.L1(0.01),\n",
    "                             activity_regularizer=tf.keras.regularizers.L2(0.01)))\n",
    "model.add(keras.layers.Dropout(0.3))\n",
    "model.add(keras.layers.Dense(10, activation='softmax'))\n",
    "\n",
    "model.summary()"
   ]
  },
  {
   "attachments": {},
   "cell_type": "markdown",
   "metadata": {},
   "source": [
    "Conv2D에서 relu가 활성화함수이기 때문에 HE normal로 가중치 초기화, 실험에서 안정성을 위해 BatchNormalization을 각각 추가해줬고, Dropout을 0.3으로 주어 과적합을 피하고자 했다.  "
   ]
  },
  {
   "cell_type": "code",
   "execution_count": 8,
   "metadata": {},
   "outputs": [
    {
     "name": "stdout",
     "output_type": "stream",
     "text": [
      "학습데이터(x_train)의 이미지 개수는 923 입니다.\n",
      "x_train shape: (923, 28, 28, 3)\n",
      "y_train shape: (923,)\n"
     ]
    }
   ],
   "source": [
    "def load_data(img_path, number_of_data=923):  # 가위바위보 이미지 개수 총합에 주의하세요.\n",
    "    # 가위 : 0, 바위 : 1, 보 : 2\n",
    "    img_size=28\n",
    "    color=3\n",
    "    #이미지 데이터와 라벨(가위 : 0, 바위 : 1, 보 : 2) 데이터를 담을 행렬(matrix) 영역을 생성합니다.\n",
    "    imgs=np.zeros(number_of_data*img_size*img_size*color,dtype=np.int32).reshape(number_of_data,img_size,img_size,color)\n",
    "    labels=np.zeros(number_of_data,dtype=np.int32)\n",
    "    \n",
    "    idx=0\n",
    "    for file in glob.iglob(img_path+'/scissor/*.jpg'):\n",
    "        img = np.array(Image.open(file),dtype=np.int32)\n",
    "        imgs[idx,:,:,:]=img    # 데이터 영역에 이미지 행렬을 복사\n",
    "        labels[idx]=0   # 가위 : 0\n",
    "        idx=idx+1\n",
    "\n",
    "    for file in glob.iglob(img_path+'/rock/*.jpg'):\n",
    "        img = np.array(Image.open(file),dtype=np.int32)\n",
    "        imgs[idx,:,:,:]=img    # 데이터 영역에 이미지 행렬을 복사\n",
    "        labels[idx]=1   # 바위 : 1\n",
    "        idx=idx+1  \n",
    "    \n",
    "    for file in glob.iglob(img_path+'/paper/*.jpg'):\n",
    "        img = np.array(Image.open(file),dtype=np.int32)\n",
    "        imgs[idx,:,:,:]=img    # 데이터 영역에 이미지 행렬을 복사\n",
    "        labels[idx]=2   # 보 : 2\n",
    "        idx=idx+1\n",
    "        \n",
    "    print(\"학습데이터(x_train)의 이미지 개수는\", idx,\"입니다.\")\n",
    "    return imgs, labels\n",
    "\n",
    "image_dir_path = \"data/rock_scissor_paper\"\n",
    "(x_train, y_train)=load_data(image_dir_path)\n",
    "x_train_norm = x_train/255.0   # 입력은 0~1 사이의 값으로 정규화\n",
    "\n",
    "print(\"x_train shape: {}\".format(x_train.shape))\n",
    "print(\"y_train shape: {}\".format(y_train.shape))"
   ]
  },
  {
   "cell_type": "code",
   "execution_count": 9,
   "metadata": {},
   "outputs": [
    {
     "name": "stdout",
     "output_type": "stream",
     "text": [
      "Epoch 1/100\n",
      "29/29 [==============================] - 4s 50ms/step - loss: 3.6215 - accuracy: 0.2069 - val_loss: 4.3257 - val_accuracy: 0.3141 - lr: 0.0020\n",
      "Epoch 2/100\n",
      "29/29 [==============================] - 1s 36ms/step - loss: 2.8254 - accuracy: 0.4117 - val_loss: 3.1117 - val_accuracy: 0.3249 - lr: 0.0020\n",
      "Epoch 3/100\n",
      "29/29 [==============================] - 1s 33ms/step - loss: 2.3772 - accuracy: 0.5125 - val_loss: 2.2499 - val_accuracy: 0.4729 - lr: 0.0020\n",
      "Epoch 4/100\n",
      "29/29 [==============================] - 1s 33ms/step - loss: 2.0241 - accuracy: 0.5829 - val_loss: 1.6741 - val_accuracy: 0.6968 - lr: 0.0020\n",
      "Epoch 5/100\n",
      "29/29 [==============================] - 1s 33ms/step - loss: 1.7503 - accuracy: 0.6262 - val_loss: 1.3436 - val_accuracy: 0.7942 - lr: 0.0020\n",
      "Epoch 6/100\n",
      "29/29 [==============================] - 1s 42ms/step - loss: 1.5106 - accuracy: 0.7031 - val_loss: 1.1464 - val_accuracy: 0.8123 - lr: 0.0020\n",
      "Epoch 7/100\n",
      "29/29 [==============================] - 1s 34ms/step - loss: 1.2989 - accuracy: 0.7486 - val_loss: 1.0035 - val_accuracy: 0.8339 - lr: 0.0020\n",
      "Epoch 8/100\n",
      "29/29 [==============================] - 1s 36ms/step - loss: 1.1696 - accuracy: 0.7356 - val_loss: 0.9257 - val_accuracy: 0.8159 - lr: 0.0020\n",
      "Epoch 9/100\n",
      "29/29 [==============================] - 1s 34ms/step - loss: 1.0332 - accuracy: 0.7530 - val_loss: 0.8981 - val_accuracy: 0.8051 - lr: 0.0020\n",
      "Epoch 10/100\n",
      "29/29 [==============================] - 1s 34ms/step - loss: 0.9304 - accuracy: 0.7909 - val_loss: 0.7053 - val_accuracy: 0.8917 - lr: 0.0020\n",
      "Epoch 11/100\n",
      "29/29 [==============================] - 1s 32ms/step - loss: 0.8574 - accuracy: 0.7996 - val_loss: 0.7411 - val_accuracy: 0.8195 - lr: 0.0018\n",
      "Epoch 12/100\n",
      "29/29 [==============================] - 1s 34ms/step - loss: 0.7701 - accuracy: 0.8462 - val_loss: 0.7155 - val_accuracy: 0.8014 - lr: 0.0016\n",
      "Epoch 13/100\n",
      "29/29 [==============================] - 1s 33ms/step - loss: 0.7306 - accuracy: 0.8462 - val_loss: 0.6409 - val_accuracy: 0.8736 - lr: 0.0015\n",
      "Epoch 14/100\n",
      "29/29 [==============================] - 1s 33ms/step - loss: 0.6800 - accuracy: 0.8570 - val_loss: 0.5474 - val_accuracy: 0.8628 - lr: 0.0013\n",
      "Epoch 15/100\n",
      "29/29 [==============================] - 1s 34ms/step - loss: 0.6439 - accuracy: 0.8743 - val_loss: 0.6415 - val_accuracy: 0.8267 - lr: 0.0012\n",
      "Epoch 16/100\n",
      "29/29 [==============================] - 1s 38ms/step - loss: 0.6261 - accuracy: 0.8743 - val_loss: 0.4718 - val_accuracy: 0.9242 - lr: 0.0011\n",
      "Epoch 17/100\n",
      "29/29 [==============================] - 1s 32ms/step - loss: 0.5913 - accuracy: 0.8917 - val_loss: 0.4151 - val_accuracy: 0.9856 - lr: 9.9317e-04\n",
      "Epoch 18/100\n",
      "29/29 [==============================] - 1s 36ms/step - loss: 0.5571 - accuracy: 0.9068 - val_loss: 0.4051 - val_accuracy: 0.9819 - lr: 8.9866e-04\n",
      "Epoch 19/100\n",
      "29/29 [==============================] - 1s 32ms/step - loss: 0.5652 - accuracy: 0.9079 - val_loss: 0.3939 - val_accuracy: 0.9856 - lr: 8.1314e-04\n",
      "Epoch 20/100\n",
      "29/29 [==============================] - 1s 35ms/step - loss: 0.5123 - accuracy: 0.9220 - val_loss: 0.3506 - val_accuracy: 0.9892 - lr: 7.3576e-04\n",
      "Epoch 21/100\n",
      "29/29 [==============================] - 1s 35ms/step - loss: 0.5168 - accuracy: 0.9187 - val_loss: 0.3382 - val_accuracy: 0.9964 - lr: 6.6574e-04\n",
      "Epoch 22/100\n",
      "29/29 [==============================] - 1s 37ms/step - loss: 0.5048 - accuracy: 0.9252 - val_loss: 0.3282 - val_accuracy: 0.9964 - lr: 6.0239e-04\n",
      "Epoch 23/100\n",
      "29/29 [==============================] - 1s 34ms/step - loss: 0.5059 - accuracy: 0.9112 - val_loss: 0.3184 - val_accuracy: 1.0000 - lr: 5.4506e-04\n",
      "Epoch 24/100\n",
      "29/29 [==============================] - 1s 36ms/step - loss: 0.5035 - accuracy: 0.9242 - val_loss: 0.3324 - val_accuracy: 0.9892 - lr: 4.9319e-04\n",
      "Epoch 25/100\n",
      "29/29 [==============================] - 1s 38ms/step - loss: 0.4719 - accuracy: 0.9307 - val_loss: 0.3090 - val_accuracy: 1.0000 - lr: 4.4626e-04\n",
      "Epoch 26/100\n",
      "29/29 [==============================] - 1s 36ms/step - loss: 0.4549 - accuracy: 0.9339 - val_loss: 0.3295 - val_accuracy: 0.9819 - lr: 4.0379e-04\n",
      "Epoch 27/100\n",
      "29/29 [==============================] - 1s 36ms/step - loss: 0.4788 - accuracy: 0.9263 - val_loss: 0.3066 - val_accuracy: 0.9964 - lr: 3.6537e-04\n",
      "Epoch 28/100\n",
      "29/29 [==============================] - 1s 34ms/step - loss: 0.4484 - accuracy: 0.9480 - val_loss: 0.2956 - val_accuracy: 1.0000 - lr: 3.3060e-04\n",
      "Epoch 29/100\n",
      "29/29 [==============================] - 1s 34ms/step - loss: 0.4473 - accuracy: 0.9426 - val_loss: 0.2889 - val_accuracy: 1.0000 - lr: 2.9914e-04\n",
      "Epoch 30/100\n",
      "29/29 [==============================] - 1s 33ms/step - loss: 0.4246 - accuracy: 0.9523 - val_loss: 0.2836 - val_accuracy: 1.0000 - lr: 2.7067e-04\n",
      "Epoch 31/100\n",
      "29/29 [==============================] - 1s 33ms/step - loss: 0.4367 - accuracy: 0.9393 - val_loss: 0.2905 - val_accuracy: 1.0000 - lr: 2.4491e-04\n",
      "Epoch 32/100\n",
      "29/29 [==============================] - 1s 33ms/step - loss: 0.4314 - accuracy: 0.9480 - val_loss: 0.2789 - val_accuracy: 0.9964 - lr: 2.2161e-04\n",
      "Epoch 33/100\n",
      "29/29 [==============================] - 1s 37ms/step - loss: 0.4268 - accuracy: 0.9523 - val_loss: 0.2712 - val_accuracy: 1.0000 - lr: 2.0052e-04\n",
      "Epoch 34/100\n",
      "29/29 [==============================] - 1s 36ms/step - loss: 0.4309 - accuracy: 0.9458 - val_loss: 0.2766 - val_accuracy: 1.0000 - lr: 1.8144e-04\n",
      "Epoch 35/100\n",
      "29/29 [==============================] - 1s 32ms/step - loss: 0.4223 - accuracy: 0.9480 - val_loss: 0.2759 - val_accuracy: 1.0000 - lr: 1.6417e-04\n",
      "Epoch 36/100\n",
      "29/29 [==============================] - 1s 34ms/step - loss: 0.4204 - accuracy: 0.9523 - val_loss: 0.2750 - val_accuracy: 1.0000 - lr: 1.4855e-04\n",
      "Epoch 37/100\n",
      "29/29 [==============================] - 1s 33ms/step - loss: 0.3967 - accuracy: 0.9577 - val_loss: 0.2648 - val_accuracy: 1.0000 - lr: 1.3441e-04\n",
      "Epoch 38/100\n",
      "29/29 [==============================] - 1s 35ms/step - loss: 0.4167 - accuracy: 0.9480 - val_loss: 0.2701 - val_accuracy: 1.0000 - lr: 1.2162e-04\n",
      "Epoch 39/100\n",
      "29/29 [==============================] - 1s 32ms/step - loss: 0.4030 - accuracy: 0.9480 - val_loss: 0.2656 - val_accuracy: 1.0000 - lr: 1.1005e-04\n",
      "Epoch 40/100\n",
      "29/29 [==============================] - 1s 36ms/step - loss: 0.4244 - accuracy: 0.9469 - val_loss: 0.2670 - val_accuracy: 1.0000 - lr: 9.9574e-05\n",
      "Epoch 41/100\n",
      "29/29 [==============================] - 1s 35ms/step - loss: 0.4061 - accuracy: 0.9534 - val_loss: 0.2606 - val_accuracy: 1.0000 - lr: 9.0098e-05\n",
      "Epoch 42/100\n",
      "29/29 [==============================] - 1s 39ms/step - loss: 0.4189 - accuracy: 0.9458 - val_loss: 0.2649 - val_accuracy: 1.0000 - lr: 8.1524e-05\n",
      "Epoch 43/100\n",
      "29/29 [==============================] - 1s 34ms/step - loss: 0.4041 - accuracy: 0.9523 - val_loss: 0.2609 - val_accuracy: 1.0000 - lr: 7.3766e-05\n",
      "Epoch 44/100\n",
      "29/29 [==============================] - 1s 33ms/step - loss: 0.3998 - accuracy: 0.9577 - val_loss: 0.2612 - val_accuracy: 1.0000 - lr: 6.6747e-05\n",
      "Epoch 45/100\n",
      "29/29 [==============================] - 1s 32ms/step - loss: 0.3977 - accuracy: 0.9577 - val_loss: 0.2591 - val_accuracy: 1.0000 - lr: 6.0395e-05\n",
      "Epoch 46/100\n",
      "29/29 [==============================] - 1s 34ms/step - loss: 0.3800 - accuracy: 0.9632 - val_loss: 0.2586 - val_accuracy: 1.0000 - lr: 5.4647e-05\n",
      "Epoch 47/100\n",
      "29/29 [==============================] - 1s 33ms/step - loss: 0.4213 - accuracy: 0.9458 - val_loss: 0.2570 - val_accuracy: 1.0000 - lr: 4.9447e-05\n",
      "Epoch 48/100\n",
      "29/29 [==============================] - 1s 36ms/step - loss: 0.3984 - accuracy: 0.9491 - val_loss: 0.2598 - val_accuracy: 1.0000 - lr: 4.4742e-05\n",
      "Epoch 49/100\n",
      "29/29 [==============================] - 1s 31ms/step - loss: 0.3965 - accuracy: 0.9502 - val_loss: 0.2582 - val_accuracy: 1.0000 - lr: 4.0484e-05\n",
      "Epoch 50/100\n",
      "29/29 [==============================] - 1s 36ms/step - loss: 0.3944 - accuracy: 0.9512 - val_loss: 0.2563 - val_accuracy: 1.0000 - lr: 3.6631e-05\n",
      "Epoch 51/100\n",
      "29/29 [==============================] - 1s 33ms/step - loss: 0.3931 - accuracy: 0.9577 - val_loss: 0.2587 - val_accuracy: 1.0000 - lr: 3.3145e-05\n",
      "Epoch 52/100\n",
      "29/29 [==============================] - 1s 36ms/step - loss: 0.4006 - accuracy: 0.9502 - val_loss: 0.2557 - val_accuracy: 1.0000 - lr: 2.9991e-05\n",
      "Epoch 53/100\n",
      "29/29 [==============================] - 1s 31ms/step - loss: 0.3859 - accuracy: 0.9642 - val_loss: 0.2568 - val_accuracy: 1.0000 - lr: 2.7137e-05\n",
      "Epoch 54/100\n",
      "29/29 [==============================] - 1s 36ms/step - loss: 0.3864 - accuracy: 0.9675 - val_loss: 0.2554 - val_accuracy: 1.0000 - lr: 2.4555e-05\n",
      "Epoch 55/100\n",
      "29/29 [==============================] - 1s 32ms/step - loss: 0.4261 - accuracy: 0.9415 - val_loss: 0.2565 - val_accuracy: 1.0000 - lr: 2.2218e-05\n",
      "Epoch 56/100\n",
      "29/29 [==============================] - 1s 33ms/step - loss: 0.4044 - accuracy: 0.9599 - val_loss: 0.2546 - val_accuracy: 1.0000 - lr: 2.0104e-05\n",
      "Epoch 57/100\n",
      "29/29 [==============================] - 1s 36ms/step - loss: 0.4073 - accuracy: 0.9534 - val_loss: 0.2545 - val_accuracy: 1.0000 - lr: 1.8191e-05\n",
      "Epoch 58/100\n",
      "29/29 [==============================] - 1s 37ms/step - loss: 0.4196 - accuracy: 0.9480 - val_loss: 0.2551 - val_accuracy: 1.0000 - lr: 1.6460e-05\n",
      "Epoch 59/100\n",
      "29/29 [==============================] - 1s 31ms/step - loss: 0.3973 - accuracy: 0.9610 - val_loss: 0.2545 - val_accuracy: 1.0000 - lr: 1.4893e-05\n",
      "Epoch 60/100\n",
      "29/29 [==============================] - 1s 32ms/step - loss: 0.4040 - accuracy: 0.9523 - val_loss: 0.2559 - val_accuracy: 1.0000 - lr: 1.3476e-05\n",
      "Epoch 61/100\n",
      "29/29 [==============================] - 1s 33ms/step - loss: 0.3896 - accuracy: 0.9588 - val_loss: 0.2542 - val_accuracy: 1.0000 - lr: 1.2193e-05\n",
      "Epoch 62/100\n",
      "29/29 [==============================] - 1s 34ms/step - loss: 0.4109 - accuracy: 0.9491 - val_loss: 0.2537 - val_accuracy: 1.0000 - lr: 1.1033e-05\n",
      "Epoch 63/100\n",
      "29/29 [==============================] - 1s 33ms/step - loss: 0.3981 - accuracy: 0.9523 - val_loss: 0.2533 - val_accuracy: 1.0000 - lr: 9.9832e-06\n",
      "Epoch 64/100\n",
      "29/29 [==============================] - 1s 37ms/step - loss: 0.3859 - accuracy: 0.9567 - val_loss: 0.2539 - val_accuracy: 1.0000 - lr: 9.0332e-06\n"
     ]
    }
   ],
   "source": [
    "def scheduler(epoch, lr):\n",
    "      if epoch < 10:\n",
    "          return lr\n",
    "      else:\n",
    "          return lr * tf.math.exp(-0.1)\n",
    "\n",
    "sc = tf.keras.callbacks.LearningRateScheduler(scheduler)\n",
    "es = tf.keras.callbacks.EarlyStopping(monitor='accuracy', patience=10)\n",
    "\n",
    "model.compile(tf.keras.optimizers.Adam(learning_rate=lr),\n",
    "             loss='sparse_categorical_crossentropy',\n",
    "             metrics=['accuracy'])\n",
    "\n",
    "# 모델 훈련\n",
    "history = model.fit(x_train, y_train, epochs=n_train_epoch,\n",
    "                    validation_data = (x_val,y_val), callbacks=[sc,es])"
   ]
  },
  {
   "cell_type": "markdown",
   "metadata": {},
   "source": [
    "## 시각화"
   ]
  },
  {
   "cell_type": "code",
   "execution_count": 10,
   "metadata": {},
   "outputs": [
    {
     "data": {
      "image/png": "[encoded data removed]",
      "text/plain": [
       "<Figure size 640x480 with 1 Axes>"
      ]
     },
     "metadata": {},
     "output_type": "display_data"
    }
   ],
   "source": [
    "# summarize history for accuracy\n",
    "plt.plot(history.history['accuracy'])\n",
    "plt.plot(history.history['val_accuracy'])\n",
    "plt.title('model accuracy')\n",
    "plt.ylabel('accuracy')\n",
    "plt.xlabel('epoch')\n",
    "plt.legend(['train', 'validation'], loc='upper left')\n",
    "plt.show()"
   ]
  },
  {
   "cell_type": "code",
   "execution_count": 11,
   "metadata": {},
   "outputs": [
    {
     "data": {
      "image/png": "[encoded data removed]",
      "text/plain": [
       "<Figure size 640x480 with 1 Axes>"
      ]
     },
     "metadata": {},
     "output_type": "display_data"
    }
   ],
   "source": [
    "# summarize history for loss\n",
    "plt.plot(history.history['loss'])\n",
    "plt.plot(history.history['val_loss'])\n",
    "plt.title('model loss')\n",
    "plt.ylabel('loss')\n",
    "plt.xlabel('epoch')\n",
    "plt.legend(['train', 'validation'], loc='upper left')\n",
    "plt.show()"
   ]
  },
  {
   "cell_type": "markdown",
   "metadata": {},
   "source": [
    "# test 평가"
   ]
  },
  {
   "cell_type": "code",
   "execution_count": 12,
   "metadata": {},
   "outputs": [
    {
     "name": "stdout",
     "output_type": "stream",
     "text": [
      "학습데이터(x_train)의 이미지 개수는 300 입니다.\n",
      "x_test shape: (300, 28, 28, 3)\n",
      "y_test shape: (300,)\n"
     ]
    }
   ],
   "source": [
    "# image_dir_path = \"data/rock_scissor_paper/test/rock\"\n",
    "# resize_images(image_dir_path)\n",
    "# print(\"바위 이미지 resize 완료!\")\n",
    "\n",
    "# image_dir_path = \"data/rock_scissor_paper/test/scissor\"\n",
    "# resize_images(image_dir_path)\n",
    "# print(\"가위 이미지 resize 완료!\")\n",
    "\n",
    "# image_dir_path = \"data/rock_scissor_paper/test/paper\"\n",
    "# resize_images(image_dir_path)\n",
    "# print(\"보 이미지 resize 완료!\")\n",
    "\n",
    "image_dir_path = \"./data/rock_scissor_paper/test\"\n",
    "(x_test, y_test)=load_data(image_dir_path, 300)\n",
    "x_test_norm = x_test/255.0   # 입력은 0~1 사이의 값으로 정규화\n",
    "\n",
    "print(\"x_test shape: {}\".format(x_test.shape))\n",
    "print(\"y_test shape: {}\".format(y_test.shape))"
   ]
  },
  {
   "cell_type": "code",
   "execution_count": 15,
   "metadata": {},
   "outputs": [
    {
     "name": "stdout",
     "output_type": "stream",
     "text": [
      "10/10 - 0s - loss: 0.7913 - accuracy: 0.7267 - 130ms/epoch - 13ms/step\n"
     ]
    }
   ],
   "source": [
    "test_loss, test_accuracy = model.evaluate(x_test, y_test, verbose=2)"
   ]
  },
  {
   "attachments": {},
   "cell_type": "markdown",
   "metadata": {},
   "source": [
    "train data: 제 사진과 은정님, 혜원님 사진을 넣었습니다.  \n",
    "test data: 승호님의 사진을 test로 넣어줬습니다.  \n",
    "실험 결과 test accuracy: 0.7267 "
   ]
  }
 ],
 "metadata": {
  "kernelspec": {
   "display_name": "Python 3 (ipykernel)",
   "language": "python",
   "name": "python3"
  },
  "language_info": {
   "codemirror_mode": {
    "name": "ipython",
    "version": 3
   },
   "file_extension": ".py",
   "mimetype": "text/x-python",
   "name": "python",
   "nbconvert_exporter": "python",
   "pygments_lexer": "ipython3",
   "version": "3.8.0"
  }
 },
 "nbformat": 4,
 "nbformat_minor": 2
}
