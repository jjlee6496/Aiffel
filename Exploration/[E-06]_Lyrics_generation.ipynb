{
 "cells": [
  {
   "cell_type": "markdown",
   "id": "0ae3ab40",
   "metadata": {},
   "source": [
    "# 데이터 불러오기"
   ]
  },
  {
   "cell_type": "code",
   "execution_count": 11,
   "id": "4ad39c92",
   "metadata": {},
   "outputs": [
    {
     "name": "stdout",
     "output_type": "stream",
     "text": [
      "데이터 크기: 187088\n",
      "Examples:\n",
      " ['', '', '[Spoken Intro:]']\n"
     ]
    }
   ],
   "source": [
    "import glob\n",
    "import os, re \n",
    "import numpy as np\n",
    "import tensorflow as tf\n",
    "\n",
    "txt_file_path = os.getenv('HOME')+'/aiffel/lyricist/data/lyrics/*'\n",
    "txt_list = glob.glob(txt_file_path)\n",
    "\n",
    "\n",
    "txt_list = glob.glob(txt_file_path)\n",
    "raw_corpus = []\n",
    "\n",
    "for x in txt_list:\n",
    "    with open(x, 'r') as f:\n",
    "        raw = f.read().splitlines()\n",
    "        raw_corpus.extend(raw)\n",
    "\n",
    "print(\"데이터 크기:\", len(raw_corpus))\n",
    "print(\"Examples:\\n\", raw_corpus[:3])"
   ]
  },
  {
   "cell_type": "markdown",
   "id": "7b1bb786",
   "metadata": {},
   "source": [
    "# 데이터 정제"
   ]
  },
  {
   "cell_type": "code",
   "execution_count": 12,
   "id": "c55191b5",
   "metadata": {},
   "outputs": [],
   "source": [
    "def preprocess_sentence(sentence):\n",
    "    sentence = sentence.lower().strip() # 1\n",
    "    sentence = re.sub(r\"([?.!,¿])\", r\" \\1 \", sentence) # 2\n",
    "    sentence = re.sub(r'[\" \"]+', \" \", sentence) # 3\n",
    "    sentence = re.sub(r\"[^a-zA-Z?.!,¿]+\", \" \", sentence) # 4\n",
    "    sentence = sentence.strip() # 5\n",
    "    sentence = '<start> ' + sentence + ' <end>' # 6\n",
    "    return sentence"
   ]
  },
  {
   "cell_type": "code",
   "execution_count": 13,
   "id": "d1d8fc3b",
   "metadata": {},
   "outputs": [],
   "source": [
    "corpus = []\n",
    "\n",
    "# raw_corpus list에 저장된 문장들을 순서대로 반환하여 sentence에 저장\n",
    "for sentence in raw_corpus:\n",
    "    # 우리가 원하지 않는 문장은 건너뜁니다\n",
    "    if len(sentence) == 0: continue\n",
    "    if sentence[-1] == \":\": continue\n",
    "    \n",
    "    # 앞서 구현한 preprocess_sentence() 함수를 이용하여 문장을 정제를 하고 담아주세요\n",
    "    preprocessed_sentence = preprocess_sentence(sentence)\n",
    "    corpus.append(preprocessed_sentence)"
   ]
  },
  {
   "cell_type": "code",
   "execution_count": 14,
   "id": "2c1f42d2",
   "metadata": {},
   "outputs": [
    {
     "data": {
      "text/plain": [
       "['<start> spoken intro <end>',\n",
       " '<start> you ever want something <end>',\n",
       " '<start> that you know you shouldn t have <end>',\n",
       " '<start> the more you know you shouldn t have it , <end>',\n",
       " '<start> the more you want it <end>',\n",
       " '<start> and then one day you get it , <end>',\n",
       " '<start> it s so good too <end>',\n",
       " '<start> but it s just like my girl <end>',\n",
       " '<start> when she s around me <end>',\n",
       " '<start> i just feel so good , so good <end>']"
      ]
     },
     "execution_count": 14,
     "metadata": {},
     "output_type": "execute_result"
    }
   ],
   "source": [
    "corpus[:10]"
   ]
  },
  {
   "cell_type": "code",
   "execution_count": 15,
   "id": "63585636",
   "metadata": {},
   "outputs": [
    {
     "name": "stdout",
     "output_type": "stream",
     "text": [
      "[[   2 2701 2584 ...    0    0    0]\n",
      " [   2    7  156 ...    0    0    0]\n",
      " [   2   17    7 ...    0    0    0]\n",
      " ...\n",
      " [   2  311    1 ...    0    0    0]\n",
      " [   2  735    5 ...    0    0    0]\n",
      " [   2  735    5 ...    0    0    0]] <keras_preprocessing.text.Tokenizer object at 0x7f7c765c3880>\n"
     ]
    }
   ],
   "source": [
    "def tokenize(corpus):\n",
    "    # 7000단어를 기억할 수 있는 tokenizer를 만들겁니다\n",
    "    tokenizer = tf.keras.preprocessing.text.Tokenizer(\n",
    "        num_words=7000, \n",
    "        filters=' ',\n",
    "        oov_token=\"<unk>\"\n",
    "    )\n",
    "    # tokenizer.fit_on_texts(texts): 문자 데이터를 입력받아 리스트의 형태로 변환하는 메서드\n",
    "    tokenizer.fit_on_texts(corpus)\n",
    "\n",
    "    # tokenizer.texts_to_sequences(texts): 텍스트 안의 단어들을 숫자의 시퀀스 형태로 변환하는 메서드\n",
    "    tensor = tokenizer.texts_to_sequences(corpus)   \n",
    "\n",
    "    # 문장 앞에 패딩을 붙여 길이를 맞추고 싶다면 padding='pre'를 사용합니다\n",
    "    tensor = tf.keras.preprocessing.sequence.pad_sequences(tensor, padding='post',maxlen=20)  \n",
    "    \n",
    "    print(tensor,tokenizer)\n",
    "    return tensor, tokenizer\n",
    "\n",
    "tensor, tokenizer = tokenize(corpus)"
   ]
  },
  {
   "cell_type": "code",
   "execution_count": 16,
   "id": "bfe1d7ad",
   "metadata": {},
   "outputs": [
    {
     "name": "stdout",
     "output_type": "stream",
     "text": [
      "1 : <unk>\n",
      "2 : <start>\n",
      "3 : <end>\n",
      "4 : ,\n",
      "5 : i\n",
      "6 : the\n",
      "7 : you\n",
      "8 : and\n",
      "9 : a\n",
      "10 : to\n"
     ]
    }
   ],
   "source": [
    "for idx in tokenizer.index_word:\n",
    "    print(idx, \":\", tokenizer.index_word[idx])\n",
    "\n",
    "    if idx >= 10: break"
   ]
  },
  {
   "cell_type": "code",
   "execution_count": 17,
   "id": "131f413c",
   "metadata": {},
   "outputs": [],
   "source": [
    "# 마지막 토큰은 <end>가 아니라 <pad>일 가능성이 높습니다.\n",
    "src_input = tensor[:, :-1]  \n",
    "# tensor에서 <start>를 잘라내서 타겟 문장을 생성합니다.\n",
    "tgt_input = tensor[:, 1:]   "
   ]
  },
  {
   "cell_type": "markdown",
   "id": "3ed79491",
   "metadata": {},
   "source": [
    "# 평가 데이터셋 분리"
   ]
  },
  {
   "cell_type": "code",
   "execution_count": 19,
   "id": "1d4ae543",
   "metadata": {},
   "outputs": [],
   "source": [
    "from sklearn.model_selection import train_test_split\n",
    "\n",
    "# train/validation/test set으로 분할\n",
    "enc_train, enc_val, dec_train, dec_val = train_test_split(src_input, tgt_input, test_size=0.2, random_state=42)\n",
    "enc_val, enc_test, dec_val, dec_test = train_test_split(enc_val, dec_val, test_size=0.5, random_state=42)"
   ]
  },
  {
   "cell_type": "code",
   "execution_count": 20,
   "id": "d2993e41",
   "metadata": {},
   "outputs": [],
   "source": [
    "BUFFER_SIZE = len(src_input)\n",
    "BATCH_SIZE = 256\n",
    "steps_per_epoch = len(src_input) // BATCH_SIZE\n",
    "VOCAB_SIZE = tokenizer.num_words + 1  "
   ]
  },
  {
   "cell_type": "code",
   "execution_count": 25,
   "id": "d40a7c33",
   "metadata": {},
   "outputs": [],
   "source": [
    "train_dataset = tf.data.Dataset.from_tensor_slices((enc_train, dec_train))\n",
    "train_dataset = train_dataset.shuffle(len(enc_train)).batch(BATCH_SIZE, drop_remainder=True)\n",
    "\n",
    "val_dataset = tf.data.Dataset.from_tensor_slices((enc_val, dec_val))\n",
    "val_dataset = val_dataset.batch(BATCH_SIZE, drop_remainder = True)\n",
    "\n",
    "test_dataset = tf.data.Dataset.from_tensor_slices((enc_test, dec_test))\n",
    "test_dataset = test_dataset.batch(BATCH_SIZE, drop_remainder = True)"
   ]
  },
  {
   "cell_type": "markdown",
   "id": "2c14bbab",
   "metadata": {},
   "source": [
    "# Modeling"
   ]
  },
  {
   "cell_type": "code",
   "execution_count": 26,
   "id": "30b2adca",
   "metadata": {},
   "outputs": [],
   "source": [
    "class TextGenerator(tf.keras.Model):\n",
    "    def __init__(self, vocab_size, embedding_size, hidden_size):\n",
    "        super().__init__()\n",
    "        # Embedding 레이어, 2개의 LSTM 레이어, 1개의 Dense 레이어로 구성되어 있다.\n",
    "        # Embedding 레이어는 단어 사전의 인덱스 값을 해당 인덱스 번째의 워드 벡터로 바꿔준다.\n",
    "        # 이 워드 벡터는 의미 벡터 공간에서 단어의 추상적 표현으로 사용된다. \n",
    "        self.embedding = tf.keras.layers.Embedding(vocab_size, embedding_size)\n",
    "        self.rnn_1 = tf.keras.layers.LSTM(hidden_size, return_sequences=True)\n",
    "#         self.dropout = tf.keras.layers.Dropout(0.5)\n",
    "        self.rnn_2 = tf.keras.layers.LSTM(hidden_size, return_sequences=True)\n",
    "        self.linear = tf.keras.layers.Dense(vocab_size)\n",
    "        \n",
    "    def call(self, x):\n",
    "        out = self.embedding(x)\n",
    "        out = self.rnn_1(out)\n",
    "#         out = self.dropout(out)\n",
    "        out = self.rnn_2(out)\n",
    "#         out = self.dropout(out)\n",
    "        out = self.linear(out)\n",
    "        \n",
    "        return out\n",
    "\n",
    "embedding_size = 256 \n",
    "hidden_size = 1024 \n",
    "model = TextGenerator(tokenizer.num_words + 1, embedding_size , hidden_size) "
   ]
  },
  {
   "cell_type": "code",
   "execution_count": 30,
   "id": "6df52110",
   "metadata": {},
   "outputs": [
    {
     "name": "stdout",
     "output_type": "stream",
     "text": [
      "Epoch 1/30\n",
      "549/549 [==============================] - 111s 191ms/step - loss: 2.8318 - val_loss: 2.5178\n",
      "Epoch 2/30\n",
      "549/549 [==============================] - 105s 192ms/step - loss: 2.4307 - val_loss: 2.3636\n",
      "Epoch 3/30\n",
      "549/549 [==============================] - 105s 192ms/step - loss: 2.3031 - val_loss: 2.2742\n",
      "Epoch 4/30\n",
      "549/549 [==============================] - 105s 192ms/step - loss: 2.2113 - val_loss: 2.2089\n",
      "Epoch 5/30\n",
      "549/549 [==============================] - 105s 192ms/step - loss: 2.1342 - val_loss: 2.1573\n",
      "Epoch 6/30\n",
      "549/549 [==============================] - 105s 192ms/step - loss: 2.0651 - val_loss: 2.1141\n",
      "Epoch 7/30\n",
      "549/549 [==============================] - 105s 192ms/step - loss: 2.0015 - val_loss: 2.0775\n",
      "Epoch 8/30\n",
      "549/549 [==============================] - 105s 192ms/step - loss: 1.9418 - val_loss: 2.0466\n",
      "Epoch 9/30\n",
      "549/549 [==============================] - 105s 192ms/step - loss: 1.8853 - val_loss: 2.0202\n",
      "Epoch 10/30\n",
      "549/549 [==============================] - 105s 192ms/step - loss: 1.8312 - val_loss: 1.9949\n",
      "Epoch 11/30\n",
      "549/549 [==============================] - 105s 192ms/step - loss: 1.7772 - val_loss: 1.9714\n",
      "Epoch 12/30\n",
      "549/549 [==============================] - 105s 192ms/step - loss: 1.7238 - val_loss: 1.9525\n",
      "Epoch 13/30\n",
      "549/549 [==============================] - 105s 192ms/step - loss: 1.6889 - val_loss: 1.9489\n",
      "Epoch 14/30\n",
      "549/549 [==============================] - 105s 192ms/step - loss: 1.6418 - val_loss: 1.9339\n",
      "Epoch 15/30\n",
      "549/549 [==============================] - 105s 192ms/step - loss: 1.5907 - val_loss: 1.9170\n",
      "Epoch 16/30\n",
      "549/549 [==============================] - 105s 192ms/step - loss: 1.5413 - val_loss: 1.9061\n",
      "Epoch 17/30\n",
      "549/549 [==============================] - 105s 192ms/step - loss: 1.4970 - val_loss: 1.8982\n",
      "Epoch 18/30\n",
      "549/549 [==============================] - 105s 192ms/step - loss: 1.4535 - val_loss: 1.8932\n",
      "Epoch 19/30\n",
      "549/549 [==============================] - 105s 192ms/step - loss: 1.4119 - val_loss: 1.8870\n",
      "Epoch 20/30\n",
      "549/549 [==============================] - 105s 192ms/step - loss: 1.3710 - val_loss: 1.8838\n",
      "Epoch 21/30\n",
      "549/549 [==============================] - 105s 192ms/step - loss: 1.3309 - val_loss: 1.8808\n",
      "Epoch 22/30\n",
      "549/549 [==============================] - 105s 192ms/step - loss: 1.2919 - val_loss: 1.8793\n",
      "Epoch 23/30\n",
      "549/549 [==============================] - 105s 192ms/step - loss: 1.2533 - val_loss: 1.8804\n",
      "Epoch 24/30\n",
      "549/549 [==============================] - 105s 192ms/step - loss: 1.2161 - val_loss: 1.8824\n",
      "Epoch 25/30\n",
      "549/549 [==============================] - 105s 192ms/step - loss: 1.1802 - val_loss: 1.8823\n",
      "Epoch 26/30\n",
      "549/549 [==============================] - 105s 192ms/step - loss: 1.1449 - val_loss: 1.8860\n",
      "Epoch 27/30\n",
      "549/549 [==============================] - 105s 192ms/step - loss: 1.1112 - val_loss: 1.8910\n",
      "Epoch 28/30\n",
      "549/549 [==============================] - 105s 192ms/step - loss: 1.0785 - val_loss: 1.8937\n",
      "Epoch 29/30\n",
      "549/549 [==============================] - 105s 192ms/step - loss: 1.0475 - val_loss: 1.8993\n",
      "Epoch 30/30\n",
      "549/549 [==============================] - 105s 192ms/step - loss: 1.0182 - val_loss: 1.9068\n"
     ]
    },
    {
     "data": {
      "text/plain": [
       "<keras.callbacks.History at 0x7f7bf0824550>"
      ]
     },
     "execution_count": 30,
     "metadata": {},
     "output_type": "execute_result"
    }
   ],
   "source": [
    "optimizer = tf.keras.optimizers.Adam() # Adam은 현재 가장 많이 사용하는 옵티마이저이다. 자세한 내용은 차차 배운다.\n",
    "loss = tf.keras.losses.SparseCategoricalCrossentropy( # 훈련 데이터의 라벨이 정수의 형태로 제공될 때 사용하는 손실함수이다.\n",
    "    from_logits=True, # 기본값은 False이다. 모델에 의해 생성된 출력 값이 정규화되지 않았음을 손실 함수에 알려준다. 즉 softmax함수가 적용되지 않았다는걸 의미한다. \n",
    "    reduction='none'  # 기본값은 SUM이다. 각자 나오는 값의 반환 원할 때 None을 사용한다.\n",
    ")\n",
    "# 모델을 학습시키키 위한 학습과정을 설정하는 단계이다.\n",
    "model.compile(loss=loss, optimizer=optimizer) # 손실함수와 훈련과정을 설정했다.\n",
    "model.fit(train_dataset, epochs=30, validation_data=val_dataset)"
   ]
  },
  {
   "cell_type": "code",
   "execution_count": 34,
   "id": "e8b2f177",
   "metadata": {},
   "outputs": [
    {
     "name": "stdout",
     "output_type": "stream",
     "text": [
      "68/68 [==============================] - 5s 68ms/step - loss: 1.9102\n",
      "Test Loss: 1.91\n"
     ]
    }
   ],
   "source": [
    "# 테스트 데이터셋에 대해 모델 실행 및 평가\n",
    "test_loss = model.evaluate(test_dataset)\n",
    "\n",
    "# 모델의 성능 출력\n",
    "print(f'Test Loss: {test_loss:.2f}')"
   ]
  },
  {
   "cell_type": "markdown",
   "id": "3fc6b9f9",
   "metadata": {},
   "source": [
    "# Generate"
   ]
  },
  {
   "cell_type": "code",
   "execution_count": 35,
   "id": "1123e27e",
   "metadata": {},
   "outputs": [],
   "source": [
    "#문장생성 함수 정의\n",
    "#모델에게 시작 문장을 전달하면 모델이 시작 문장을 바탕으로 작문을 진행\n",
    "def generate_text(model, tokenizer, init_sentence=\"<start>\", max_len=20): #시작 문자열을 init_sentence 로 받으며 디폴트값은 <start> 를 받는다\n",
    "    # 테스트를 위해서 입력받은 init_sentence도 텐서로 변환합니다\n",
    "    test_input = tokenizer.texts_to_sequences([init_sentence]) #텍스트 안의 단어들을 숫자의 시퀀스의 형태로 변환\n",
    "    test_tensor = tf.convert_to_tensor(test_input, dtype=tf.int64)\n",
    "    end_token = tokenizer.word_index[\"<end>\"]\n",
    "\n",
    "    # 단어 하나씩 예측해 문장을 만듭니다\n",
    "    #    1. 입력받은 문장의 텐서를 입력합니다\n",
    "    #    2. 예측된 값 중 가장 높은 확률인 word index를 뽑아냅니다\n",
    "    #    3. 2에서 예측된 word index를 문장 뒤에 붙입니다\n",
    "    #    4. 모델이 <end>를 예측했거나, max_len에 도달했다면 문장 생성을 마칩니다 (도달 하지 못하였으면 while 루프를 돌면서 다음 단어를 예측)\n",
    "    while True: #루프를 돌면서 init_sentence에 단어를 하나씩 생성성\n",
    "        # 1\n",
    "        predict = model(test_tensor) \n",
    "        # 2\n",
    "        predict_word = tf.argmax(tf.nn.softmax(predict, axis=-1), axis=-1)[:, -1] \n",
    "        # 3 \n",
    "        test_tensor = tf.concat([test_tensor, tf.expand_dims(predict_word, axis=0)], axis=-1)\n",
    "        # 4 \n",
    "        if predict_word.numpy()[0] == end_token: break\n",
    "        if test_tensor.shape[1] >= max_len: break\n",
    "\n",
    "    generated = \"\"\n",
    "    # tokenizer를 이용해 word index를 단어로 하나씩 변환합니다 \n",
    "    for word_index in test_tensor[0].numpy():\n",
    "        generated += tokenizer.index_word[word_index] + \" \"\n",
    "\n",
    "    return generated #최종적으로 모델이 생성한 문장을 반환"
   ]
  },
  {
   "cell_type": "code",
   "execution_count": 36,
   "id": "107a5227",
   "metadata": {},
   "outputs": [
    {
     "data": {
      "text/plain": [
       "'<start> i love you , i love you <end> '"
      ]
     },
     "execution_count": 36,
     "metadata": {},
     "output_type": "execute_result"
    }
   ],
   "source": [
    "generate_text(model, tokenizer, init_sentence=\"<start> i love\", max_len=20)"
   ]
  }
 ],
 "metadata": {
  "kernelspec": {
   "display_name": "Python 3 (ipykernel)",
   "language": "python",
   "name": "python3"
  },
  "language_info": {
   "codemirror_mode": {
    "name": "ipython",
    "version": 3
   },
   "file_extension": ".py",
   "mimetype": "text/x-python",
   "name": "python",
   "nbconvert_exporter": "python",
   "pygments_lexer": "ipython3",
   "version": "3.9.7"
  }
 },
 "nbformat": 4,
 "nbformat_minor": 5
}
