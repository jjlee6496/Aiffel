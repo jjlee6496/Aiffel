{
 "cells": [
  {
   "cell_type": "markdown",
   "id": "bc7d6dda",
   "metadata": {},
   "source": [
    "# 데이터 불러오기"
   ]
  },
  {
   "cell_type": "code",
   "execution_count": 11,
   "id": "2d75e994",
   "metadata": {},
   "outputs": [
    {
     "name": "stdout",
     "output_type": "stream",
     "text": [
      "데이터 크기: 187088\n",
      "Examples:\n",
      " ['', '', '[Spoken Intro:]']\n"
     ]
    }
   ],
   "source": [
    "import glob\n",
    "import os, re \n",
    "import numpy as np\n",
    "import tensorflow as tf\n",
    "\n",
    "txt_file_path = os.getenv('HOME')+'/aiffel/lyricist/data/lyrics/*'\n",
    "txt_list = glob.glob(txt_file_path)\n",
    "\n",
    "\n",
    "txt_list = glob.glob(txt_file_path)\n",
    "raw_corpus = []\n",
    "\n",
    "for x in txt_list:\n",
    "    with open(x, 'r') as f:\n",
    "        raw = f.read().splitlines()\n",
    "        raw_corpus.extend(raw)\n",
    "\n",
    "print(\"데이터 크기:\", len(raw_corpus))\n",
    "print(\"Examples:\\n\", raw_corpus[:3])"
   ]
  },
  {
   "cell_type": "markdown",
   "id": "bc1fb618",
   "metadata": {},
   "source": [
    "# 데이터 정제"
   ]
  },
  {
   "cell_type": "code",
   "execution_count": 12,
   "id": "76a3a69c",
   "metadata": {},
   "outputs": [],
   "source": [
    "def preprocess_sentence(sentence):\n",
    "    sentence = sentence.lower().strip() # 1\n",
    "    sentence = re.sub(r\"([?.!,¿])\", r\" \\1 \", sentence) # 2\n",
    "    sentence = re.sub(r'[\" \"]+', \" \", sentence) # 3\n",
    "    sentence = re.sub(r\"[^a-zA-Z?.!,¿]+\", \" \", sentence) # 4\n",
    "    sentence = sentence.strip() # 5\n",
    "    sentence = '<start> ' + sentence + ' <end>' # 6\n",
    "    return sentence"
   ]
  },
  {
   "cell_type": "code",
   "execution_count": 13,
   "id": "3d083b23",
   "metadata": {},
   "outputs": [],
   "source": [
    "corpus = []\n",
    "\n",
    "# raw_corpus list에 저장된 문장들을 순서대로 반환하여 sentence에 저장\n",
    "for sentence in raw_corpus:\n",
    "    # 우리가 원하지 않는 문장은 건너뜁니다\n",
    "    if len(sentence) == 0: continue\n",
    "    if sentence[-1] == \":\": continue\n",
    "    \n",
    "    # 앞서 구현한 preprocess_sentence() 함수를 이용하여 문장을 정제를 하고 담아주세요\n",
    "    preprocessed_sentence = preprocess_sentence(sentence)\n",
    "    corpus.append(preprocessed_sentence)"
   ]
  },
  {
   "cell_type": "code",
   "execution_count": 14,
   "id": "24d66788",
   "metadata": {},
   "outputs": [
    {
     "data": {
      "text/plain": [
       "['<start> spoken intro <end>',\n",
       " '<start> you ever want something <end>',\n",
       " '<start> that you know you shouldn t have <end>',\n",
       " '<start> the more you know you shouldn t have it , <end>',\n",
       " '<start> the more you want it <end>',\n",
       " '<start> and then one day you get it , <end>',\n",
       " '<start> it s so good too <end>',\n",
       " '<start> but it s just like my girl <end>',\n",
       " '<start> when she s around me <end>',\n",
       " '<start> i just feel so good , so good <end>']"
      ]
     },
     "execution_count": 14,
     "metadata": {},
     "output_type": "execute_result"
    }
   ],
   "source": [
    "corpus[:10]"
   ]
  },
  {
   "cell_type": "code",
   "execution_count": 15,
   "id": "cc52a0d7",
   "metadata": {},
   "outputs": [
    {
     "name": "stdout",
     "output_type": "stream",
     "text": [
      "[[   2 2701 2584 ...    0    0    0]\n",
      " [   2    7  156 ...    0    0    0]\n",
      " [   2   17    7 ...    0    0    0]\n",
      " ...\n",
      " [   2  311    1 ...    0    0    0]\n",
      " [   2  735    5 ...    0    0    0]\n",
      " [   2  735    5 ...    0    0    0]] <keras_preprocessing.text.Tokenizer object at 0x7f7c765c3880>\n"
     ]
    }
   ],
   "source": [
    "def tokenize(corpus):\n",
    "    # 7000단어를 기억할 수 있는 tokenizer를 만들겁니다\n",
    "    tokenizer = tf.keras.preprocessing.text.Tokenizer(\n",
    "        num_words=7000, \n",
    "        filters=' ',\n",
    "        oov_token=\"<unk>\"\n",
    "    )\n",
    "    # tokenizer.fit_on_texts(texts): 문자 데이터를 입력받아 리스트의 형태로 변환하는 메서드\n",
    "    tokenizer.fit_on_texts(corpus)\n",
    "\n",
    "    # tokenizer.texts_to_sequences(texts): 텍스트 안의 단어들을 숫자의 시퀀스 형태로 변환하는 메서드\n",
    "    tensor = tokenizer.texts_to_sequences(corpus)   \n",
    "\n",
    "    # 문장 앞에 패딩을 붙여 길이를 맞추고 싶다면 padding='pre'를 사용합니다\n",
    "    tensor = tf.keras.preprocessing.sequence.pad_sequences(tensor, padding='post',maxlen=20)  \n",
    "    \n",
    "    print(tensor,tokenizer)\n",
    "    return tensor, tokenizer\n",
    "\n",
    "tensor, tokenizer = tokenize(corpus)"
   ]
  },
  {
   "cell_type": "code",
   "execution_count": 16,
   "id": "a61c1c15",
   "metadata": {},
   "outputs": [
    {
     "name": "stdout",
     "output_type": "stream",
     "text": [
      "1 : <unk>\n",
      "2 : <start>\n",
      "3 : <end>\n",
      "4 : ,\n",
      "5 : i\n",
      "6 : the\n",
      "7 : you\n",
      "8 : and\n",
      "9 : a\n",
      "10 : to\n"
     ]
    }
   ],
   "source": [
    "for idx in tokenizer.index_word:\n",
    "    print(idx, \":\", tokenizer.index_word[idx])\n",
    "\n",
    "    if idx >= 10: break"
   ]
  },
  {
   "cell_type": "code",
   "execution_count": 17,
   "id": "007bae25",
   "metadata": {},
   "outputs": [],
   "source": [
    "# 마지막 토큰은 <end>가 아니라 <pad>일 가능성이 높습니다.\n",
    "src_input = tensor[:, :-1]  \n",
    "# tensor에서 <start>를 잘라내서 타겟 문장을 생성합니다.\n",
    "tgt_input = tensor[:, 1:]   "
   ]
  },
  {
   "cell_type": "markdown",
   "id": "f666be5b",
   "metadata": {},
   "source": [
    "# 평가 데이터셋 분리"
   ]
  },
  {
   "cell_type": "code",
   "execution_count": 19,
   "id": "6a552708",
   "metadata": {},
   "outputs": [],
   "source": [
    "from sklearn.model_selection import train_test_split\n",
    "\n",
    "# train/validation/test set으로 분할\n",
    "enc_train, enc_val, dec_train, dec_val = train_test_split(src_input, tgt_input, test_size=0.2, random_state=42)\n",
    "enc_val, enc_test, dec_val, dec_test = train_test_split(enc_val, dec_val, test_size=0.5, random_state=42)"
   ]
  },
  {
   "cell_type": "code",
   "execution_count": 20,
   "id": "b04d31c7",
   "metadata": {},
   "outputs": [],
   "source": [
    "BUFFER_SIZE = len(src_input)\n",
    "BATCH_SIZE = 256\n",
    "steps_per_epoch = len(src_input) // BATCH_SIZE\n",
    "VOCAB_SIZE = tokenizer.num_words + 1  "
   ]
  },
  {
   "cell_type": "code",
   "execution_count": 25,
   "id": "ea749b3b",
   "metadata": {},
   "outputs": [],
   "source": [
    "train_dataset = tf.data.Dataset.from_tensor_slices((enc_train, dec_train))\n",
    "train_dataset = train_dataset.shuffle(len(enc_train)).batch(BATCH_SIZE, drop_remainder=True)\n",
    "\n",
    "val_dataset = tf.data.Dataset.from_tensor_slices((enc_val, dec_val))\n",
    "val_dataset = val_dataset.batch(BATCH_SIZE, drop_remainder = True)\n",
    "\n",
    "test_dataset = tf.data.Dataset.from_tensor_slices((enc_test, dec_test))\n",
    "test_dataset = test_dataset.batch(BATCH_SIZE, drop_remainder = True)"
   ]
  },
  {
   "cell_type": "markdown",
   "id": "13c52995",
   "metadata": {},
   "source": [
    "# Modeling"
   ]
  },
  {
   "cell_type": "code",
   "execution_count": 26,
   "id": "8f1d8b3e",
   "metadata": {},
   "outputs": [],
   "source": [
    "class TextGenerator(tf.keras.Model):\n",
    "    def __init__(self, vocab_size, embedding_size, hidden_size):\n",
    "        super().__init__()\n",
    "        # Embedding 레이어, 2개의 LSTM 레이어, 1개의 Dense 레이어로 구성되어 있다.\n",
    "        # Embedding 레이어는 단어 사전의 인덱스 값을 해당 인덱스 번째의 워드 벡터로 바꿔준다.\n",
    "        # 이 워드 벡터는 의미 벡터 공간에서 단어의 추상적 표현으로 사용된다. \n",
    "        self.embedding = tf.keras.layers.Embedding(vocab_size, embedding_size)\n",
    "        self.rnn_1 = tf.keras.layers.LSTM(hidden_size, return_sequences=True)\n",
    "#         self.dropout = tf.keras.layers.Dropout(0.5)\n",
    "        self.rnn_2 = tf.keras.layers.LSTM(hidden_size, return_sequences=True)\n",
    "        self.linear = tf.keras.layers.Dense(vocab_size)\n",
    "        \n",
    "    def call(self, x):\n",
    "        out = self.embedding(x)\n",
    "        out = self.rnn_1(out)\n",
    "#         out = self.dropout(out)\n",
    "        out = self.rnn_2(out)\n",
    "#         out = self.dropout(out)\n",
    "        out = self.linear(out)\n",
    "        \n",
    "        return out\n",
    "\n",
    "embedding_size = 256 \n",
    "hidden_size = 1024 \n",
    "model = TextGenerator(tokenizer.num_words + 1, embedding_size , hidden_size) "
   ]
  },
  {
   "cell_type": "code",
   "execution_count": 30,
   "id": "dd7d58b8",
   "metadata": {},
   "outputs": [
    {
     "name": "stdout",
     "output_type": "stream",
     "text": [
      "Epoch 1/30\n",
      "549/549 [==============================] - 111s 191ms/step - loss: 2.8318 - val_loss: 2.5178\n",
      "Epoch 2/30\n",
      "549/549 [==============================] - 105s 192ms/step - loss: 2.4307 - val_loss: 2.3636\n",
      "Epoch 3/30\n",
      "549/549 [==============================] - 105s 192ms/step - loss: 2.3031 - val_loss: 2.2742\n",
      "Epoch 4/30\n",
      "549/549 [==============================] - 105s 192ms/step - loss: 2.2113 - val_loss: 2.2089\n",
      "Epoch 5/30\n",
      "549/549 [==============================] - 105s 192ms/step - loss: 2.1342 - val_loss: 2.1573\n",
      "Epoch 6/30\n",
      "549/549 [==============================] - 105s 192ms/step - loss: 2.0651 - val_loss: 2.1141\n",
      "Epoch 7/30\n",
      "549/549 [==============================] - 105s 192ms/step - loss: 2.0015 - val_loss: 2.0775\n",
      "Epoch 8/30\n",
      "549/549 [==============================] - 105s 192ms/step - loss: 1.9418 - val_loss: 2.0466\n",
      "Epoch 9/30\n",
      "549/549 [==============================] - 105s 192ms/step - loss: 1.8853 - val_loss: 2.0202\n",
      "Epoch 10/30\n",
      "549/549 [==============================] - 105s 192ms/step - loss: 1.8312 - val_loss: 1.9949\n",
      "Epoch 11/30\n",
      "549/549 [==============================] - 105s 192ms/step - loss: 1.7772 - val_loss: 1.9714\n",
      "Epoch 12/30\n",
      "549/549 [==============================] - 105s 192ms/step - loss: 1.7238 - val_loss: 1.9525\n",
      "Epoch 13/30\n",
      "549/549 [==============================] - 105s 192ms/step - loss: 1.6889 - val_loss: 1.9489\n",
      "Epoch 14/30\n",
      "549/549 [==============================] - 105s 192ms/step - loss: 1.6418 - val_loss: 1.9339\n",
      "Epoch 15/30\n",
      "549/549 [==============================] - 105s 192ms/step - loss: 1.5907 - val_loss: 1.9170\n",
      "Epoch 16/30\n",
      "549/549 [==============================] - 105s 192ms/step - loss: 1.5413 - val_loss: 1.9061\n",
      "Epoch 17/30\n",
      "549/549 [==============================] - 105s 192ms/step - loss: 1.4970 - val_loss: 1.8982\n",
      "Epoch 18/30\n",
      "549/549 [==============================] - 105s 192ms/step - loss: 1.4535 - val_loss: 1.8932\n",
      "Epoch 19/30\n",
      "549/549 [==============================] - 105s 192ms/step - loss: 1.4119 - val_loss: 1.8870\n",
      "Epoch 20/30\n",
      "549/549 [==============================] - 105s 192ms/step - loss: 1.3710 - val_loss: 1.8838\n",
      "Epoch 21/30\n",
      "549/549 [==============================] - 105s 192ms/step - loss: 1.3309 - val_loss: 1.8808\n",
      "Epoch 22/30\n",
      "549/549 [==============================] - 105s 192ms/step - loss: 1.2919 - val_loss: 1.8793\n",
      "Epoch 23/30\n",
      "549/549 [==============================] - 105s 192ms/step - loss: 1.2533 - val_loss: 1.8804\n",
      "Epoch 24/30\n",
      "549/549 [==============================] - 105s 192ms/step - loss: 1.2161 - val_loss: 1.8824\n",
      "Epoch 25/30\n",
      "549/549 [==============================] - 105s 192ms/step - loss: 1.1802 - val_loss: 1.8823\n",
      "Epoch 26/30\n",
      "549/549 [==============================] - 105s 192ms/step - loss: 1.1449 - val_loss: 1.8860\n",
      "Epoch 27/30\n",
      "549/549 [==============================] - 105s 192ms/step - loss: 1.1112 - val_loss: 1.8910\n",
      "Epoch 28/30\n",
      "549/549 [==============================] - 105s 192ms/step - loss: 1.0785 - val_loss: 1.8937\n",
      "Epoch 29/30\n",
      "549/549 [==============================] - 105s 192ms/step - loss: 1.0475 - val_loss: 1.8993\n",
      "Epoch 30/30\n",
      "549/549 [==============================] - 105s 192ms/step - loss: 1.0182 - val_loss: 1.9068\n"
     ]
    },
    {
     "data": {
      "text/plain": [
       "<keras.callbacks.History at 0x7f7bf0824550>"
      ]
     },
     "execution_count": 30,
     "metadata": {},
     "output_type": "execute_result"
    }
   ],
   "source": [
    "optimizer = tf.keras.optimizers.Adam() # Adam은 현재 가장 많이 사용하는 옵티마이저이다. 자세한 내용은 차차 배운다.\n",
    "loss = tf.keras.losses.SparseCategoricalCrossentropy( # 훈련 데이터의 라벨이 정수의 형태로 제공될 때 사용하는 손실함수이다.\n",
    "    from_logits=True, # 기본값은 False이다. 모델에 의해 생성된 출력 값이 정규화되지 않았음을 손실 함수에 알려준다. 즉 softmax함수가 적용되지 않았다는걸 의미한다. \n",
    "    reduction='none'  # 기본값은 SUM이다. 각자 나오는 값의 반환 원할 때 None을 사용한다.\n",
    ")\n",
    "# 모델을 학습시키키 위한 학습과정을 설정하는 단계이다.\n",
    "model.compile(loss=loss, optimizer=optimizer) # 손실함수와 훈련과정을 설정했다.\n",
    "model.fit(train_dataset, epochs=30, validation_data=val_dataset)"
   ]
  },
  {
   "cell_type": "code",
   "execution_count": 34,
   "id": "029110b2",
   "metadata": {},
   "outputs": [
    {
     "name": "stdout",
     "output_type": "stream",
     "text": [
      "68/68 [==============================] - 5s 68ms/step - loss: 1.9102\n",
      "Test Loss: 1.91\n"
     ]
    }
   ],
   "source": [
    "# 테스트 데이터셋에 대해 모델 실행 및 평가\n",
    "test_loss = model.evaluate(test_dataset)\n",
    "\n",
    "# 모델의 성능 출력\n",
    "print(f'Test Loss: {test_loss:.2f}')"
   ]
  },
  {
   "cell_type": "markdown",
   "id": "651f0c5a",
   "metadata": {},
   "source": [
    "# Generate"
   ]
  },
  {
   "cell_type": "code",
   "execution_count": 35,
   "id": "ba90b7e1",
   "metadata": {},
   "outputs": [],
   "source": [
    "#문장생성 함수 정의\n",
    "#모델에게 시작 문장을 전달하면 모델이 시작 문장을 바탕으로 작문을 진행\n",
    "def generate_text(model, tokenizer, init_sentence=\"<start>\", max_len=20): #시작 문자열을 init_sentence 로 받으며 디폴트값은 <start> 를 받는다\n",
    "    # 테스트를 위해서 입력받은 init_sentence도 텐서로 변환합니다\n",
    "    test_input = tokenizer.texts_to_sequences([init_sentence]) #텍스트 안의 단어들을 숫자의 시퀀스의 형태로 변환\n",
    "    test_tensor = tf.convert_to_tensor(test_input, dtype=tf.int64)\n",
    "    end_token = tokenizer.word_index[\"<end>\"]\n",
    "\n",
    "    # 단어 하나씩 예측해 문장을 만듭니다\n",
    "    #    1. 입력받은 문장의 텐서를 입력합니다\n",
    "    #    2. 예측된 값 중 가장 높은 확률인 word index를 뽑아냅니다\n",
    "    #    3. 2에서 예측된 word index를 문장 뒤에 붙입니다\n",
    "    #    4. 모델이 <end>를 예측했거나, max_len에 도달했다면 문장 생성을 마칩니다 (도달 하지 못하였으면 while 루프를 돌면서 다음 단어를 예측)\n",
    "    while True: #루프를 돌면서 init_sentence에 단어를 하나씩 생성성\n",
    "        # 1\n",
    "        predict = model(test_tensor) \n",
    "        # 2\n",
    "        predict_word = tf.argmax(tf.nn.softmax(predict, axis=-1), axis=-1)[:, -1] \n",
    "        # 3 \n",
    "        test_tensor = tf.concat([test_tensor, tf.expand_dims(predict_word, axis=0)], axis=-1)\n",
    "        # 4 \n",
    "        if predict_word.numpy()[0] == end_token: break\n",
    "        if test_tensor.shape[1] >= max_len: break\n",
    "\n",
    "    generated = \"\"\n",
    "    # tokenizer를 이용해 word index를 단어로 하나씩 변환합니다 \n",
    "    for word_index in test_tensor[0].numpy():\n",
    "        generated += tokenizer.index_word[word_index] + \" \"\n",
    "\n",
    "    return generated #최종적으로 모델이 생성한 문장을 반환"
   ]
  },
  {
   "cell_type": "code",
   "execution_count": 36,
   "id": "69237820",
   "metadata": {},
   "outputs": [
    {
     "data": {
      "text/plain": [
       "'<start> i love you , i love you <end> '"
      ]
     },
     "execution_count": 36,
     "metadata": {},
     "output_type": "execute_result"
    }
   ],
   "source": [
    "generate_text(model, tokenizer, init_sentence=\"<start> i love\", max_len=20)"
   ]
  },
  {
   "cell_type": "markdown",
   "id": "84655b29",
   "metadata": {},
   "source": [
    "# overfitting 해결"
   ]
  },
  {
   "cell_type": "code",
   "execution_count": 43,
   "id": "552786f5",
   "metadata": {},
   "outputs": [],
   "source": [
    "class TextGenerator(tf.keras.Model):\n",
    "    def __init__(self, vocab_size, embedding_size, hidden_size):\n",
    "        super().__init__()\n",
    "        # Embedding 레이어, 2개의 LSTM 레이어, 1개의 Dense 레이어로 구성되어 있다.\n",
    "        # Embedding 레이어는 단어 사전의 인덱스 값을 해당 인덱스 번째의 워드 벡터로 바꿔준다.\n",
    "        # 이 워드 벡터는 의미 벡터 공간에서 단어의 추상적 표현으로 사용된다. \n",
    "        self.embedding = tf.keras.layers.Embedding(vocab_size, embedding_size)\n",
    "        self.rnn_1 = tf.keras.layers.LSTM(hidden_size, return_sequences=True, activity_regularizer=tf.keras.regularizers.l2(0.01))\n",
    "        self.dropout = tf.keras.layers.Dropout(0.5)\n",
    "        self.rnn_2 = tf.keras.layers.LSTM(hidden_size, return_sequences=True, activity_regularizer=tf.keras.regularizers.l2(0.01))\n",
    "        self.linear = tf.keras.layers.Dense(vocab_size)\n",
    "        \n",
    "    def call(self, x):\n",
    "        out = self.embedding(x)\n",
    "        out = self.rnn_1(out)\n",
    "        out = self.dropout(out)\n",
    "        out = self.rnn_2(out)\n",
    "        out = self.dropout(out)\n",
    "        out = self.linear(out)\n",
    "        \n",
    "        return out\n",
    "\n",
    "embedding_size = 512\n",
    "hidden_size = 1024 \n",
    "model2 = TextGenerator(tokenizer.num_words + 1, embedding_size , hidden_size) "
   ]
  },
  {
   "cell_type": "code",
   "execution_count": 44,
   "id": "3583820c",
   "metadata": {},
   "outputs": [
    {
     "name": "stdout",
     "output_type": "stream",
     "text": [
      "Epoch 1/30\n",
      "549/549 [==============================] - 119s 209ms/step - loss: 2.8233 - accuracy: 0.5708 - val_loss: 2.4923 - val_accuracy: 0.5963\n",
      "Epoch 2/30\n",
      "549/549 [==============================] - 115s 209ms/step - loss: 2.4311 - accuracy: 0.6025 - val_loss: 2.3288 - val_accuracy: 0.6104\n",
      "Epoch 3/30\n",
      "549/549 [==============================] - 114s 208ms/step - loss: 2.3070 - accuracy: 0.6116 - val_loss: 2.2361 - val_accuracy: 0.6172\n",
      "Epoch 4/30\n",
      "549/549 [==============================] - 114s 208ms/step - loss: 2.2216 - accuracy: 0.6175 - val_loss: 2.1675 - val_accuracy: 0.6237\n",
      "Epoch 5/30\n",
      "549/549 [==============================] - 115s 209ms/step - loss: 2.1532 - accuracy: 0.6227 - val_loss: 2.1181 - val_accuracy: 0.6279\n",
      "Epoch 6/30\n",
      "549/549 [==============================] - 115s 210ms/step - loss: 2.0941 - accuracy: 0.6275 - val_loss: 2.0717 - val_accuracy: 0.6337\n",
      "Epoch 7/30\n",
      "549/549 [==============================] - 115s 210ms/step - loss: 2.0425 - accuracy: 0.6319 - val_loss: 2.0365 - val_accuracy: 0.6371\n",
      "Epoch 8/30\n",
      "549/549 [==============================] - 116s 210ms/step - loss: 1.9144 - accuracy: 0.6443 - val_loss: 1.9542 - val_accuracy: 0.6482\n",
      "Epoch 11/30\n",
      "549/549 [==============================] - 115s 209ms/step - loss: 1.8784 - accuracy: 0.6481 - val_loss: 1.9338 - val_accuracy: 0.6519\n",
      "Epoch 12/30\n",
      "549/549 [==============================] - 115s 210ms/step - loss: 1.8440 - accuracy: 0.6518 - val_loss: 1.9143 - val_accuracy: 0.6550\n",
      "Epoch 13/30\n",
      "549/549 [==============================] - 116s 211ms/step - loss: 1.8113 - accuracy: 0.6556 - val_loss: 1.9001 - val_accuracy: 0.6572\n",
      "Epoch 14/30\n",
      "549/549 [==============================] - 115s 209ms/step - loss: 1.7814 - accuracy: 0.6591 - val_loss: 1.8868 - val_accuracy: 0.6597\n",
      "Epoch 15/30\n",
      "549/549 [==============================] - 116s 210ms/step - loss: 1.7531 - accuracy: 0.6626 - val_loss: 1.8754 - val_accuracy: 0.6626\n",
      "Epoch 16/30\n",
      "549/549 [==============================] - 116s 211ms/step - loss: 1.7256 - accuracy: 0.6658 - val_loss: 1.8637 - val_accuracy: 0.6649\n",
      "Epoch 17/30\n",
      "549/549 [==============================] - 116s 210ms/step - loss: 1.7002 - accuracy: 0.6694 - val_loss: 1.8562 - val_accuracy: 0.6673\n",
      "Epoch 18/30\n",
      "549/549 [==============================] - 116s 210ms/step - loss: 1.6752 - accuracy: 0.6728 - val_loss: 1.8448 - val_accuracy: 0.6697\n",
      "Epoch 19/30\n",
      "549/549 [==============================] - 116s 211ms/step - loss: 1.6522 - accuracy: 0.6761 - val_loss: 1.8396 - val_accuracy: 0.6718\n",
      "Epoch 20/30\n",
      "549/549 [==============================] - 116s 211ms/step - loss: 1.6297 - accuracy: 0.6789 - val_loss: 1.8329 - val_accuracy: 0.6737\n",
      "Epoch 21/30\n",
      "549/549 [==============================] - 116s 211ms/step - loss: 1.6085 - accuracy: 0.6822 - val_loss: 1.8331 - val_accuracy: 0.6750\n",
      "Epoch 22/30\n",
      "549/549 [==============================] - 116s 210ms/step - loss: 1.5889 - accuracy: 0.6849 - val_loss: 1.8257 - val_accuracy: 0.6772\n",
      "Epoch 23/30\n",
      "549/549 [==============================] - 116s 210ms/step - loss: 1.5700 - accuracy: 0.6876 - val_loss: 1.8225 - val_accuracy: 0.6786\n",
      "Epoch 24/30\n",
      "549/549 [==============================] - 116s 210ms/step - loss: 1.5523 - accuracy: 0.6901 - val_loss: 1.8214 - val_accuracy: 0.6803\n",
      "Epoch 25/30\n",
      "549/549 [==============================] - 116s 210ms/step - loss: 1.5348 - accuracy: 0.6930 - val_loss: 1.8191 - val_accuracy: 0.6819\n",
      "Epoch 26/30\n",
      "549/549 [==============================] - 116s 211ms/step - loss: 1.5183 - accuracy: 0.6954 - val_loss: 1.8159 - val_accuracy: 0.6831\n",
      "Epoch 27/30\n",
      "549/549 [==============================] - 116s 211ms/step - loss: 1.5023 - accuracy: 0.6977 - val_loss: 1.8136 - val_accuracy: 0.6843\n",
      "Epoch 28/30\n",
      "549/549 [==============================] - 116s 211ms/step - loss: 1.4882 - accuracy: 0.7000 - val_loss: 1.8195 - val_accuracy: 0.6854\n",
      "Epoch 29/30\n",
      "549/549 [==============================] - 116s 211ms/step - loss: 1.4736 - accuracy: 0.7022 - val_loss: 1.8162 - val_accuracy: 0.6866\n",
      "Epoch 30/30\n",
      "549/549 [==============================] - 116s 211ms/step - loss: 1.4605 - accuracy: 0.7041 - val_loss: 1.8190 - val_accuracy: 0.6884\n"
     ]
    }
   ],
   "source": [
    "optimizer = tf.keras.optimizers.Adam(clipvalue=1.0) # Adam은 현재 가장 많이 사용하는 옵티마이저이다. 자세한 내용은 차차 배운다.\n",
    "loss = tf.keras.losses.SparseCategoricalCrossentropy( # 훈련 데이터의 라벨이 정수의 형태로 제공될 때 사용하는 손실함수이다.\n",
    "    from_logits=True, # 기본값은 False이다. 모델에 의해 생성된 출력 값이 정규화되지 않았음을 손실 함수에 알려준다. 즉 softmax함수가 적용되지 않았다는걸 의미한다. \n",
    "    reduction='none'  # 기본값은 SUM이다. 각자 나오는 값의 반환 원할 때 None을 사용한다.\n",
    ")\n",
    "# 모델을 학습시키키 위한 학습과정을 설정하는 단계이다.\n",
    "model2.compile(loss=loss, optimizer=optimizer) # 손실함수와 훈련과정을 설정했다.\n",
    "history=model2.fit(train_dataset, epochs=30, validation_data=val_dataset)"
   ]
  },
  {
   "cell_type": "code",
   "execution_count": 61,
   "id": "340c7c92",
   "metadata": {},
   "outputs": [],
   "source": [
    "import matplotlib.pyplot as plt\n",
    "def vis(history,name) :\n",
    "    plt.title(f\"{name.upper()}\")\n",
    "    plt.xlabel('epochs')\n",
    "    plt.ylabel(f\"{name.lower()}\")\n",
    "    value = history.history.get(name)\n",
    "    val_value = history.history.get(f\"val_{name}\",None)\n",
    "    epochs = range(1, len(value)+1)\n",
    "    plt.plot(epochs, value, 'b-', label=f'training {name}')\n",
    "    if val_value is not None :\n",
    "        plt.plot(epochs, val_value, 'r:', label=f'validation {name}')\n",
    "    plt.legend(loc='upper center', bbox_to_anchor=(0.05, 1.2) , fontsize=10 , ncol=1)\n",
    "    \n",
    "def plot_history(history) :\n",
    "    key_value = list(set([i.split(\"val_\")[-1] for i in list(history.history.keys())]))\n",
    "    plt.figure(figsize=(12, 4))\n",
    "    for idx , key in enumerate(key_value) :\n",
    "        plt.subplot(1, len(key_value), idx+1)\n",
    "        vis(history, key)\n",
    "    plt.tight_layout()\n",
    "    plt.show()"
   ]
  },
  {
   "cell_type": "code",
   "execution_count": 62,
   "id": "71e9297f",
   "metadata": {},
   "outputs": [
    {
     "data": {
      "image/png": "[encoded data removed]",
      "text/plain": [
       "<Figure size 864x288 with 2 Axes>"
      ]
     },
     "metadata": {
      "needs_background": "light"
     },
     "output_type": "display_data"
    }
   ],
   "source": [
    "plot_history(history)"
   ]
  },
  {
   "cell_type": "code",
   "execution_count": 56,
   "id": "3055a41c",
   "metadata": {},
   "outputs": [
    {
     "name": "stdout",
     "output_type": "stream",
     "text": [
      "68/68 [==============================] - 5s 79ms/step - loss: 1.8213 - accuracy: 0.6887\n",
      "Test_loss : 1.82, Test accuracy : 0.688724\n"
     ]
    }
   ],
   "source": [
    "# 테스트 데이터셋에 대해 모델 실행 및 평가\n",
    "test_loss, test_accuracy = model2.evaluate(test_dataset)\n",
    "print('Test_loss : {:.2f}, Test accuracy : {:2f}'.format(test_loss, test_accuracy))"
   ]
  },
  {
   "cell_type": "markdown",
   "id": "60432ce9",
   "metadata": {},
   "source": [
    "첫 실험보다 test loss가 조금 줄었지만 dropout(0.5) 추가만으로는 overfitting을 막지 못했다."
   ]
  }
 ],
 "metadata": {
  "kernelspec": {
   "display_name": "Python 3 (ipykernel)",
   "language": "python",
   "name": "python3"
  },
  "language_info": {
   "codemirror_mode": {
    "name": "ipython",
    "version": 3
   },
   "file_extension": ".py",
   "mimetype": "text/x-python",
   "name": "python",
   "nbconvert_exporter": "python",
   "pygments_lexer": "ipython3",
   "version": "3.9.7"
  }
 },
 "nbformat": 4,
 "nbformat_minor": 5
}
