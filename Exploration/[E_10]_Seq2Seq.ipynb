{
 "cells": [
  {
   "attachments": {},
   "cell_type": "markdown",
   "metadata": {},
   "source": [
    "# Seq2Seq\n",
    "Eng -> Fra"
   ]
  },
  {
   "attachments": {},
   "cell_type": "markdown",
   "metadata": {},
   "source": [
    "# 1. 문자수준"
   ]
  },
  {
   "attachments": {},
   "cell_type": "markdown",
   "metadata": {},
   "source": [
    "## 1.1 데이터 전처리"
   ]
  },
  {
   "cell_type": "code",
   "execution_count": 3,
   "metadata": {},
   "outputs": [
    {
     "name": "stdout",
     "output_type": "stream",
     "text": [
      "[PhysicalDevice(name='/physical_device:GPU:0', device_type='GPU')]\n"
     ]
    }
   ],
   "source": [
    "import pandas as pd\n",
    "import tensorflow as tf\n",
    "import numpy as np\n",
    "import os\n",
    "\n",
    "from tensorflow import keras\n",
    "from tensorflow.keras.preprocessing.text import Tokenizer\n",
    "from tensorflow.keras.preprocessing.sequence import pad_sequences\n",
    "from tensorflow.keras.utils import to_categorical\n",
    "from tensorflow.keras.utils import plot_model\n",
    "\n",
    "print(tf.config.list_physical_devices('GPU'))"
   ]
  },
  {
   "cell_type": "code",
   "execution_count": 4,
   "metadata": {},
   "outputs": [
    {
     "name": "stdout",
     "output_type": "stream",
     "text": [
      "전체 샘플의 수:  217975\n"
     ]
    },
    {
     "data": {
      "text/html": [
       "<div>\n",
       "<style scoped>\n",
       "    .dataframe tbody tr th:only-of-type {\n",
       "        vertical-align: middle;\n",
       "    }\n",
       "\n",
       "    .dataframe tbody tr th {\n",
       "        vertical-align: top;\n",
       "    }\n",
       "\n",
       "    .dataframe thead th {\n",
       "        text-align: right;\n",
       "    }\n",
       "</style>\n",
       "<table border=\"1\" class=\"dataframe\">\n",
       "  <thead>\n",
       "    <tr style=\"text-align: right;\">\n",
       "      <th></th>\n",
       "      <th>eng</th>\n",
       "      <th>fra</th>\n",
       "      <th>cc</th>\n",
       "    </tr>\n",
       "  </thead>\n",
       "  <tbody>\n",
       "    <tr>\n",
       "      <th>159928</th>\n",
       "      <td>You probably just want to be alone.</td>\n",
       "      <td>Vous voulez probablement juste être seul.</td>\n",
       "      <td>CC-BY 2.0 (France) Attribution: tatoeba.org #2...</td>\n",
       "    </tr>\n",
       "    <tr>\n",
       "      <th>117735</th>\n",
       "      <td>Tom said that he didn't know.</td>\n",
       "      <td>Tom a dit qu'il ne savait pas.</td>\n",
       "      <td>CC-BY 2.0 (France) Attribution: tatoeba.org #4...</td>\n",
       "    </tr>\n",
       "    <tr>\n",
       "      <th>148617</th>\n",
       "      <td>Do you have to do this very often?</td>\n",
       "      <td>Dois-tu faire ça très souvent  ?</td>\n",
       "      <td>CC-BY 2.0 (France) Attribution: tatoeba.org #4...</td>\n",
       "    </tr>\n",
       "    <tr>\n",
       "      <th>35566</th>\n",
       "      <td>Tom is John's twin.</td>\n",
       "      <td>Tom est le jumeau de John.</td>\n",
       "      <td>CC-BY 2.0 (France) Attribution: tatoeba.org #4...</td>\n",
       "    </tr>\n",
       "    <tr>\n",
       "      <th>184470</th>\n",
       "      <td>Sometimes, I feel like I can do anything.</td>\n",
       "      <td>J'ai parfois le sentiment que je suis capable ...</td>\n",
       "      <td>CC-BY 2.0 (France) Attribution: tatoeba.org #2...</td>\n",
       "    </tr>\n",
       "  </tbody>\n",
       "</table>\n",
       "</div>"
      ],
      "text/plain": [
       "                                              eng   \n",
       "159928        You probably just want to be alone.  \\\n",
       "117735              Tom said that he didn't know.   \n",
       "148617         Do you have to do this very often?   \n",
       "35566                         Tom is John's twin.   \n",
       "184470  Sometimes, I feel like I can do anything.   \n",
       "\n",
       "                                                      fra   \n",
       "159928          Vous voulez probablement juste être seul.  \\\n",
       "117735                     Tom a dit qu'il ne savait pas.   \n",
       "148617                   Dois-tu faire ça très souvent  ?   \n",
       "35566                          Tom est le jumeau de John.   \n",
       "184470  J'ai parfois le sentiment que je suis capable ...   \n",
       "\n",
       "                                                       cc  \n",
       "159928  CC-BY 2.0 (France) Attribution: tatoeba.org #2...  \n",
       "117735  CC-BY 2.0 (France) Attribution: tatoeba.org #4...  \n",
       "148617  CC-BY 2.0 (France) Attribution: tatoeba.org #4...  \n",
       "35566   CC-BY 2.0 (France) Attribution: tatoeba.org #4...  \n",
       "184470  CC-BY 2.0 (France) Attribution: tatoeba.org #2...  "
      ]
     },
     "execution_count": 4,
     "metadata": {},
     "output_type": "execute_result"
    }
   ],
   "source": [
    "file_path = './data/seq2seq/fra.txt'\n",
    "lines = pd.read_csv(file_path, names=['eng', 'fra', 'cc'], sep='\\t')\n",
    "print('전체 샘플의 수: ', len(lines))\n",
    "lines.sample(5)"
   ]
  },
  {
   "attachments": {},
   "cell_type": "markdown",
   "metadata": {},
   "source": [
    "cc column 불필요, 훈련 데이터는 5만개의 샘플로 줄이기"
   ]
  },
  {
   "cell_type": "code",
   "execution_count": 5,
   "metadata": {},
   "outputs": [
    {
     "data": {
      "text/html": [
       "<div>\n",
       "<style scoped>\n",
       "    .dataframe tbody tr th:only-of-type {\n",
       "        vertical-align: middle;\n",
       "    }\n",
       "\n",
       "    .dataframe tbody tr th {\n",
       "        vertical-align: top;\n",
       "    }\n",
       "\n",
       "    .dataframe thead th {\n",
       "        text-align: right;\n",
       "    }\n",
       "</style>\n",
       "<table border=\"1\" class=\"dataframe\">\n",
       "  <thead>\n",
       "    <tr style=\"text-align: right;\">\n",
       "      <th></th>\n",
       "      <th>eng</th>\n",
       "      <th>fra</th>\n",
       "    </tr>\n",
       "  </thead>\n",
       "  <tbody>\n",
       "    <tr>\n",
       "      <th>21573</th>\n",
       "      <td>No one will know.</td>\n",
       "      <td>Personne ne saura.</td>\n",
       "    </tr>\n",
       "    <tr>\n",
       "      <th>2585</th>\n",
       "      <td>Tom's busy.</td>\n",
       "      <td>Tom a à faire.</td>\n",
       "    </tr>\n",
       "    <tr>\n",
       "      <th>8729</th>\n",
       "      <td>Quiet, please.</td>\n",
       "      <td>Silence, s'il vous plaît !</td>\n",
       "    </tr>\n",
       "    <tr>\n",
       "      <th>42527</th>\n",
       "      <td>Tom brought me here.</td>\n",
       "      <td>Tom m'a amené ici.</td>\n",
       "    </tr>\n",
       "    <tr>\n",
       "      <th>4820</th>\n",
       "      <td>Fear nothing.</td>\n",
       "      <td>N'aie aucune crainte.</td>\n",
       "    </tr>\n",
       "  </tbody>\n",
       "</table>\n",
       "</div>"
      ],
      "text/plain": [
       "                        eng                         fra\n",
       "21573     No one will know.          Personne ne saura.\n",
       "2585            Tom's busy.              Tom a à faire.\n",
       "8729         Quiet, please.  Silence, s'il vous plaît !\n",
       "42527  Tom brought me here.          Tom m'a amené ici.\n",
       "4820          Fear nothing.       N'aie aucune crainte."
      ]
     },
     "execution_count": 5,
     "metadata": {},
     "output_type": "execute_result"
    }
   ],
   "source": [
    "lines = lines[['eng', 'fra']][:50000] # 5만개 사용\n",
    "lines.sample(5)"
   ]
  },
  {
   "attachments": {},
   "cell_type": "markdown",
   "metadata": {},
   "source": [
    "seq2seq 동작을 위하여 디코더의 입력과 예측에 $\\texttt{<sos>}$, $\\texttt{<eos>}$ 넣어주기"
   ]
  },
  {
   "cell_type": "code",
   "execution_count": 6,
   "metadata": {},
   "outputs": [
    {
     "name": "stdout",
     "output_type": "stream",
     "text": [
      "전체 샘플의 수 :  50000\n"
     ]
    },
    {
     "data": {
      "text/html": [
       "<div>\n",
       "<style scoped>\n",
       "    .dataframe tbody tr th:only-of-type {\n",
       "        vertical-align: middle;\n",
       "    }\n",
       "\n",
       "    .dataframe tbody tr th {\n",
       "        vertical-align: top;\n",
       "    }\n",
       "\n",
       "    .dataframe thead th {\n",
       "        text-align: right;\n",
       "    }\n",
       "</style>\n",
       "<table border=\"1\" class=\"dataframe\">\n",
       "  <thead>\n",
       "    <tr style=\"text-align: right;\">\n",
       "      <th></th>\n",
       "      <th>eng</th>\n",
       "      <th>fra</th>\n",
       "    </tr>\n",
       "  </thead>\n",
       "  <tbody>\n",
       "    <tr>\n",
       "      <th>799</th>\n",
       "      <td>Terrific!</td>\n",
       "      <td>\\t Au poil ! \\n</td>\n",
       "    </tr>\n",
       "    <tr>\n",
       "      <th>39104</th>\n",
       "      <td>I didn't expect you.</td>\n",
       "      <td>\\t Je ne m'attendais pas à te voir. \\n</td>\n",
       "    </tr>\n",
       "    <tr>\n",
       "      <th>39916</th>\n",
       "      <td>I took this picture.</td>\n",
       "      <td>\\t J'ai pris cette photo. \\n</td>\n",
       "    </tr>\n",
       "    <tr>\n",
       "      <th>24027</th>\n",
       "      <td>You were perfect.</td>\n",
       "      <td>\\t Vous avez été parfaite. \\n</td>\n",
       "    </tr>\n",
       "    <tr>\n",
       "      <th>14022</th>\n",
       "      <td>Can I park here?</td>\n",
       "      <td>\\t Je peux me garer ici ? \\n</td>\n",
       "    </tr>\n",
       "  </tbody>\n",
       "</table>\n",
       "</div>"
      ],
      "text/plain": [
       "                        eng                                     fra\n",
       "799               Terrific!                         \\t Au poil ! \\n\n",
       "39104  I didn't expect you.  \\t Je ne m'attendais pas à te voir. \\n\n",
       "39916  I took this picture.            \\t J'ai pris cette photo. \\n\n",
       "24027     You were perfect.           \\t Vous avez été parfaite. \\n\n",
       "14022      Can I park here?            \\t Je peux me garer ici ? \\n"
      ]
     },
     "execution_count": 6,
     "metadata": {},
     "output_type": "execute_result"
    }
   ],
   "source": [
    "sos_token = '\\t'\n",
    "eos_token = '\\n'\n",
    "lines.fra = lines.fra.apply(lambda x: '\\t ' + x + ' \\n')\n",
    "print('전체 샘플의 수 : ', len(lines))\n",
    "lines.sample(5)"
   ]
  },
  {
   "attachments": {},
   "cell_type": "markdown",
   "metadata": {},
   "source": [
    "단어장을 만들고 각 단어에 부여된 고유한 정수로 텍스트 시퀀스를 정수 시퀀스로 변환하는 정수 인코딩 과정. 이때 영어, 프랑스어 각각 다로 만들어준다."
   ]
  },
  {
   "cell_type": "code",
   "execution_count": 7,
   "metadata": {},
   "outputs": [
    {
     "data": {
      "text/plain": [
       "([[19, 4, 7], [19, 4, 7], [19, 4, 7]],\n",
       " [[10, 1, 19, 5, 1, 31, 1, 11],\n",
       "  [10, 1, 15, 5, 12, 16, 29, 2, 14, 1, 11],\n",
       "  [10, 1, 2, 7, 1, 12, 9, 8, 4, 2, 1, 31, 1, 11]])"
      ]
     },
     "execution_count": 7,
     "metadata": {},
     "output_type": "execute_result"
    }
   ],
   "source": [
    "eng_tokenizer = Tokenizer(char_level=True) #문자 단위로 토크나이징\n",
    "eng_tokenizer.fit_on_texts(lines.eng) # 50000개의 행을 가진 fra의 각 행에 토믄화\n",
    "input_text = eng_tokenizer.texts_to_sequences(lines.eng) # 단어를 숫자값 인덱스로 변환하여 저장\n",
    "\n",
    "fra_tokenizer = Tokenizer(char_level=True) #문자 단위로 토크나이징\n",
    "fra_tokenizer.fit_on_texts(lines.fra) # 50000개의 행을 가진 fra의 각 행에 토믄화\n",
    "target_text = fra_tokenizer.texts_to_sequences(lines.fra) # 단어를 숫자값 인덱스로 변환하여 저장\n",
    "\n",
    "input_text[:3], target_text[:3]"
   ]
  },
  {
   "attachments": {},
   "cell_type": "markdown",
   "metadata": {},
   "source": [
    "단어장의 크기를 변수로 저장, 0번 토큰을 고려하여 +1을 하고 저장."
   ]
  },
  {
   "cell_type": "code",
   "execution_count": 8,
   "metadata": {},
   "outputs": [
    {
     "name": "stdout",
     "output_type": "stream",
     "text": [
      "영어 단어장 크기: 52, 프랑스 단어장 크기: 73\n"
     ]
    }
   ],
   "source": [
    "eng_vocab_size = len(eng_tokenizer.word_index) + 1\n",
    "fra_vocab_size = len(fra_tokenizer.word_index) + 1\n",
    "print(f\"영어 단어장 크기: {eng_vocab_size}, 프랑스 단어장 크기: {fra_vocab_size}\")"
   ]
  },
  {
   "attachments": {},
   "cell_type": "markdown",
   "metadata": {},
   "source": [
    "영어 데이터와 프랑스어 데이터의 최대 길이 각각 구해보기(패딩하기 위해서)"
   ]
  },
  {
   "cell_type": "code",
   "execution_count": 9,
   "metadata": {},
   "outputs": [
    {
     "name": "stdout",
     "output_type": "stream",
     "text": [
      "영어 seq의 최대 길이: 21, 프랑스 seq의 최대 길이: 69\n"
     ]
    }
   ],
   "source": [
    "max_eng_seq_len = max([len(line) for line in input_text])\n",
    "max_fra_seq_len = max([len(line) for line in target_text])\n",
    "print(f\"영어 seq의 최대 길이: {max_eng_seq_len}, 프랑스 seq의 최대 길이: {max_fra_seq_len}\")"
   ]
  },
  {
   "cell_type": "code",
   "execution_count": 10,
   "metadata": {},
   "outputs": [
    {
     "name": "stdout",
     "output_type": "stream",
     "text": [
      "전체 샘플의 수 :  50000\n",
      "영어 단어장 크기: 52, 프랑스 단어장 크기: 73\n",
      "영어 seq의 최대 길이: 21, 프랑스 seq의 최대 길이: 69\n"
     ]
    }
   ],
   "source": [
    "# 전체 통계\n",
    "print('전체 샘플의 수 : ', len(lines))\n",
    "print(f\"영어 단어장 크기: {eng_vocab_size}, 프랑스 단어장 크기: {fra_vocab_size}\")\n",
    "print(f\"영어 seq의 최대 길이: {max_eng_seq_len}, 프랑스 seq의 최대 길이: {max_fra_seq_len}\")"
   ]
  },
  {
   "attachments": {},
   "cell_type": "markdown",
   "metadata": {},
   "source": [
    "인코더의 입력으로 사용되는 시퀀스와 달리, 프랑스어 시퀀스는 2가지 버전으로 나누어 준비해야 한다.  \n",
    "1. 디코더의 출력과 비교해야 할 정답 데이터 - sos 토큰이 필요 없다\n",
    "2. Teacher forcing을 위해 디코더의 입력으로 사용하기 위한 것 - eos 토큰이 필요 없다  \n",
    "ex) 'I am a person' -> 'Je suis une personne'  \n",
    "훈련과정)  '$\\texttt{<sos>}$ Je suis une personne'를 입력, 'Je suis une personne $\\texttt{<eos>}$'를 예측"
   ]
  },
  {
   "cell_type": "code",
   "execution_count": 11,
   "metadata": {},
   "outputs": [],
   "source": [
    "encoder_input = input_text\n",
    "# 종료 토큰 제거\n",
    "decoder_input = [[char for char in line if char != fra_tokenizer.word_index[eos_token]] for line in target_text]\n",
    "# 시작 토큰 제거\n",
    "decoder_target = [[char for char in line if char != fra_tokenizer.word_index[sos_token]] for line in target_text]"
   ]
  },
  {
   "cell_type": "code",
   "execution_count": 12,
   "metadata": {},
   "outputs": [
    {
     "name": "stdout",
     "output_type": "stream",
     "text": [
      "[[10, 1, 19, 5, 1, 31, 1], [10, 1, 15, 5, 12, 16, 29, 2, 14, 1], [10, 1, 2, 7, 1, 12, 9, 8, 4, 2, 1, 31, 1]]\n",
      "[[1, 19, 5, 1, 31, 1, 11], [1, 15, 5, 12, 16, 29, 2, 14, 1, 11], [1, 2, 7, 1, 12, 9, 8, 4, 2, 1, 31, 1, 11]]\n"
     ]
    }
   ],
   "source": [
    "print(decoder_input[:3])\n",
    "print(decoder_target[:3])"
   ]
  },
  {
   "attachments": {},
   "cell_type": "markdown",
   "metadata": {},
   "source": [
    "decoder_input 숫자 10(sos 토큰)으로 시작 11(eos 토큰)삭제  \n",
    "decoder_target 숫자 10(sos 토큰)으로 삭제 11(eos 토큰)로 끝남"
   ]
  },
  {
   "cell_type": "code",
   "execution_count": 13,
   "metadata": {},
   "outputs": [
    {
     "name": "stdout",
     "output_type": "stream",
     "text": [
      "영어 데이터의 크기(shape) : (50000, 21)\n",
      "프랑스어 입력데이터의 크기(shape) : (50000, 69)\n",
      "프랑스어 출력데이터의 크기(shape) : (50000, 69)\n"
     ]
    }
   ],
   "source": [
    "encoder_input = pad_sequences(encoder_input, maxlen = max_eng_seq_len, padding='post')\n",
    "decoder_input = pad_sequences(decoder_input, maxlen = max_fra_seq_len, padding='post')\n",
    "decoder_target = pad_sequences(decoder_target, maxlen = max_fra_seq_len, padding='post')\n",
    "print('영어 데이터의 크기(shape) :',np.shape(encoder_input))\n",
    "print('프랑스어 입력데이터의 크기(shape) :',np.shape(decoder_input))\n",
    "print('프랑스어 출력데이터의 크기(shape) :',np.shape(decoder_target))"
   ]
  },
  {
   "cell_type": "code",
   "execution_count": 14,
   "metadata": {},
   "outputs": [
    {
     "name": "stdout",
     "output_type": "stream",
     "text": [
      "영어 데이터의 크기(shape) : (50000, 21, 52)\n",
      "프랑스어 입력데이터의 크기(shape) : (50000, 69, 73)\n",
      "프랑스어 출력데이터의 크기(shape) : (50000, 69, 73)\n"
     ]
    }
   ],
   "source": [
    "encoder_input = to_categorical(encoder_input)\n",
    "decoder_input = to_categorical(decoder_input)\n",
    "decoder_target = to_categorical(decoder_target)\n",
    "print('영어 데이터의 크기(shape) :',np.shape(encoder_input))\n",
    "print('프랑스어 입력데이터의 크기(shape) :',np.shape(decoder_input))\n",
    "print('프랑스어 출력데이터의 크기(shape) :',np.shape(decoder_target))"
   ]
  },
  {
   "cell_type": "code",
   "execution_count": 15,
   "metadata": {},
   "outputs": [
    {
     "name": "stdout",
     "output_type": "stream",
     "text": [
      "영어 학습데이터의 크기(shape) : (50000, 21, 52)\n",
      "프랑스어 학습 입력데이터의 크기(shape) : (50000, 69, 73)\n",
      "프랑스어 학습 출력데이터의 크기(shape) : (50000, 69, 73)\n"
     ]
    }
   ],
   "source": [
    "n_of_val = 3000\n",
    "\n",
    "encoder_input_train = encoder_input[:-n_of_val]\n",
    "decoder_input_train = decoder_input[:-n_of_val]\n",
    "decoder_target_train = decoder_target[:-n_of_val]\n",
    "\n",
    "encoder_input_test = encoder_input[-n_of_val:]\n",
    "decoder_input_test = decoder_input[-n_of_val:]\n",
    "decoder_target_test = decoder_target[-n_of_val:]\n",
    "\n",
    "print('영어 학습데이터의 크기(shape) :',np.shape(encoder_input))\n",
    "print('프랑스어 학습 입력데이터의 크기(shape) :',np.shape(decoder_input))\n",
    "print('프랑스어 학습 출력데이터의 크기(shape) :',np.shape(decoder_target))"
   ]
  },
  {
   "attachments": {},
   "cell_type": "markdown",
   "metadata": {},
   "source": [
    "## 1.2 모델 학습\n"
   ]
  },
  {
   "cell_type": "code",
   "execution_count": 16,
   "metadata": {},
   "outputs": [],
   "source": [
    "from keras.layers import Input, LSTM, Embedding, Dense\n",
    "from keras.models import Model"
   ]
  },
  {
   "attachments": {},
   "cell_type": "markdown",
   "metadata": {},
   "source": [
    "인코더 설계: LSTM의 마지막 time step의 hidden state와 cell state를 디코더 LSTM의 첫번째 hidden state와 cell state로 전달해준다."
   ]
  },
  {
   "cell_type": "code",
   "execution_count": 17,
   "metadata": {},
   "outputs": [],
   "source": [
    "# 입력 텐서 생성\n",
    "encoder_inputs = Input(shape=(None, eng_vocab_size))\n",
    "\n",
    "# hidden size가 256인 인코더의 LSTM 셀 생성\n",
    "encoder_lstm = LSTM(units=256, return_state=True)\n",
    "\n",
    "# 디코더로 전달할 hidden state, cell state를 리턴. encoder outputs는 여기서 불필요함.\n",
    "encoder_outputs, state_h, state_c = encoder_lstm(encoder_inputs)\n",
    "\n",
    "# hidden state와 cell state를 다음 time step으로 전달하기 위해서 별도 저장.\n",
    "encoder_states = [state_h, state_c]"
   ]
  },
  {
   "attachments": {},
   "cell_type": "markdown",
   "metadata": {},
   "source": [
    "디코더 설계: 동일"
   ]
  },
  {
   "cell_type": "code",
   "execution_count": 18,
   "metadata": {},
   "outputs": [],
   "source": [
    "# 입력 텐서 생성\n",
    "decoder_inputs = Input(shape=(None, fra_vocab_size))\n",
    "\n",
    "# hidden 256 인코더 lstm 셀 생성\n",
    "decoder_lstm = LSTM(units=256, return_sequences=True, return_state=True)\n",
    "\n",
    "# decoder_outputs는 모든 time step의 hidden state\n",
    "decoder_outputs, _, _ = decoder_lstm(decoder_inputs, initial_state=encoder_states)"
   ]
  },
  {
   "attachments": {},
   "cell_type": "markdown",
   "metadata": {},
   "source": [
    "디코더 출력층 설계: 매 time step마다 다중 클래스 분류 문제이므로 프랑스어 단어장으로부터 한가지 문자만 선택하도록"
   ]
  },
  {
   "cell_type": "code",
   "execution_count": 19,
   "metadata": {},
   "outputs": [],
   "source": [
    "decoder_softmax_layer = Dense(fra_vocab_size, activation='softmax')\n",
    "decoder_outputs = decoder_softmax_layer(decoder_outputs)"
   ]
  },
  {
   "attachments": {},
   "cell_type": "markdown",
   "metadata": {},
   "source": [
    "모델 정의"
   ]
  },
  {
   "cell_type": "code",
   "execution_count": 20,
   "metadata": {},
   "outputs": [
    {
     "name": "stdout",
     "output_type": "stream",
     "text": [
      "Model: \"model\"\n",
      "__________________________________________________________________________________________________\n",
      "Layer (type)                    Output Shape         Param #     Connected to                     \n",
      "==================================================================================================\n",
      "input_1 (InputLayer)            [(None, None, 52)]   0                                            \n",
      "__________________________________________________________________________________________________\n",
      "input_2 (InputLayer)            [(None, None, 73)]   0                                            \n",
      "__________________________________________________________________________________________________\n",
      "lstm (LSTM)                     [(None, 256), (None, 316416      input_1[0][0]                    \n",
      "__________________________________________________________________________________________________\n",
      "lstm_1 (LSTM)                   [(None, None, 256),  337920      input_2[0][0]                    \n",
      "                                                                 lstm[0][1]                       \n",
      "                                                                 lstm[0][2]                       \n",
      "__________________________________________________________________________________________________\n",
      "dense (Dense)                   (None, None, 73)     18761       lstm_1[0][0]                     \n",
      "==================================================================================================\n",
      "Total params: 673,097\n",
      "Trainable params: 673,097\n",
      "Non-trainable params: 0\n",
      "__________________________________________________________________________________________________\n"
     ]
    }
   ],
   "source": [
    "model = Model([encoder_inputs, decoder_inputs], decoder_outputs)\n",
    "model.compile(optimizer='rmsprop', loss='categorical_crossentropy')\n",
    "model.summary()"
   ]
  },
  {
   "attachments": {},
   "cell_type": "markdown",
   "metadata": {},
   "source": [
    "pydot을 설치, graphviz는 conda install로 설치"
   ]
  },
  {
   "cell_type": "code",
   "execution_count": 22,
   "metadata": {},
   "outputs": [
    {
     "data": {
      "image/png": "[encoded data removed]",
      "text/plain": [
       "<IPython.core.display.Image object>"
      ]
     },
     "execution_count": 22,
     "metadata": {},
     "output_type": "execute_result"
    }
   ],
   "source": [
    "plot_model(model, expand_nested=True, show_shapes=True)"
   ]
  },
  {
   "cell_type": "code",
   "execution_count": 23,
   "metadata": {},
   "outputs": [
    {
     "name": "stdout",
     "output_type": "stream",
     "text": [
      "Epoch 1/50\n",
      "368/368 [==============================] - 6s 8ms/step - loss: 0.9519 - val_loss: 0.8274\n",
      "Epoch 2/50\n",
      "368/368 [==============================] - 2s 6ms/step - loss: 0.5890 - val_loss: 0.6765\n",
      "Epoch 3/50\n",
      "368/368 [==============================] - 2s 6ms/step - loss: 0.4877 - val_loss: 0.5968\n",
      "Epoch 4/50\n",
      "368/368 [==============================] - 2s 6ms/step - loss: 0.4256 - val_loss: 0.5361\n",
      "Epoch 5/50\n",
      "368/368 [==============================] - 2s 6ms/step - loss: 0.3847 - val_loss: 0.4921\n",
      "Epoch 6/50\n",
      "368/368 [==============================] - 2s 6ms/step - loss: 0.3557 - val_loss: 0.4653\n",
      "Epoch 7/50\n",
      "368/368 [==============================] - 2s 6ms/step - loss: 0.3335 - val_loss: 0.4517\n",
      "Epoch 8/50\n",
      "368/368 [==============================] - 2s 6ms/step - loss: 0.3160 - val_loss: 0.4272\n",
      "Epoch 9/50\n",
      "368/368 [==============================] - 2s 6ms/step - loss: 0.3016 - val_loss: 0.4234\n",
      "Epoch 10/50\n",
      "368/368 [==============================] - 2s 6ms/step - loss: 0.2896 - val_loss: 0.4053\n",
      "Epoch 11/50\n",
      "368/368 [==============================] - 2s 6ms/step - loss: 0.2791 - val_loss: 0.4073\n",
      "Epoch 12/50\n",
      "368/368 [==============================] - 2s 6ms/step - loss: 0.2703 - val_loss: 0.3942\n",
      "Epoch 13/50\n",
      "368/368 [==============================] - 2s 6ms/step - loss: 0.2621 - val_loss: 0.3896\n",
      "Epoch 14/50\n",
      "368/368 [==============================] - 2s 6ms/step - loss: 0.2550 - val_loss: 0.3885\n",
      "Epoch 15/50\n",
      "368/368 [==============================] - 2s 6ms/step - loss: 0.2483 - val_loss: 0.3825\n",
      "Epoch 16/50\n",
      "368/368 [==============================] - 2s 6ms/step - loss: 0.2424 - val_loss: 0.3750\n",
      "Epoch 17/50\n",
      "368/368 [==============================] - 2s 6ms/step - loss: 0.2368 - val_loss: 0.3766\n",
      "Epoch 18/50\n",
      "368/368 [==============================] - 2s 6ms/step - loss: 0.2316 - val_loss: 0.3778\n",
      "Epoch 19/50\n",
      "368/368 [==============================] - 2s 6ms/step - loss: 0.2268 - val_loss: 0.3760\n",
      "Epoch 20/50\n",
      "368/368 [==============================] - 2s 6ms/step - loss: 0.2223 - val_loss: 0.3737\n",
      "Epoch 21/50\n",
      "368/368 [==============================] - 2s 6ms/step - loss: 0.2178 - val_loss: 0.3709\n",
      "Epoch 22/50\n",
      "368/368 [==============================] - 2s 6ms/step - loss: 0.2137 - val_loss: 0.3746\n",
      "Epoch 23/50\n",
      "368/368 [==============================] - 2s 6ms/step - loss: 0.2098 - val_loss: 0.3758\n",
      "Epoch 24/50\n",
      "368/368 [==============================] - 2s 6ms/step - loss: 0.2062 - val_loss: 0.3719\n",
      "Epoch 25/50\n",
      "368/368 [==============================] - 2s 6ms/step - loss: 0.2024 - val_loss: 0.3701\n",
      "Epoch 26/50\n",
      "368/368 [==============================] - 2s 7ms/step - loss: 0.1990 - val_loss: 0.3773\n",
      "Epoch 27/50\n",
      "368/368 [==============================] - 2s 6ms/step - loss: 0.1957 - val_loss: 0.3753\n",
      "Epoch 28/50\n",
      "368/368 [==============================] - 2s 7ms/step - loss: 0.1927 - val_loss: 0.3740\n",
      "Epoch 29/50\n",
      "368/368 [==============================] - 2s 7ms/step - loss: 0.1894 - val_loss: 0.3776\n",
      "Epoch 30/50\n",
      "368/368 [==============================] - 2s 6ms/step - loss: 0.1867 - val_loss: 0.3770\n",
      "Epoch 31/50\n",
      "368/368 [==============================] - 2s 6ms/step - loss: 0.1837 - val_loss: 0.3790\n",
      "Epoch 32/50\n",
      "368/368 [==============================] - 2s 6ms/step - loss: 0.1812 - val_loss: 0.3789\n",
      "Epoch 33/50\n",
      "368/368 [==============================] - 2s 6ms/step - loss: 0.1785 - val_loss: 0.3854\n",
      "Epoch 34/50\n",
      "368/368 [==============================] - 2s 6ms/step - loss: 0.1759 - val_loss: 0.3837\n",
      "Epoch 35/50\n",
      "368/368 [==============================] - 2s 6ms/step - loss: 0.1735 - val_loss: 0.3849\n",
      "Epoch 36/50\n",
      "368/368 [==============================] - 2s 6ms/step - loss: 0.1711 - val_loss: 0.3886\n",
      "Epoch 37/50\n",
      "368/368 [==============================] - 2s 6ms/step - loss: 0.1688 - val_loss: 0.3912\n",
      "Epoch 38/50\n",
      "368/368 [==============================] - 2s 6ms/step - loss: 0.1667 - val_loss: 0.3915\n",
      "Epoch 39/50\n",
      "368/368 [==============================] - 2s 6ms/step - loss: 0.1645 - val_loss: 0.3934\n",
      "Epoch 40/50\n",
      "368/368 [==============================] - 2s 7ms/step - loss: 0.1625 - val_loss: 0.3991\n",
      "Epoch 41/50\n",
      "368/368 [==============================] - 2s 6ms/step - loss: 0.1603 - val_loss: 0.3984\n",
      "Epoch 42/50\n",
      "368/368 [==============================] - 2s 6ms/step - loss: 0.1583 - val_loss: 0.3978\n",
      "Epoch 43/50\n",
      "368/368 [==============================] - 2s 7ms/step - loss: 0.1564 - val_loss: 0.4051\n",
      "Epoch 44/50\n",
      "368/368 [==============================] - 2s 6ms/step - loss: 0.1546 - val_loss: 0.4065\n",
      "Epoch 45/50\n",
      "368/368 [==============================] - 2s 6ms/step - loss: 0.1526 - val_loss: 0.4040\n",
      "Epoch 46/50\n",
      "368/368 [==============================] - 2s 6ms/step - loss: 0.1510 - val_loss: 0.4086\n",
      "Epoch 47/50\n",
      "368/368 [==============================] - 2s 7ms/step - loss: 0.1492 - val_loss: 0.4155\n",
      "Epoch 48/50\n",
      "368/368 [==============================] - 2s 7ms/step - loss: 0.1476 - val_loss: 0.4168\n",
      "Epoch 49/50\n",
      "368/368 [==============================] - 2s 6ms/step - loss: 0.1460 - val_loss: 0.4171\n",
      "Epoch 50/50\n",
      "368/368 [==============================] - 2s 6ms/step - loss: 0.1443 - val_loss: 0.4198\n"
     ]
    },
    {
     "data": {
      "text/plain": [
       "<keras.callbacks.History at 0x17b93e263a0>"
      ]
     },
     "execution_count": 23,
     "metadata": {},
     "output_type": "execute_result"
    }
   ],
   "source": [
    "model.fit(x=[encoder_input_train, decoder_input_train], y=decoder_target_train,\n",
    "          validation_data = ([encoder_input_test, decoder_input_test], decoder_target_test),\n",
    "          batch_size=128, epochs=50)"
   ]
  },
  {
   "attachments": {},
   "cell_type": "markdown",
   "metadata": {},
   "source": [
    "## 1.3 모델 테스트"
   ]
  },
  {
   "attachments": {},
   "cell_type": "markdown",
   "metadata": {},
   "source": [
    "* seq2seq는 훈련단계와 테스트 단계의 동작이 다르다. 이를 위해 테스트 단계의 디코더 모델은 설계를 다시 해줄 필요가 있다.  \n",
    "* 훈련 시에는 학습해야 할 타겟 문장을 디코더 모델의 입력, 출력 시퀀스로 넣어주고, 디코더 모델이 타겟 문장을 한꺼번에 출력하게 할 수 있다. 하지만 테스트 단계에서는 하나의 문장을 만들어내기 위해 루프를 돌며 단어를 하나씩 차례차례 예측하면서, 예측된 단어가 다음 입력으로 재사용되는 과정이 반복되기 때문이다.\n",
    "정리하자면 다음과 같다:  \n",
    "1. 인코더에 입력 문장을 넣어서 마지막 time step의 hidden, cell state를 얻는다.\n",
    "2. $\\texttt{<sos>}$ 토큰인 '\\t'를 디코더에 입력한다.\n",
    "3. 이전 time step의 출력층의 예측 결과를 현재 time step의 입력으로 한다.\n",
    "4. 3을 반복하다가 $\\texttt{<eos>}$ 토큰인 '\\n'이 예측되면 이를 중단한다."
   ]
  },
  {
   "cell_type": "code",
   "execution_count": 40,
   "metadata": {},
   "outputs": [
    {
     "name": "stdout",
     "output_type": "stream",
     "text": [
      "Model: \"model_3\"\n",
      "_________________________________________________________________\n",
      "Layer (type)                 Output Shape              Param #   \n",
      "=================================================================\n",
      "input_1 (InputLayer)         [(None, None, 52)]        0         \n",
      "_________________________________________________________________\n",
      "lstm (LSTM)                  [(None, 256), (None, 256) 316416    \n",
      "=================================================================\n",
      "Total params: 316,416\n",
      "Trainable params: 316,416\n",
      "Non-trainable params: 0\n",
      "_________________________________________________________________\n"
     ]
    }
   ],
   "source": [
    "# 인코더 정의\n",
    "encoder_model = Model(inputs = encoder_inputs, outputs = encoder_states)\n",
    "encoder_model.summary()"
   ]
  },
  {
   "attachments": {},
   "cell_type": "markdown",
   "metadata": {},
   "source": [
    "디코더 설계"
   ]
  },
  {
   "cell_type": "code",
   "execution_count": 48,
   "metadata": {},
   "outputs": [],
   "source": [
    "# 이전 time step의 states 저장\n",
    "decoder_state_input_h = Input(shape=(256, ))\n",
    "decoder_state_input_c = Input(shape=(256, ))\n",
    "decoder_states_inputs = [decoder_state_input_h, decoder_state_input_c]\n",
    "\n",
    "# decoder state의 초깃값으로 이전 step 사용\n",
    "decoder_outputs, state_h, state_c = decoder_lstm(decoder_inputs, initial_state=decoder_states_inputs)\n",
    "decoder_states = [state_h, state_c]"
   ]
  },
  {
   "cell_type": "code",
   "execution_count": 49,
   "metadata": {},
   "outputs": [
    {
     "name": "stdout",
     "output_type": "stream",
     "text": [
      "Model: \"model_5\"\n",
      "__________________________________________________________________________________________________\n",
      "Layer (type)                    Output Shape         Param #     Connected to                     \n",
      "==================================================================================================\n",
      "input_2 (InputLayer)            [(None, None, 73)]   0                                            \n",
      "__________________________________________________________________________________________________\n",
      "input_7 (InputLayer)            [(None, 256)]        0                                            \n",
      "__________________________________________________________________________________________________\n",
      "input_8 (InputLayer)            [(None, 256)]        0                                            \n",
      "__________________________________________________________________________________________________\n",
      "lstm_1 (LSTM)                   [(None, None, 256),  337920      input_2[0][0]                    \n",
      "                                                                 input_7[0][0]                    \n",
      "                                                                 input_8[0][0]                    \n",
      "__________________________________________________________________________________________________\n",
      "dense (Dense)                   (None, None, 73)     18761       lstm_1[3][0]                     \n",
      "==================================================================================================\n",
      "Total params: 356,681\n",
      "Trainable params: 356,681\n",
      "Non-trainable params: 0\n",
      "__________________________________________________________________________________________________\n"
     ]
    }
   ],
   "source": [
    "decoder_outputs = decoder_softmax_layer(decoder_outputs)\n",
    "decoder_model = Model(inputs=[decoder_inputs] + decoder_states_inputs, outputs=[decoder_outputs] + decoder_states)\n",
    "decoder_model.summary()"
   ]
  },
  {
   "cell_type": "code",
   "execution_count": 43,
   "metadata": {},
   "outputs": [],
   "source": [
    "eng2idx = eng_tokenizer.word_index\n",
    "fra2idx = fra_tokenizer.word_index\n",
    "idx2eng = eng_tokenizer.index_word\n",
    "idx2fra = fra_tokenizer.index_word"
   ]
  },
  {
   "cell_type": "code",
   "execution_count": 50,
   "metadata": {},
   "outputs": [],
   "source": [
    "def decode_sequence(input_seq):\n",
    "    # 입력으로부터 인코더의 상태를 얻음\n",
    "    states_value = encoder_model.predict(input_seq)\n",
    "\n",
    "    # <SOS>에 해당하는 원-핫 벡터 생성\n",
    "    target_seq = np.zeros((1, 1, fra_vocab_size))\n",
    "    target_seq[0, 0, fra2idx['\\t']] = 1.\n",
    "\n",
    "    stop_condition = False\n",
    "    decoded_sentence = \"\"\n",
    "\n",
    "    # stop_condition이 True가 될 때까지 루프 반복\n",
    "    while not stop_condition:\n",
    "        # 이점 시점의 상태 states_value를 현 시점의 초기 상태로 사용\n",
    "        output_tokens, h, c = decoder_model.predict([target_seq] + states_value)\n",
    "\n",
    "        # 예측 결과를 문자로 변환\n",
    "        sampled_token_index = np.argmax(output_tokens[0, -1, :])\n",
    "        sampled_char = idx2fra[sampled_token_index]\n",
    "\n",
    "        # 현재 시점의 예측 문자를 예측 문장에 추가\n",
    "        decoded_sentence += sampled_char\n",
    "\n",
    "        # <eos>에 도달하거나 최대 길이를 넘으면 중단.\n",
    "        if (sampled_char == '\\n' or\n",
    "           len(decoded_sentence) > max_fra_seq_len):\n",
    "            stop_condition = True\n",
    "\n",
    "        # 현재 시점의 예측 결과를 다음 시점의 입력으로 사용하기 위해 저장\n",
    "        target_seq = np.zeros((1, 1, fra_vocab_size))\n",
    "        target_seq[0, 0, sampled_token_index] = 1.\n",
    "\n",
    "        # 현재 시점의 상태를 다음 시점의 상태로 사용하기 위해 저장\n",
    "        states_value = [h, c]\n",
    "\n",
    "    return decoded_sentence"
   ]
  },
  {
   "cell_type": "code",
   "execution_count": 51,
   "metadata": {},
   "outputs": [
    {
     "name": "stdout",
     "output_type": "stream",
     "text": [
      "-----------------------------------\n",
      "입력 문장: Go.\n",
      "정답 문장:  Bouge ! \n",
      "번역기가 번역한 문장:  sortez. \n",
      "-----------------------------------\n",
      "입력 문장: Hello!\n",
      "정답 문장:  Bonjour ! \n",
      "번역기가 번역한 문장:  salut ! \n",
      "-----------------------------------\n",
      "입력 문장: Got it!\n",
      "정답 문장:  Compris ! \n",
      "번역기가 번역한 문장:  cagne ! \n",
      "-----------------------------------\n",
      "입력 문장: Goodbye.\n",
      "정답 문장:  Au revoir. \n",
      "번역기가 번역한 문장:  salutite. \n",
      "-----------------------------------\n",
      "입력 문장: Hands off.\n",
      "정답 문장:  Pas touche ! \n",
      "번역기가 번역한 문장:  pas touche. \n"
     ]
    }
   ],
   "source": [
    "import numpy as np\n",
    "for seq_index in [3,50,100,300,1001]: # 입력 문장의 인덱스 (자유롭게 선택해 보세요)\n",
    "    input_seq = encoder_input[seq_index: seq_index + 1]\n",
    "    decoded_sentence = decode_sequence(input_seq)\n",
    "    print(35 * \"-\")\n",
    "    print('입력 문장:', lines.eng[seq_index])\n",
    "    print('정답 문장:', lines.fra[seq_index][1:len(lines.fra[seq_index])-1]) # '\\t'와 '\\n'을 빼고 출력\n",
    "    print('번역기가 번역한 문장:', decoded_sentence[:len(decoded_sentence)-1]) # '\\n'을 빼고 출력"
   ]
  }
 ],
 "metadata": {
  "kernelspec": {
   "display_name": "datascience",
   "language": "python",
   "name": "python3"
  },
  "language_info": {
   "codemirror_mode": {
    "name": "ipython",
    "version": 3
   },
   "file_extension": ".py",
   "mimetype": "text/x-python",
   "name": "python",
   "nbconvert_exporter": "python",
   "pygments_lexer": "ipython3",
   "version": "3.9.16"
  },
  "orig_nbformat": 4
 },
 "nbformat": 4,
 "nbformat_minor": 2
}
