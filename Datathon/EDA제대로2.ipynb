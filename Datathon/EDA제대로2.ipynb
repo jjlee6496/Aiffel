{
  "cells": [
    {
      "cell_type": "code",
      "execution_count": null,
      "metadata": {
        "id": "IBDW7P9mZd2k"
      },
      "outputs": [],
      "source": [
        "import os\n",
        "import pandas as pd\n",
        "\n",
        "import seaborn as sns\n",
        "import matplotlib.pyplot as plt\n",
        "\n",
        "from mpl_toolkits.mplot3d import Axes3D\n",
        "from mpl_toolkits.mplot3d import proj3d\n",
        "\n",
        "from sklearn.preprocessing import StandardScaler\n",
        "\n",
        "import umap\n",
        "import umap.plot\n",
        "\n",
        "import warnings\n",
        "warnings.filterwarnings('ignore')\n",
        "\n",
        "from bokeh.plotting import figure, show, output_notebook\n",
        "from bokeh.models import HoverTool, ColumnDataSource, CategoricalColorMapper\n",
        "from bokeh.palettes import Spectral10"
      ]
    },
    {
      "cell_type": "markdown",
      "metadata": {
        "id": "qRWQ2KGiZd2p"
      },
      "source": [
        "# 파일경로 설정"
      ]
    },
    {
      "cell_type": "code",
      "execution_count": null,
      "metadata": {
        "id": "IBdUL7dtZd2r"
      },
      "outputs": [],
      "source": [
        "# data_path = os.path.join(os.getcwd(),'data')\n",
        "# files = os.listdir(data_path)[:-1]\n",
        "\n",
        "# aisles = pd.read_csv(os.path.join(data_path,files[0]), engine='pyarrow') # (134, 2)\n",
        "# departments = pd.read_csv(os.path.join(data_path,files[1]), engine='pyarrow') # (21, 2)\n",
        "# orders = pd.read_csv(os.path.join(data_path,files[2]), engine='pyarrow') # (3421083, 7)\n",
        "# orders_products_prior = pd.read_csv(os.path.join(data_path,files[3]),engine='pyarrow') # (32434489, 4)\n",
        "# orders_products_train = pd.read_csv(os.path.join(data_path,files[4]),engine='pyarrow') # (1384617, 4)\n",
        "# products = pd.read_csv(os.path.join(data_path,files[5]),engine='pyarrow') # (49688, 4)"
      ]
    },
    {
      "cell_type": "markdown",
      "metadata": {
        "id": "9dT7wfJ3Zd2s"
      },
      "source": [
        "데이터 설명\n",
        "* aisles - 통로(코너, 냉동 department의 어류 이런 세부종류?) aisleid, aisle\n",
        "* departments - department종류(냉동식품 등)  department id, department\n",
        "* orders - userid, eval_set(prior, train, test), 주문번호, 주문요일?, 주문시간대, since prior order\n",
        "* order_products_* - orderid, 상품id, add to cart order, reorderd(재주문 여부, none은 0으로)\n",
        "* products - 상품id, 상품명, aisleid, departmentid"
      ]
    },
    {
      "cell_type": "markdown",
      "metadata": {
        "id": "zgudtNBkZd2t"
      },
      "source": [
        "# 분석용 전체 데이터 생성"
      ]
    },
    {
      "cell_type": "code",
      "execution_count": null,
      "metadata": {
        "id": "i5bypbCQZd2t"
      },
      "outputs": [],
      "source": [
        "# prior = orders[orders['eval_set']== 'prior']\n",
        "# train = orders[orders['eval_set'] == 'train']\n",
        "# test = orders[orders['eval_set'] == 'test']\n",
        "# del train['eval_set'], test['eval_set'], prior['eval_set']\n",
        "\n",
        "# temp = orders_products_train.set_index('order_id')\n",
        "# orders_train = pd.merge(temp, train, on='order_id')\n",
        "\n",
        "# temp = orders_products_prior.set_index('order_id')\n",
        "# orders_prior = pd.merge(temp, prior, on='order_id')\n",
        "\n",
        "# total_orders = pd.concat([orders_prior, orders_train])\n",
        "# temp = pd.merge(total_orders,products , on='product_id')\n",
        "# temp = pd.merge(temp, aisles, on='aisle_id')\n",
        "# temp = pd.merge(temp, departments, on='department_id')\n",
        "\n",
        "# total_orders.to_parquet('total_orders.parquet', index=False)"
      ]
    },
    {
      "cell_type": "markdown",
      "metadata": {
        "id": "WkC-vpMdZd2u"
      },
      "source": [
        "# 분석"
      ]
    },
    {
      "cell_type": "code",
      "execution_count": null,
      "metadata": {
        "id": "KGgoCf_aZd2u"
      },
      "outputs": [],
      "source": [
        "total_orders = pd.read_parquet('/content/drive/MyDrive/total_orders.parquet',engine='fastparquet')"
      ]
    },
    {
      "cell_type": "code",
      "execution_count": null,
      "metadata": {
        "colab": {
          "base_uri": "https://localhost:8080/",
          "height": 357
        },
        "id": "FSvwxCIYZd2v",
        "outputId": "a259a564-a861-42f0-9178-1a0b054378d1"
      },
      "outputs": [],
      "source": [
        "total_orders.head()"
      ]
    },
    {
      "cell_type": "markdown",
      "metadata": {
        "id": "F9YEt-AkZd2v"
      },
      "source": [
        "## 기본 분석"
      ]
    },
    {
      "cell_type": "code",
      "execution_count": null,
      "metadata": {
        "id": "a8BzRNISZd2w"
      },
      "outputs": [],
      "source": []
    },
    {
      "cell_type": "markdown",
      "metadata": {
        "id": "Vqoh8DXGZd2w"
      },
      "source": [
        "## 군집화\n",
        "재구매율을 통해 고객 군집화를 통한 고객 segmentation"
      ]
    },
    {
      "cell_type": "markdown",
      "metadata": {
        "id": "UBmCmJ6jZd2x"
      },
      "source": [
        "### user_id 기준(한 사람이 여러번 주문한것을 한번에 처리)"
      ]
    },
    {
      "cell_type": "code",
      "execution_count": null,
      "metadata": {
        "id": "vIGQQaLbZd2x"
      },
      "outputs": [],
      "source": [
        "# 전처리 코드 모음\n",
        "# temp=total_orders.groupby(['user_id']).agg({'reordered':'sum', 'user_id':'count'}).rename(columns={'user_id':'count'}).reset_index()\n",
        "# temp['reorder_ratio'] = temp['reordered'] / temp['count']\n",
        "# temp['class'] = pd.qcut(temp['reorder_ratio'],[0,0.25,0.5,0.75,1], labels=[4,3,2,1])\n",
        "\n",
        "\n",
        "# tab1 = pd.crosstab(total_orders['user_id'], total_orders['aisle'])\n",
        "# label_table = temp[['user_id','class']]\n",
        "# tab1 = pd.merge(tab1,label_table, on='user_id')\n",
        "\n",
        "# order_list = total_orders.groupby(['user_id']).product_name.apply(list).reset_index(name='order_list').set_index('user_id')['order_list']\n",
        "# table = pd.merge(tab1, order_list, on='user_id')\n",
        "# table.to_parquet('table.parquet',index=False)\n",
        "table = pd.read_parquet('table.parquet',engine='fastparquet')\n",
        "label1, order_list = table['class'], table['order_list']\n",
        "tab1 = table.drop(['class', 'order_list'], axis=1)"
      ]
    },
    {
      "cell_type": "code",
      "execution_count": null,
      "metadata": {
        "id": "knjpbQnGZd2y",
        "outputId": "b84299a7-e285-4eeb-b85c-536a39d037ae"
      },
      "outputs": [],
      "source": [
        "temp=total_orders.groupby(['user_id']).agg({'reordered':'sum', 'user_id':'count'}).rename(columns={'user_id':'count'}).reset_index()\n",
        "temp['reorder_ratio'] = temp['reordered'] / temp['count']\n",
        "temp.head()\n"
      ]
    },
    {
      "cell_type": "code",
      "execution_count": null,
      "metadata": {
        "id": "mmveNYt3Zd2y",
        "outputId": "50ebefd2-1fd5-451d-fb2c-3b74319487c3"
      },
      "outputs": [],
      "source": [
        "sns.histplot(temp['reorder_ratio'])"
      ]
    },
    {
      "cell_type": "code",
      "execution_count": null,
      "metadata": {
        "id": "HyTnbFrSZd2y"
      },
      "outputs": [],
      "source": [
        "temp['class'] = pd.qcut(temp['reorder_ratio'],[0,0.25,0.5,0.75,1], labels=[4,3,2,1])"
      ]
    },
    {
      "cell_type": "code",
      "execution_count": null,
      "metadata": {
        "id": "F7wwlpPlZd2z",
        "outputId": "1c8c3143-4e0b-4e14-d729-71faae230758"
      },
      "outputs": [],
      "source": [
        "# 재구매율 기준 \n",
        "temp['class'].value_counts().plot(kind='bar')"
      ]
    },
    {
      "cell_type": "markdown",
      "metadata": {
        "id": "N_db4exZZd2z"
      },
      "source": [
        "#### aisle(중분류 기준)"
      ]
    },
    {
      "cell_type": "code",
      "execution_count": null,
      "metadata": {
        "id": "lu8EuKVfZd2z"
      },
      "outputs": [],
      "source": [
        "tab1 = pd.crosstab(total_orders['user_id'], total_orders['aisle'])\n",
        "label_table = temp[['user_id','class']]\n",
        "label1 = pd.merge(tab1,label_table, on='user_id')['class']"
      ]
    },
    {
      "cell_type": "markdown",
      "metadata": {
        "id": "uo7WwPc9Zd20"
      },
      "source": [
        "#### department(대분류 기준)"
      ]
    },
    {
      "cell_type": "code",
      "execution_count": null,
      "metadata": {
        "id": "YPfEJghkZd20"
      },
      "outputs": [],
      "source": [
        "tab2 = pd.crosstab(total_orders['user_id'], total_orders['department'])\n",
        "label_table = temp[['user_id','class']]\n",
        "label2 = pd.merge(tab2,label_table, on='user_id')['class']"
      ]
    },
    {
      "cell_type": "markdown",
      "metadata": {
        "id": "5EcyyDYZZd20"
      },
      "source": [
        "### Umap 적용"
      ]
    },
    {
      "cell_type": "markdown",
      "metadata": {
        "id": "BGrIk5XZheU9"
      },
      "source": [
        "소분류 사용"
      ]
    },
    {
      "cell_type": "code",
      "execution_count": null,
      "metadata": {
        "id": "ktRj8AG2Zd21"
      },
      "outputs": [],
      "source": [
        "scaled_tab1 = StandardScaler().fit_transform(tab1.drop['user_id'])\n",
        "embedding1 = umap.UMAP(random_state=42).fit(scaled_tab1) \n",
        "                    #   n_neighbors=10,\n",
        "                    #   min_dist=0.2,\n",
        "                    #   metric='correlation'# 인자 공부....?"
      ]
    },
    {
      "cell_type": "code",
      "execution_count": null,
      "metadata": {
        "colab": {
          "base_uri": "https://localhost:8080/",
          "height": 653
        },
        "id": "GXbZiCRrZd21",
        "outputId": "e6caabe2-743f-44b2-baf6-81b1732c2f9e"
      },
      "outputs": [],
      "source": [
        "umap.plot.points(embedding1, label1, theme='fire')\n",
        "# class, user_id, order_id 구매목록 뜨게하기?"
      ]
    },
    {
      "cell_type": "code",
      "execution_count": null,
      "metadata": {
        "id": "QGIjuUAjXGgA"
      },
      "outputs": [],
      "source": [
        "scaled_tab1 = StandardScaler().fit_transform(tab1)\n",
        "mapper = umap.UMAP(random_state=42).fit(scaled_tab1[:50000])"
      ]
    },
    {
      "cell_type": "code",
      "execution_count": null,
      "metadata": {
        "colab": {
          "base_uri": "https://localhost:8080/",
          "height": 17
        },
        "id": "e-L6TdozXVi5",
        "outputId": "fb3799f0-2fdb-42f5-adfb-e54adfdfcf15"
      },
      "outputs": [],
      "source": [
        "umap.plot.output_notebook()\n",
        "hover_data = pd.DataFrame({'User':df['user_id'][:50000],\n",
        "                           'Ordered':df['order_list'][:50000]})\n",
        "\n",
        "\n",
        "p = umap.plot.interactive(mapper, labels=df['class'][:50000], hover_data=hover_data, point_size=2)\n",
        "umap.plot.show(p)"
      ]
    },
    {
      "cell_type": "markdown",
      "metadata": {
        "id": "4fI7iYRVhZdy"
      },
      "source": [
        "bokeh?"
      ]
    },
    {
      "cell_type": "code",
      "execution_count": null,
      "metadata": {
        "id": "wlbwosrkzmHd"
      },
      "outputs": [],
      "source": [
        "scaled_tab1 = StandardScaler().fit_transform(tab1.drop('user_id', axis=1))\n",
        "embedding1 = umap.UMAP(random_state=42).fit_transform(scaled_tab1) "
      ]
    },
    {
      "cell_type": "code",
      "execution_count": null,
      "metadata": {
        "id": "iLyGINYzSDyV"
      },
      "outputs": [],
      "source": [
        "# df = pd.DataFrame(embedding1, columns = ('x','y'))\n",
        "# df['user_id'] = tab1['user_id']\n",
        "# df['class'] = label1\n",
        "# df['order_list'] = order_list\n",
        "# df.to_parquet('/content/drive/MyDrive/datasource.parquet',index=False)\n",
        "df = pd.read_parquet('datasource.parquet',engine='fastparquet')"
      ]
    },
    {
      "cell_type": "code",
      "execution_count": null,
      "metadata": {
        "id": "W-Ovh2lRPaFa"
      },
      "outputs": [],
      "source": [
        "scaled_tab1 = StandardScaler().fit_transform(tab1.drop('user_id', axis=1))\n",
        "embedding1_3 = umap.UMAP(random_state=42, n_components=3).fit_transform(scaled_tab1) "
      ]
    },
    {
      "cell_type": "code",
      "execution_count": null,
      "metadata": {
        "id": "dSOdurR8hccv"
      },
      "outputs": [],
      "source": [
        "# df = pd.DataFrame(embedding1_3, columns = ('x','y','z'))\n",
        "# df['user_id'] = tab1['user_id']\n",
        "# df['class'] = label1\n",
        "# df['order_list'] = order_list\n",
        "# df.to_parquet('datasource2.parquet',index=False)\n",
        "df = pd.read_parquet('datasource2.parquet',engine='fastparquet')"
      ]
    },
    {
      "cell_type": "code",
      "execution_count": null,
      "metadata": {
        "colab": {
          "base_uri": "https://localhost:8080/",
          "height": 423
        },
        "id": "4dPU9l3ISR7u",
        "outputId": "9f8fad59-cc0b-4c77-a6a9-4c7b950e18aa"
      },
      "outputs": [],
      "source": [
        "df"
      ]
    },
    {
      "cell_type": "code",
      "execution_count": null,
      "metadata": {
        "colab": {
          "base_uri": "https://localhost:8080/",
          "height": 17
        },
        "id": "tpL0Kdr9hcRq",
        "outputId": "4cbd54d6-918a-4590-869b-89438059643b"
      },
      "outputs": [],
      "source": [
        "datasource = ColumnDataSource(df)\n",
        "color_mapping = CategoricalColorMapper(factors=['Class1','Class2','Class3','Class4'],\n",
        "                                       palette=Spectral10)\n",
        "plot_figure = figure(\n",
        "    title='UMAP projection of the user-product',\n",
        "    plot_width=800,\n",
        "    plot_height=800,\n",
        "    tools=('pan, wheel_zoom, reset')\n",
        ")\n",
        "\n",
        "plot_figure.add_tools(HoverTool(names=['df'],tooltips=\"\"\"\n",
        "<div style=\"margin: 10\">\n",
        "    <div style=\"margin: 0 auto; width:300px;\">\n",
        "        <span style=\"font-size: 12px; font-weight: bold;\">User:</span>\n",
        "        <span style=\"font-size: 12px\">@user_id</span>\n",
        "        <span style=\"font-size: 12px; font-weight: bold;\">Ordered:</span>\n",
        "        <span style=\"font-size: 12px\">@order_list</span>\n",
        "    </div>\n",
        "</div>\n",
        "\"\"\"))\n",
        "\n",
        "plot_figure.circle(\n",
        "    'x',\n",
        "    'y',\n",
        "    source=datasource,\n",
        "    color=dict(field='class', transform=color_mapping),\n",
        "    line_alpha=0.6,\n",
        "    fill_alpha=0.6,\n",
        "    size=4,\n",
        "    name='df'\n",
        ")\n",
        "\n",
        "show(plot_figure)\n"
      ]
    },
    {
      "cell_type": "code",
      "execution_count": null,
      "metadata": {
        "colab": {
          "base_uri": "https://localhost:8080/",
          "height": 578
        },
        "id": "PWkbxerON-zI",
        "outputId": "de22cb20-7633-4b01-8c76-c5ec9f0a8801"
      },
      "outputs": [],
      "source": [
        "fig, ax = plt.subplots(figsize=(10,10))\n",
        "names = ['Class1','Class2','Class3','Class4']\n",
        "for i in range(4):\n",
        "    ax.scatter(df.loc[df['class']==i+1,'x'],\n",
        "               df.loc[df['class']==i+1,'y'],\n",
        "               cmap='tab10',marker='o',s=.5,\n",
        "               alpha=0.5,\n",
        "               label=names[i])\n",
        "\n",
        "ax.xaxis.set_ticklabels([])\n",
        "ax.yaxis.set_ticklabels([])\n",
        "ax.legend(loc='upper right',markerscale=5)\n",
        "ax.grid(True)\n",
        "\n",
        "plt.show()"
      ]
    },
    {
      "cell_type": "code",
      "execution_count": null,
      "metadata": {
        "colab": {
          "base_uri": "https://localhost:8080/",
          "height": 575
        },
        "id": "FUlGgMplN1kV",
        "outputId": "8ed3dee3-d268-4171-d40b-fb6948aab9a2"
      },
      "outputs": [],
      "source": [
        "fig = plt.figure(figsize=(10, 10))\n",
        "names = ['Class1','Class2','Class3','Class4']\n",
        "ax = fig.add_subplot(projection='3d')\n",
        "\n",
        "for i in range(4):\n",
        "    ax.scatter(df.loc[df['class']==i+1,'x'],\n",
        "               df.loc[df['class']==i+1,'y'],\n",
        "               df.loc[df['class']==i+1,'z'],\n",
        "               cmap='tab10',marker='o',s=.2,\n",
        "               alpha=0.5,label=names[i])\n",
        "    \n",
        "ax.xaxis.set_ticklabels([])\n",
        "ax.yaxis.set_ticklabels([])\n",
        "ax.zaxis.set_ticklabels([])\n",
        "ax.tick_params(color='0.8')\n",
        "ax.legend(loc='upper right',markerscale=3)\n",
        "ax.view_init(30,120)\n",
        "\n",
        "plt.tight_layout()\n",
        "plt.show()"
      ]
    },
    {
      "cell_type": "markdown",
      "metadata": {
        "id": "Y0tvqAWIhiyU"
      },
      "source": [
        "중분류 사용"
      ]
    },
    {
      "cell_type": "code",
      "execution_count": null,
      "metadata": {
        "id": "nXDRAbBNZd21"
      },
      "outputs": [],
      "source": [
        "scaled_tab2 = StandardScaler().fit_transform(tab2)\n",
        "embedding2 = umap.UMAP(random_state=42).fit(scaled_tab2) "
      ]
    },
    {
      "cell_type": "code",
      "execution_count": null,
      "metadata": {
        "id": "Rxm9rR8HZd22",
        "outputId": "406cf5c2-3b42-4222-f00c-6c27d1710593"
      },
      "outputs": [],
      "source": [
        "umap.plot.points(embedding2, label2, theme='fire')"
      ]
    },
    {
      "cell_type": "markdown",
      "metadata": {
        "id": "-7R3iN_PZd22"
      },
      "source": [
        "### order_id 기준(한 사람이 주문해도 다른 주문으로 처리)"
      ]
    },
    {
      "cell_type": "code",
      "execution_count": null,
      "metadata": {
        "id": "q8AANPaRZd22",
        "outputId": "fbf8d4e8-356e-4229-a00e-d5e5652b2a6a"
      },
      "outputs": [],
      "source": [
        "temp=total_orders.groupby(['order_id']).agg({'reordered':'sum', 'user_id':'count'}).rename(columns={'user_id':'count'}).reset_index()\n",
        "temp['reorder_ratio'] = temp['reordered'] / temp['count']\n",
        "temp.head()\n"
      ]
    },
    {
      "cell_type": "code",
      "execution_count": null,
      "metadata": {
        "id": "C-qzbzE2Zd23",
        "outputId": "bde35b1c-8742-45d3-83f6-ec97a04f52e1"
      },
      "outputs": [],
      "source": [
        "sns.histplot(temp['reorder_ratio'])"
      ]
    },
    {
      "cell_type": "code",
      "execution_count": null,
      "metadata": {
        "id": "Orwaf31fZd23",
        "outputId": "12c282bc-580e-4e11-d5aa-bb4c6f09ee0c"
      },
      "outputs": [],
      "source": [
        "# 재구매율 기준 \n",
        "temp['class'] = pd.qcut(temp['reorder_ratio'],[0,0.25,0.5,0.75,1], labels=[4,3,2,1])\n",
        "temp['class'].value_counts().plot(kind='bar')"
      ]
    },
    {
      "cell_type": "markdown",
      "metadata": {
        "id": "rvMr_RlHZd23"
      },
      "source": [
        "#### aisle(중분류 기준)"
      ]
    },
    {
      "cell_type": "code",
      "execution_count": null,
      "metadata": {
        "id": "CudCrx8QZd24",
        "outputId": "bf71fd58-477e-4ac3-f84a-ad2f2caad059"
      },
      "outputs": [],
      "source": [
        "tab1 = pd.crosstab(total_orders['order_id'], total_orders['aisle'])\n",
        "label_table = temp[['order_id','class']]\n",
        "label1 = pd.merge(tab1,label_table, on='order_id')['class']"
      ]
    },
    {
      "cell_type": "markdown",
      "metadata": {
        "id": "Ns7kFBjuZd24"
      },
      "source": [
        "#### department(대분류 기준)"
      ]
    },
    {
      "cell_type": "code",
      "execution_count": null,
      "metadata": {
        "id": "lKf1O2FeZd24"
      },
      "outputs": [],
      "source": [
        "tab2 = pd.crosstab(total_orders['order_id'], total_orders['department'])\n",
        "label_table = temp[['order_id','class']]\n",
        "label2 = pd.merge(tab2,label_table, on='order_id')['class']"
      ]
    },
    {
      "cell_type": "markdown",
      "metadata": {
        "id": "4yAgEIjwZd24"
      },
      "source": [
        "### Umap 적용"
      ]
    },
    {
      "cell_type": "code",
      "execution_count": null,
      "metadata": {
        "id": "IaI-jWANZd24"
      },
      "outputs": [],
      "source": [
        "scaled_tab1 = StandardScaler().fit_transform(tab1)\n",
        "embedding1 = umap.UMAP(random_state=42).fit(scaled_tab1) \n",
        "                    #   n_neighbors=10,\n",
        "                    #   min_dist=0.2,\n",
        "                    #   metric='correlation'# 인자 공부....?"
      ]
    },
    {
      "cell_type": "code",
      "execution_count": null,
      "metadata": {
        "id": "gwoJYRPMZd25"
      },
      "outputs": [],
      "source": [
        "umap.plot.points(embedding1, label1, theme='fire')"
      ]
    },
    {
      "cell_type": "code",
      "execution_count": null,
      "metadata": {
        "id": "1oVLB0ysZd25"
      },
      "outputs": [],
      "source": [
        "scaled_tab2 = StandardScaler().fit_transform(tab2)\n",
        "embedding2 = umap.UMAP(random_state=42).fit(scaled_tab2) "
      ]
    },
    {
      "cell_type": "code",
      "execution_count": null,
      "metadata": {
        "id": "7bBBycTUZd25"
      },
      "outputs": [],
      "source": [
        "umap.plot.points(embedding2, label2, theme='fire')"
      ]
    },
    {
      "cell_type": "code",
      "execution_count": null,
      "metadata": {
        "id": "-e2JQ3vtZd25"
      },
      "outputs": [],
      "source": [
        "labels = HDBSCAN(\n",
        "    min_samples=100,\n",
        "    min_cluster_size=1000\n",
        ").fit_predict(X_reduced) # 또는 임베딩을 군집화해서 라벨링\n",
        "\n",
        "mapper = UMAP(\n",
        "      random_state=42,\n",
        "      metric='euclidean',\n",
        "      n_components=2,\n",
        "      n_neighbors= 24,\n",
        "      min_dist=0.1).fit(X.drop('label', axis=1))"
      ]
    }
  ],
  "metadata": {
    "accelerator": "GPU",
    "colab": {
      "provenance": []
    },
    "gpuClass": "premium",
    "kernelspec": {
      "display_name": "Python 3",
      "language": "python",
      "name": "python3"
    },
    "language_info": {
      "codemirror_mode": {
        "name": "ipython",
        "version": 3
      },
      "file_extension": ".py",
      "mimetype": "text/x-python",
      "name": "python",
      "nbconvert_exporter": "python",
      "pygments_lexer": "ipython3",
      "version": "3.8.0"
    },
    "orig_nbformat": 4
  },
  "nbformat": 4,
  "nbformat_minor": 0
}
